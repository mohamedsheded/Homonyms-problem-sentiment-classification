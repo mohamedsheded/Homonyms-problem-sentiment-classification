{
  "nbformat": 4,
  "nbformat_minor": 0,
  "metadata": {
    "colab": {
      "provenance": [],
      "gpuType": "T4"
    },
    "kernelspec": {
      "name": "python3",
      "display_name": "Python 3"
    },
    "language_info": {
      "name": "python"
    },
    "accelerator": "GPU",
    "widgets": {
      "application/vnd.jupyter.widget-state+json": {
        "9d5fc9a7b2124226872996524fa72ed3": {
          "model_module": "@jupyter-widgets/controls",
          "model_name": "HBoxModel",
          "model_module_version": "1.5.0",
          "state": {
            "_dom_classes": [],
            "_model_module": "@jupyter-widgets/controls",
            "_model_module_version": "1.5.0",
            "_model_name": "HBoxModel",
            "_view_count": null,
            "_view_module": "@jupyter-widgets/controls",
            "_view_module_version": "1.5.0",
            "_view_name": "HBoxView",
            "box_style": "",
            "children": [
              "IPY_MODEL_35710283b7db4855ba9412eedd3e0cec",
              "IPY_MODEL_0d16f97fa45c407ca1ad81d76493c906",
              "IPY_MODEL_f792c778c6e5424ab10dfef5968f74bb"
            ],
            "layout": "IPY_MODEL_2085c7c3c19645dd9c2b8d78658cbc95"
          }
        },
        "35710283b7db4855ba9412eedd3e0cec": {
          "model_module": "@jupyter-widgets/controls",
          "model_name": "HTMLModel",
          "model_module_version": "1.5.0",
          "state": {
            "_dom_classes": [],
            "_model_module": "@jupyter-widgets/controls",
            "_model_module_version": "1.5.0",
            "_model_name": "HTMLModel",
            "_view_count": null,
            "_view_module": "@jupyter-widgets/controls",
            "_view_module_version": "1.5.0",
            "_view_name": "HTMLView",
            "description": "",
            "description_tooltip": null,
            "layout": "IPY_MODEL_57f0874354ef42369d01155c67352254",
            "placeholder": "​",
            "style": "IPY_MODEL_74c5c3b5083e48e9bd6173f263fa7dd8",
            "value": "tokenizer_config.json: 100%"
          }
        },
        "0d16f97fa45c407ca1ad81d76493c906": {
          "model_module": "@jupyter-widgets/controls",
          "model_name": "FloatProgressModel",
          "model_module_version": "1.5.0",
          "state": {
            "_dom_classes": [],
            "_model_module": "@jupyter-widgets/controls",
            "_model_module_version": "1.5.0",
            "_model_name": "FloatProgressModel",
            "_view_count": null,
            "_view_module": "@jupyter-widgets/controls",
            "_view_module_version": "1.5.0",
            "_view_name": "ProgressView",
            "bar_style": "success",
            "description": "",
            "description_tooltip": null,
            "layout": "IPY_MODEL_62f521acc4fb40a79cd0eb99512dbe01",
            "max": 48,
            "min": 0,
            "orientation": "horizontal",
            "style": "IPY_MODEL_b634facb80ad477782e1702512392914",
            "value": 48
          }
        },
        "f792c778c6e5424ab10dfef5968f74bb": {
          "model_module": "@jupyter-widgets/controls",
          "model_name": "HTMLModel",
          "model_module_version": "1.5.0",
          "state": {
            "_dom_classes": [],
            "_model_module": "@jupyter-widgets/controls",
            "_model_module_version": "1.5.0",
            "_model_name": "HTMLModel",
            "_view_count": null,
            "_view_module": "@jupyter-widgets/controls",
            "_view_module_version": "1.5.0",
            "_view_name": "HTMLView",
            "description": "",
            "description_tooltip": null,
            "layout": "IPY_MODEL_79d103090d7a4ba891883ae08fcabcb0",
            "placeholder": "​",
            "style": "IPY_MODEL_66f652ccf57f4081b93f66417cb8f801",
            "value": " 48.0/48.0 [00:00&lt;00:00, 1.52kB/s]"
          }
        },
        "2085c7c3c19645dd9c2b8d78658cbc95": {
          "model_module": "@jupyter-widgets/base",
          "model_name": "LayoutModel",
          "model_module_version": "1.2.0",
          "state": {
            "_model_module": "@jupyter-widgets/base",
            "_model_module_version": "1.2.0",
            "_model_name": "LayoutModel",
            "_view_count": null,
            "_view_module": "@jupyter-widgets/base",
            "_view_module_version": "1.2.0",
            "_view_name": "LayoutView",
            "align_content": null,
            "align_items": null,
            "align_self": null,
            "border": null,
            "bottom": null,
            "display": null,
            "flex": null,
            "flex_flow": null,
            "grid_area": null,
            "grid_auto_columns": null,
            "grid_auto_flow": null,
            "grid_auto_rows": null,
            "grid_column": null,
            "grid_gap": null,
            "grid_row": null,
            "grid_template_areas": null,
            "grid_template_columns": null,
            "grid_template_rows": null,
            "height": null,
            "justify_content": null,
            "justify_items": null,
            "left": null,
            "margin": null,
            "max_height": null,
            "max_width": null,
            "min_height": null,
            "min_width": null,
            "object_fit": null,
            "object_position": null,
            "order": null,
            "overflow": null,
            "overflow_x": null,
            "overflow_y": null,
            "padding": null,
            "right": null,
            "top": null,
            "visibility": null,
            "width": null
          }
        },
        "57f0874354ef42369d01155c67352254": {
          "model_module": "@jupyter-widgets/base",
          "model_name": "LayoutModel",
          "model_module_version": "1.2.0",
          "state": {
            "_model_module": "@jupyter-widgets/base",
            "_model_module_version": "1.2.0",
            "_model_name": "LayoutModel",
            "_view_count": null,
            "_view_module": "@jupyter-widgets/base",
            "_view_module_version": "1.2.0",
            "_view_name": "LayoutView",
            "align_content": null,
            "align_items": null,
            "align_self": null,
            "border": null,
            "bottom": null,
            "display": null,
            "flex": null,
            "flex_flow": null,
            "grid_area": null,
            "grid_auto_columns": null,
            "grid_auto_flow": null,
            "grid_auto_rows": null,
            "grid_column": null,
            "grid_gap": null,
            "grid_row": null,
            "grid_template_areas": null,
            "grid_template_columns": null,
            "grid_template_rows": null,
            "height": null,
            "justify_content": null,
            "justify_items": null,
            "left": null,
            "margin": null,
            "max_height": null,
            "max_width": null,
            "min_height": null,
            "min_width": null,
            "object_fit": null,
            "object_position": null,
            "order": null,
            "overflow": null,
            "overflow_x": null,
            "overflow_y": null,
            "padding": null,
            "right": null,
            "top": null,
            "visibility": null,
            "width": null
          }
        },
        "74c5c3b5083e48e9bd6173f263fa7dd8": {
          "model_module": "@jupyter-widgets/controls",
          "model_name": "DescriptionStyleModel",
          "model_module_version": "1.5.0",
          "state": {
            "_model_module": "@jupyter-widgets/controls",
            "_model_module_version": "1.5.0",
            "_model_name": "DescriptionStyleModel",
            "_view_count": null,
            "_view_module": "@jupyter-widgets/base",
            "_view_module_version": "1.2.0",
            "_view_name": "StyleView",
            "description_width": ""
          }
        },
        "62f521acc4fb40a79cd0eb99512dbe01": {
          "model_module": "@jupyter-widgets/base",
          "model_name": "LayoutModel",
          "model_module_version": "1.2.0",
          "state": {
            "_model_module": "@jupyter-widgets/base",
            "_model_module_version": "1.2.0",
            "_model_name": "LayoutModel",
            "_view_count": null,
            "_view_module": "@jupyter-widgets/base",
            "_view_module_version": "1.2.0",
            "_view_name": "LayoutView",
            "align_content": null,
            "align_items": null,
            "align_self": null,
            "border": null,
            "bottom": null,
            "display": null,
            "flex": null,
            "flex_flow": null,
            "grid_area": null,
            "grid_auto_columns": null,
            "grid_auto_flow": null,
            "grid_auto_rows": null,
            "grid_column": null,
            "grid_gap": null,
            "grid_row": null,
            "grid_template_areas": null,
            "grid_template_columns": null,
            "grid_template_rows": null,
            "height": null,
            "justify_content": null,
            "justify_items": null,
            "left": null,
            "margin": null,
            "max_height": null,
            "max_width": null,
            "min_height": null,
            "min_width": null,
            "object_fit": null,
            "object_position": null,
            "order": null,
            "overflow": null,
            "overflow_x": null,
            "overflow_y": null,
            "padding": null,
            "right": null,
            "top": null,
            "visibility": null,
            "width": null
          }
        },
        "b634facb80ad477782e1702512392914": {
          "model_module": "@jupyter-widgets/controls",
          "model_name": "ProgressStyleModel",
          "model_module_version": "1.5.0",
          "state": {
            "_model_module": "@jupyter-widgets/controls",
            "_model_module_version": "1.5.0",
            "_model_name": "ProgressStyleModel",
            "_view_count": null,
            "_view_module": "@jupyter-widgets/base",
            "_view_module_version": "1.2.0",
            "_view_name": "StyleView",
            "bar_color": null,
            "description_width": ""
          }
        },
        "79d103090d7a4ba891883ae08fcabcb0": {
          "model_module": "@jupyter-widgets/base",
          "model_name": "LayoutModel",
          "model_module_version": "1.2.0",
          "state": {
            "_model_module": "@jupyter-widgets/base",
            "_model_module_version": "1.2.0",
            "_model_name": "LayoutModel",
            "_view_count": null,
            "_view_module": "@jupyter-widgets/base",
            "_view_module_version": "1.2.0",
            "_view_name": "LayoutView",
            "align_content": null,
            "align_items": null,
            "align_self": null,
            "border": null,
            "bottom": null,
            "display": null,
            "flex": null,
            "flex_flow": null,
            "grid_area": null,
            "grid_auto_columns": null,
            "grid_auto_flow": null,
            "grid_auto_rows": null,
            "grid_column": null,
            "grid_gap": null,
            "grid_row": null,
            "grid_template_areas": null,
            "grid_template_columns": null,
            "grid_template_rows": null,
            "height": null,
            "justify_content": null,
            "justify_items": null,
            "left": null,
            "margin": null,
            "max_height": null,
            "max_width": null,
            "min_height": null,
            "min_width": null,
            "object_fit": null,
            "object_position": null,
            "order": null,
            "overflow": null,
            "overflow_x": null,
            "overflow_y": null,
            "padding": null,
            "right": null,
            "top": null,
            "visibility": null,
            "width": null
          }
        },
        "66f652ccf57f4081b93f66417cb8f801": {
          "model_module": "@jupyter-widgets/controls",
          "model_name": "DescriptionStyleModel",
          "model_module_version": "1.5.0",
          "state": {
            "_model_module": "@jupyter-widgets/controls",
            "_model_module_version": "1.5.0",
            "_model_name": "DescriptionStyleModel",
            "_view_count": null,
            "_view_module": "@jupyter-widgets/base",
            "_view_module_version": "1.2.0",
            "_view_name": "StyleView",
            "description_width": ""
          }
        },
        "6cf46ab6f5594fdf95e31cac2253ac52": {
          "model_module": "@jupyter-widgets/controls",
          "model_name": "HBoxModel",
          "model_module_version": "1.5.0",
          "state": {
            "_dom_classes": [],
            "_model_module": "@jupyter-widgets/controls",
            "_model_module_version": "1.5.0",
            "_model_name": "HBoxModel",
            "_view_count": null,
            "_view_module": "@jupyter-widgets/controls",
            "_view_module_version": "1.5.0",
            "_view_name": "HBoxView",
            "box_style": "",
            "children": [
              "IPY_MODEL_b8dc51ec2b8d45e9907c55f561c7c8e6",
              "IPY_MODEL_e1889654ae4b4c7992512fa0b693003d",
              "IPY_MODEL_cfde8325d81b4ade805822d2d4f84513"
            ],
            "layout": "IPY_MODEL_f751501ab2644ed8bec8ebd34cca2145"
          }
        },
        "b8dc51ec2b8d45e9907c55f561c7c8e6": {
          "model_module": "@jupyter-widgets/controls",
          "model_name": "HTMLModel",
          "model_module_version": "1.5.0",
          "state": {
            "_dom_classes": [],
            "_model_module": "@jupyter-widgets/controls",
            "_model_module_version": "1.5.0",
            "_model_name": "HTMLModel",
            "_view_count": null,
            "_view_module": "@jupyter-widgets/controls",
            "_view_module_version": "1.5.0",
            "_view_name": "HTMLView",
            "description": "",
            "description_tooltip": null,
            "layout": "IPY_MODEL_515ab92f34574a9380446982da9267dc",
            "placeholder": "​",
            "style": "IPY_MODEL_8676f11513a344ed9d6b4a64f5b18690",
            "value": "config.json: 100%"
          }
        },
        "e1889654ae4b4c7992512fa0b693003d": {
          "model_module": "@jupyter-widgets/controls",
          "model_name": "FloatProgressModel",
          "model_module_version": "1.5.0",
          "state": {
            "_dom_classes": [],
            "_model_module": "@jupyter-widgets/controls",
            "_model_module_version": "1.5.0",
            "_model_name": "FloatProgressModel",
            "_view_count": null,
            "_view_module": "@jupyter-widgets/controls",
            "_view_module_version": "1.5.0",
            "_view_name": "ProgressView",
            "bar_style": "success",
            "description": "",
            "description_tooltip": null,
            "layout": "IPY_MODEL_04f19ba8f6f649de80a3ca57f9ceace0",
            "max": 570,
            "min": 0,
            "orientation": "horizontal",
            "style": "IPY_MODEL_f385a7763c374ea1b2db74c5b5c6dcfb",
            "value": 570
          }
        },
        "cfde8325d81b4ade805822d2d4f84513": {
          "model_module": "@jupyter-widgets/controls",
          "model_name": "HTMLModel",
          "model_module_version": "1.5.0",
          "state": {
            "_dom_classes": [],
            "_model_module": "@jupyter-widgets/controls",
            "_model_module_version": "1.5.0",
            "_model_name": "HTMLModel",
            "_view_count": null,
            "_view_module": "@jupyter-widgets/controls",
            "_view_module_version": "1.5.0",
            "_view_name": "HTMLView",
            "description": "",
            "description_tooltip": null,
            "layout": "IPY_MODEL_7a8bf62e1cad447a910a87305429994b",
            "placeholder": "​",
            "style": "IPY_MODEL_753bbeb3d13b4b01aeed9ca5b093bcdb",
            "value": " 570/570 [00:00&lt;00:00, 6.98kB/s]"
          }
        },
        "f751501ab2644ed8bec8ebd34cca2145": {
          "model_module": "@jupyter-widgets/base",
          "model_name": "LayoutModel",
          "model_module_version": "1.2.0",
          "state": {
            "_model_module": "@jupyter-widgets/base",
            "_model_module_version": "1.2.0",
            "_model_name": "LayoutModel",
            "_view_count": null,
            "_view_module": "@jupyter-widgets/base",
            "_view_module_version": "1.2.0",
            "_view_name": "LayoutView",
            "align_content": null,
            "align_items": null,
            "align_self": null,
            "border": null,
            "bottom": null,
            "display": null,
            "flex": null,
            "flex_flow": null,
            "grid_area": null,
            "grid_auto_columns": null,
            "grid_auto_flow": null,
            "grid_auto_rows": null,
            "grid_column": null,
            "grid_gap": null,
            "grid_row": null,
            "grid_template_areas": null,
            "grid_template_columns": null,
            "grid_template_rows": null,
            "height": null,
            "justify_content": null,
            "justify_items": null,
            "left": null,
            "margin": null,
            "max_height": null,
            "max_width": null,
            "min_height": null,
            "min_width": null,
            "object_fit": null,
            "object_position": null,
            "order": null,
            "overflow": null,
            "overflow_x": null,
            "overflow_y": null,
            "padding": null,
            "right": null,
            "top": null,
            "visibility": null,
            "width": null
          }
        },
        "515ab92f34574a9380446982da9267dc": {
          "model_module": "@jupyter-widgets/base",
          "model_name": "LayoutModel",
          "model_module_version": "1.2.0",
          "state": {
            "_model_module": "@jupyter-widgets/base",
            "_model_module_version": "1.2.0",
            "_model_name": "LayoutModel",
            "_view_count": null,
            "_view_module": "@jupyter-widgets/base",
            "_view_module_version": "1.2.0",
            "_view_name": "LayoutView",
            "align_content": null,
            "align_items": null,
            "align_self": null,
            "border": null,
            "bottom": null,
            "display": null,
            "flex": null,
            "flex_flow": null,
            "grid_area": null,
            "grid_auto_columns": null,
            "grid_auto_flow": null,
            "grid_auto_rows": null,
            "grid_column": null,
            "grid_gap": null,
            "grid_row": null,
            "grid_template_areas": null,
            "grid_template_columns": null,
            "grid_template_rows": null,
            "height": null,
            "justify_content": null,
            "justify_items": null,
            "left": null,
            "margin": null,
            "max_height": null,
            "max_width": null,
            "min_height": null,
            "min_width": null,
            "object_fit": null,
            "object_position": null,
            "order": null,
            "overflow": null,
            "overflow_x": null,
            "overflow_y": null,
            "padding": null,
            "right": null,
            "top": null,
            "visibility": null,
            "width": null
          }
        },
        "8676f11513a344ed9d6b4a64f5b18690": {
          "model_module": "@jupyter-widgets/controls",
          "model_name": "DescriptionStyleModel",
          "model_module_version": "1.5.0",
          "state": {
            "_model_module": "@jupyter-widgets/controls",
            "_model_module_version": "1.5.0",
            "_model_name": "DescriptionStyleModel",
            "_view_count": null,
            "_view_module": "@jupyter-widgets/base",
            "_view_module_version": "1.2.0",
            "_view_name": "StyleView",
            "description_width": ""
          }
        },
        "04f19ba8f6f649de80a3ca57f9ceace0": {
          "model_module": "@jupyter-widgets/base",
          "model_name": "LayoutModel",
          "model_module_version": "1.2.0",
          "state": {
            "_model_module": "@jupyter-widgets/base",
            "_model_module_version": "1.2.0",
            "_model_name": "LayoutModel",
            "_view_count": null,
            "_view_module": "@jupyter-widgets/base",
            "_view_module_version": "1.2.0",
            "_view_name": "LayoutView",
            "align_content": null,
            "align_items": null,
            "align_self": null,
            "border": null,
            "bottom": null,
            "display": null,
            "flex": null,
            "flex_flow": null,
            "grid_area": null,
            "grid_auto_columns": null,
            "grid_auto_flow": null,
            "grid_auto_rows": null,
            "grid_column": null,
            "grid_gap": null,
            "grid_row": null,
            "grid_template_areas": null,
            "grid_template_columns": null,
            "grid_template_rows": null,
            "height": null,
            "justify_content": null,
            "justify_items": null,
            "left": null,
            "margin": null,
            "max_height": null,
            "max_width": null,
            "min_height": null,
            "min_width": null,
            "object_fit": null,
            "object_position": null,
            "order": null,
            "overflow": null,
            "overflow_x": null,
            "overflow_y": null,
            "padding": null,
            "right": null,
            "top": null,
            "visibility": null,
            "width": null
          }
        },
        "f385a7763c374ea1b2db74c5b5c6dcfb": {
          "model_module": "@jupyter-widgets/controls",
          "model_name": "ProgressStyleModel",
          "model_module_version": "1.5.0",
          "state": {
            "_model_module": "@jupyter-widgets/controls",
            "_model_module_version": "1.5.0",
            "_model_name": "ProgressStyleModel",
            "_view_count": null,
            "_view_module": "@jupyter-widgets/base",
            "_view_module_version": "1.2.0",
            "_view_name": "StyleView",
            "bar_color": null,
            "description_width": ""
          }
        },
        "7a8bf62e1cad447a910a87305429994b": {
          "model_module": "@jupyter-widgets/base",
          "model_name": "LayoutModel",
          "model_module_version": "1.2.0",
          "state": {
            "_model_module": "@jupyter-widgets/base",
            "_model_module_version": "1.2.0",
            "_model_name": "LayoutModel",
            "_view_count": null,
            "_view_module": "@jupyter-widgets/base",
            "_view_module_version": "1.2.0",
            "_view_name": "LayoutView",
            "align_content": null,
            "align_items": null,
            "align_self": null,
            "border": null,
            "bottom": null,
            "display": null,
            "flex": null,
            "flex_flow": null,
            "grid_area": null,
            "grid_auto_columns": null,
            "grid_auto_flow": null,
            "grid_auto_rows": null,
            "grid_column": null,
            "grid_gap": null,
            "grid_row": null,
            "grid_template_areas": null,
            "grid_template_columns": null,
            "grid_template_rows": null,
            "height": null,
            "justify_content": null,
            "justify_items": null,
            "left": null,
            "margin": null,
            "max_height": null,
            "max_width": null,
            "min_height": null,
            "min_width": null,
            "object_fit": null,
            "object_position": null,
            "order": null,
            "overflow": null,
            "overflow_x": null,
            "overflow_y": null,
            "padding": null,
            "right": null,
            "top": null,
            "visibility": null,
            "width": null
          }
        },
        "753bbeb3d13b4b01aeed9ca5b093bcdb": {
          "model_module": "@jupyter-widgets/controls",
          "model_name": "DescriptionStyleModel",
          "model_module_version": "1.5.0",
          "state": {
            "_model_module": "@jupyter-widgets/controls",
            "_model_module_version": "1.5.0",
            "_model_name": "DescriptionStyleModel",
            "_view_count": null,
            "_view_module": "@jupyter-widgets/base",
            "_view_module_version": "1.2.0",
            "_view_name": "StyleView",
            "description_width": ""
          }
        },
        "8aadd5d9cd694b97bf9a743ac4556003": {
          "model_module": "@jupyter-widgets/controls",
          "model_name": "HBoxModel",
          "model_module_version": "1.5.0",
          "state": {
            "_dom_classes": [],
            "_model_module": "@jupyter-widgets/controls",
            "_model_module_version": "1.5.0",
            "_model_name": "HBoxModel",
            "_view_count": null,
            "_view_module": "@jupyter-widgets/controls",
            "_view_module_version": "1.5.0",
            "_view_name": "HBoxView",
            "box_style": "",
            "children": [
              "IPY_MODEL_de5583c0eb6d4ee9ae9eb28b77b5bb78",
              "IPY_MODEL_d66d1cbac1f94963833c956b413c9e1f",
              "IPY_MODEL_99a959bb7ce04d718fe962cbc87833d0"
            ],
            "layout": "IPY_MODEL_ef7f61fb6a6e455f9e11e45f209a73b6"
          }
        },
        "de5583c0eb6d4ee9ae9eb28b77b5bb78": {
          "model_module": "@jupyter-widgets/controls",
          "model_name": "HTMLModel",
          "model_module_version": "1.5.0",
          "state": {
            "_dom_classes": [],
            "_model_module": "@jupyter-widgets/controls",
            "_model_module_version": "1.5.0",
            "_model_name": "HTMLModel",
            "_view_count": null,
            "_view_module": "@jupyter-widgets/controls",
            "_view_module_version": "1.5.0",
            "_view_name": "HTMLView",
            "description": "",
            "description_tooltip": null,
            "layout": "IPY_MODEL_bed40920d1ec44f0b5fc2ee0ed14e9cd",
            "placeholder": "​",
            "style": "IPY_MODEL_a850db66254a443abef403e3b0e02a09",
            "value": "vocab.txt: 100%"
          }
        },
        "d66d1cbac1f94963833c956b413c9e1f": {
          "model_module": "@jupyter-widgets/controls",
          "model_name": "FloatProgressModel",
          "model_module_version": "1.5.0",
          "state": {
            "_dom_classes": [],
            "_model_module": "@jupyter-widgets/controls",
            "_model_module_version": "1.5.0",
            "_model_name": "FloatProgressModel",
            "_view_count": null,
            "_view_module": "@jupyter-widgets/controls",
            "_view_module_version": "1.5.0",
            "_view_name": "ProgressView",
            "bar_style": "success",
            "description": "",
            "description_tooltip": null,
            "layout": "IPY_MODEL_21d989af5cef46be8377f6cb6ad14ad9",
            "max": 231508,
            "min": 0,
            "orientation": "horizontal",
            "style": "IPY_MODEL_f3f6f48166cc4fee9dc9593c45f1b15f",
            "value": 231508
          }
        },
        "99a959bb7ce04d718fe962cbc87833d0": {
          "model_module": "@jupyter-widgets/controls",
          "model_name": "HTMLModel",
          "model_module_version": "1.5.0",
          "state": {
            "_dom_classes": [],
            "_model_module": "@jupyter-widgets/controls",
            "_model_module_version": "1.5.0",
            "_model_name": "HTMLModel",
            "_view_count": null,
            "_view_module": "@jupyter-widgets/controls",
            "_view_module_version": "1.5.0",
            "_view_name": "HTMLView",
            "description": "",
            "description_tooltip": null,
            "layout": "IPY_MODEL_2da8f0b51ca044c4a98156912cabf534",
            "placeholder": "​",
            "style": "IPY_MODEL_78b51309fc2e400dbc343fe64a1c567a",
            "value": " 232k/232k [00:00&lt;00:00, 1.08MB/s]"
          }
        },
        "ef7f61fb6a6e455f9e11e45f209a73b6": {
          "model_module": "@jupyter-widgets/base",
          "model_name": "LayoutModel",
          "model_module_version": "1.2.0",
          "state": {
            "_model_module": "@jupyter-widgets/base",
            "_model_module_version": "1.2.0",
            "_model_name": "LayoutModel",
            "_view_count": null,
            "_view_module": "@jupyter-widgets/base",
            "_view_module_version": "1.2.0",
            "_view_name": "LayoutView",
            "align_content": null,
            "align_items": null,
            "align_self": null,
            "border": null,
            "bottom": null,
            "display": null,
            "flex": null,
            "flex_flow": null,
            "grid_area": null,
            "grid_auto_columns": null,
            "grid_auto_flow": null,
            "grid_auto_rows": null,
            "grid_column": null,
            "grid_gap": null,
            "grid_row": null,
            "grid_template_areas": null,
            "grid_template_columns": null,
            "grid_template_rows": null,
            "height": null,
            "justify_content": null,
            "justify_items": null,
            "left": null,
            "margin": null,
            "max_height": null,
            "max_width": null,
            "min_height": null,
            "min_width": null,
            "object_fit": null,
            "object_position": null,
            "order": null,
            "overflow": null,
            "overflow_x": null,
            "overflow_y": null,
            "padding": null,
            "right": null,
            "top": null,
            "visibility": null,
            "width": null
          }
        },
        "bed40920d1ec44f0b5fc2ee0ed14e9cd": {
          "model_module": "@jupyter-widgets/base",
          "model_name": "LayoutModel",
          "model_module_version": "1.2.0",
          "state": {
            "_model_module": "@jupyter-widgets/base",
            "_model_module_version": "1.2.0",
            "_model_name": "LayoutModel",
            "_view_count": null,
            "_view_module": "@jupyter-widgets/base",
            "_view_module_version": "1.2.0",
            "_view_name": "LayoutView",
            "align_content": null,
            "align_items": null,
            "align_self": null,
            "border": null,
            "bottom": null,
            "display": null,
            "flex": null,
            "flex_flow": null,
            "grid_area": null,
            "grid_auto_columns": null,
            "grid_auto_flow": null,
            "grid_auto_rows": null,
            "grid_column": null,
            "grid_gap": null,
            "grid_row": null,
            "grid_template_areas": null,
            "grid_template_columns": null,
            "grid_template_rows": null,
            "height": null,
            "justify_content": null,
            "justify_items": null,
            "left": null,
            "margin": null,
            "max_height": null,
            "max_width": null,
            "min_height": null,
            "min_width": null,
            "object_fit": null,
            "object_position": null,
            "order": null,
            "overflow": null,
            "overflow_x": null,
            "overflow_y": null,
            "padding": null,
            "right": null,
            "top": null,
            "visibility": null,
            "width": null
          }
        },
        "a850db66254a443abef403e3b0e02a09": {
          "model_module": "@jupyter-widgets/controls",
          "model_name": "DescriptionStyleModel",
          "model_module_version": "1.5.0",
          "state": {
            "_model_module": "@jupyter-widgets/controls",
            "_model_module_version": "1.5.0",
            "_model_name": "DescriptionStyleModel",
            "_view_count": null,
            "_view_module": "@jupyter-widgets/base",
            "_view_module_version": "1.2.0",
            "_view_name": "StyleView",
            "description_width": ""
          }
        },
        "21d989af5cef46be8377f6cb6ad14ad9": {
          "model_module": "@jupyter-widgets/base",
          "model_name": "LayoutModel",
          "model_module_version": "1.2.0",
          "state": {
            "_model_module": "@jupyter-widgets/base",
            "_model_module_version": "1.2.0",
            "_model_name": "LayoutModel",
            "_view_count": null,
            "_view_module": "@jupyter-widgets/base",
            "_view_module_version": "1.2.0",
            "_view_name": "LayoutView",
            "align_content": null,
            "align_items": null,
            "align_self": null,
            "border": null,
            "bottom": null,
            "display": null,
            "flex": null,
            "flex_flow": null,
            "grid_area": null,
            "grid_auto_columns": null,
            "grid_auto_flow": null,
            "grid_auto_rows": null,
            "grid_column": null,
            "grid_gap": null,
            "grid_row": null,
            "grid_template_areas": null,
            "grid_template_columns": null,
            "grid_template_rows": null,
            "height": null,
            "justify_content": null,
            "justify_items": null,
            "left": null,
            "margin": null,
            "max_height": null,
            "max_width": null,
            "min_height": null,
            "min_width": null,
            "object_fit": null,
            "object_position": null,
            "order": null,
            "overflow": null,
            "overflow_x": null,
            "overflow_y": null,
            "padding": null,
            "right": null,
            "top": null,
            "visibility": null,
            "width": null
          }
        },
        "f3f6f48166cc4fee9dc9593c45f1b15f": {
          "model_module": "@jupyter-widgets/controls",
          "model_name": "ProgressStyleModel",
          "model_module_version": "1.5.0",
          "state": {
            "_model_module": "@jupyter-widgets/controls",
            "_model_module_version": "1.5.0",
            "_model_name": "ProgressStyleModel",
            "_view_count": null,
            "_view_module": "@jupyter-widgets/base",
            "_view_module_version": "1.2.0",
            "_view_name": "StyleView",
            "bar_color": null,
            "description_width": ""
          }
        },
        "2da8f0b51ca044c4a98156912cabf534": {
          "model_module": "@jupyter-widgets/base",
          "model_name": "LayoutModel",
          "model_module_version": "1.2.0",
          "state": {
            "_model_module": "@jupyter-widgets/base",
            "_model_module_version": "1.2.0",
            "_model_name": "LayoutModel",
            "_view_count": null,
            "_view_module": "@jupyter-widgets/base",
            "_view_module_version": "1.2.0",
            "_view_name": "LayoutView",
            "align_content": null,
            "align_items": null,
            "align_self": null,
            "border": null,
            "bottom": null,
            "display": null,
            "flex": null,
            "flex_flow": null,
            "grid_area": null,
            "grid_auto_columns": null,
            "grid_auto_flow": null,
            "grid_auto_rows": null,
            "grid_column": null,
            "grid_gap": null,
            "grid_row": null,
            "grid_template_areas": null,
            "grid_template_columns": null,
            "grid_template_rows": null,
            "height": null,
            "justify_content": null,
            "justify_items": null,
            "left": null,
            "margin": null,
            "max_height": null,
            "max_width": null,
            "min_height": null,
            "min_width": null,
            "object_fit": null,
            "object_position": null,
            "order": null,
            "overflow": null,
            "overflow_x": null,
            "overflow_y": null,
            "padding": null,
            "right": null,
            "top": null,
            "visibility": null,
            "width": null
          }
        },
        "78b51309fc2e400dbc343fe64a1c567a": {
          "model_module": "@jupyter-widgets/controls",
          "model_name": "DescriptionStyleModel",
          "model_module_version": "1.5.0",
          "state": {
            "_model_module": "@jupyter-widgets/controls",
            "_model_module_version": "1.5.0",
            "_model_name": "DescriptionStyleModel",
            "_view_count": null,
            "_view_module": "@jupyter-widgets/base",
            "_view_module_version": "1.2.0",
            "_view_name": "StyleView",
            "description_width": ""
          }
        },
        "006458cb14ee455399bd9ac3c33d2634": {
          "model_module": "@jupyter-widgets/controls",
          "model_name": "HBoxModel",
          "model_module_version": "1.5.0",
          "state": {
            "_dom_classes": [],
            "_model_module": "@jupyter-widgets/controls",
            "_model_module_version": "1.5.0",
            "_model_name": "HBoxModel",
            "_view_count": null,
            "_view_module": "@jupyter-widgets/controls",
            "_view_module_version": "1.5.0",
            "_view_name": "HBoxView",
            "box_style": "",
            "children": [
              "IPY_MODEL_42af38566908416ebef0ee67c5298fe6",
              "IPY_MODEL_bcec523f8b2c4f5984221bd4e2b0c410",
              "IPY_MODEL_062626d4d19a4a01b32e5ea9ee2c4871"
            ],
            "layout": "IPY_MODEL_74b79ba5c02c45778314edcf89df5bb2"
          }
        },
        "42af38566908416ebef0ee67c5298fe6": {
          "model_module": "@jupyter-widgets/controls",
          "model_name": "HTMLModel",
          "model_module_version": "1.5.0",
          "state": {
            "_dom_classes": [],
            "_model_module": "@jupyter-widgets/controls",
            "_model_module_version": "1.5.0",
            "_model_name": "HTMLModel",
            "_view_count": null,
            "_view_module": "@jupyter-widgets/controls",
            "_view_module_version": "1.5.0",
            "_view_name": "HTMLView",
            "description": "",
            "description_tooltip": null,
            "layout": "IPY_MODEL_fc6a1a88fb5749699b151510bf6bba22",
            "placeholder": "​",
            "style": "IPY_MODEL_d1ba270e862b499dac4feb0fde1f3f1c",
            "value": "tokenizer.json: 100%"
          }
        },
        "bcec523f8b2c4f5984221bd4e2b0c410": {
          "model_module": "@jupyter-widgets/controls",
          "model_name": "FloatProgressModel",
          "model_module_version": "1.5.0",
          "state": {
            "_dom_classes": [],
            "_model_module": "@jupyter-widgets/controls",
            "_model_module_version": "1.5.0",
            "_model_name": "FloatProgressModel",
            "_view_count": null,
            "_view_module": "@jupyter-widgets/controls",
            "_view_module_version": "1.5.0",
            "_view_name": "ProgressView",
            "bar_style": "success",
            "description": "",
            "description_tooltip": null,
            "layout": "IPY_MODEL_e1594ca97de44a88853b50001ff4174f",
            "max": 466062,
            "min": 0,
            "orientation": "horizontal",
            "style": "IPY_MODEL_5ac23ad141f54b33a844ff882d3f91f3",
            "value": 466062
          }
        },
        "062626d4d19a4a01b32e5ea9ee2c4871": {
          "model_module": "@jupyter-widgets/controls",
          "model_name": "HTMLModel",
          "model_module_version": "1.5.0",
          "state": {
            "_dom_classes": [],
            "_model_module": "@jupyter-widgets/controls",
            "_model_module_version": "1.5.0",
            "_model_name": "HTMLModel",
            "_view_count": null,
            "_view_module": "@jupyter-widgets/controls",
            "_view_module_version": "1.5.0",
            "_view_name": "HTMLView",
            "description": "",
            "description_tooltip": null,
            "layout": "IPY_MODEL_82d5b2ed422a44d7963a7528edb7c48b",
            "placeholder": "​",
            "style": "IPY_MODEL_fc611ed3eaa64c0b90f07fec93181e25",
            "value": " 466k/466k [00:00&lt;00:00, 681kB/s]"
          }
        },
        "74b79ba5c02c45778314edcf89df5bb2": {
          "model_module": "@jupyter-widgets/base",
          "model_name": "LayoutModel",
          "model_module_version": "1.2.0",
          "state": {
            "_model_module": "@jupyter-widgets/base",
            "_model_module_version": "1.2.0",
            "_model_name": "LayoutModel",
            "_view_count": null,
            "_view_module": "@jupyter-widgets/base",
            "_view_module_version": "1.2.0",
            "_view_name": "LayoutView",
            "align_content": null,
            "align_items": null,
            "align_self": null,
            "border": null,
            "bottom": null,
            "display": null,
            "flex": null,
            "flex_flow": null,
            "grid_area": null,
            "grid_auto_columns": null,
            "grid_auto_flow": null,
            "grid_auto_rows": null,
            "grid_column": null,
            "grid_gap": null,
            "grid_row": null,
            "grid_template_areas": null,
            "grid_template_columns": null,
            "grid_template_rows": null,
            "height": null,
            "justify_content": null,
            "justify_items": null,
            "left": null,
            "margin": null,
            "max_height": null,
            "max_width": null,
            "min_height": null,
            "min_width": null,
            "object_fit": null,
            "object_position": null,
            "order": null,
            "overflow": null,
            "overflow_x": null,
            "overflow_y": null,
            "padding": null,
            "right": null,
            "top": null,
            "visibility": null,
            "width": null
          }
        },
        "fc6a1a88fb5749699b151510bf6bba22": {
          "model_module": "@jupyter-widgets/base",
          "model_name": "LayoutModel",
          "model_module_version": "1.2.0",
          "state": {
            "_model_module": "@jupyter-widgets/base",
            "_model_module_version": "1.2.0",
            "_model_name": "LayoutModel",
            "_view_count": null,
            "_view_module": "@jupyter-widgets/base",
            "_view_module_version": "1.2.0",
            "_view_name": "LayoutView",
            "align_content": null,
            "align_items": null,
            "align_self": null,
            "border": null,
            "bottom": null,
            "display": null,
            "flex": null,
            "flex_flow": null,
            "grid_area": null,
            "grid_auto_columns": null,
            "grid_auto_flow": null,
            "grid_auto_rows": null,
            "grid_column": null,
            "grid_gap": null,
            "grid_row": null,
            "grid_template_areas": null,
            "grid_template_columns": null,
            "grid_template_rows": null,
            "height": null,
            "justify_content": null,
            "justify_items": null,
            "left": null,
            "margin": null,
            "max_height": null,
            "max_width": null,
            "min_height": null,
            "min_width": null,
            "object_fit": null,
            "object_position": null,
            "order": null,
            "overflow": null,
            "overflow_x": null,
            "overflow_y": null,
            "padding": null,
            "right": null,
            "top": null,
            "visibility": null,
            "width": null
          }
        },
        "d1ba270e862b499dac4feb0fde1f3f1c": {
          "model_module": "@jupyter-widgets/controls",
          "model_name": "DescriptionStyleModel",
          "model_module_version": "1.5.0",
          "state": {
            "_model_module": "@jupyter-widgets/controls",
            "_model_module_version": "1.5.0",
            "_model_name": "DescriptionStyleModel",
            "_view_count": null,
            "_view_module": "@jupyter-widgets/base",
            "_view_module_version": "1.2.0",
            "_view_name": "StyleView",
            "description_width": ""
          }
        },
        "e1594ca97de44a88853b50001ff4174f": {
          "model_module": "@jupyter-widgets/base",
          "model_name": "LayoutModel",
          "model_module_version": "1.2.0",
          "state": {
            "_model_module": "@jupyter-widgets/base",
            "_model_module_version": "1.2.0",
            "_model_name": "LayoutModel",
            "_view_count": null,
            "_view_module": "@jupyter-widgets/base",
            "_view_module_version": "1.2.0",
            "_view_name": "LayoutView",
            "align_content": null,
            "align_items": null,
            "align_self": null,
            "border": null,
            "bottom": null,
            "display": null,
            "flex": null,
            "flex_flow": null,
            "grid_area": null,
            "grid_auto_columns": null,
            "grid_auto_flow": null,
            "grid_auto_rows": null,
            "grid_column": null,
            "grid_gap": null,
            "grid_row": null,
            "grid_template_areas": null,
            "grid_template_columns": null,
            "grid_template_rows": null,
            "height": null,
            "justify_content": null,
            "justify_items": null,
            "left": null,
            "margin": null,
            "max_height": null,
            "max_width": null,
            "min_height": null,
            "min_width": null,
            "object_fit": null,
            "object_position": null,
            "order": null,
            "overflow": null,
            "overflow_x": null,
            "overflow_y": null,
            "padding": null,
            "right": null,
            "top": null,
            "visibility": null,
            "width": null
          }
        },
        "5ac23ad141f54b33a844ff882d3f91f3": {
          "model_module": "@jupyter-widgets/controls",
          "model_name": "ProgressStyleModel",
          "model_module_version": "1.5.0",
          "state": {
            "_model_module": "@jupyter-widgets/controls",
            "_model_module_version": "1.5.0",
            "_model_name": "ProgressStyleModel",
            "_view_count": null,
            "_view_module": "@jupyter-widgets/base",
            "_view_module_version": "1.2.0",
            "_view_name": "StyleView",
            "bar_color": null,
            "description_width": ""
          }
        },
        "82d5b2ed422a44d7963a7528edb7c48b": {
          "model_module": "@jupyter-widgets/base",
          "model_name": "LayoutModel",
          "model_module_version": "1.2.0",
          "state": {
            "_model_module": "@jupyter-widgets/base",
            "_model_module_version": "1.2.0",
            "_model_name": "LayoutModel",
            "_view_count": null,
            "_view_module": "@jupyter-widgets/base",
            "_view_module_version": "1.2.0",
            "_view_name": "LayoutView",
            "align_content": null,
            "align_items": null,
            "align_self": null,
            "border": null,
            "bottom": null,
            "display": null,
            "flex": null,
            "flex_flow": null,
            "grid_area": null,
            "grid_auto_columns": null,
            "grid_auto_flow": null,
            "grid_auto_rows": null,
            "grid_column": null,
            "grid_gap": null,
            "grid_row": null,
            "grid_template_areas": null,
            "grid_template_columns": null,
            "grid_template_rows": null,
            "height": null,
            "justify_content": null,
            "justify_items": null,
            "left": null,
            "margin": null,
            "max_height": null,
            "max_width": null,
            "min_height": null,
            "min_width": null,
            "object_fit": null,
            "object_position": null,
            "order": null,
            "overflow": null,
            "overflow_x": null,
            "overflow_y": null,
            "padding": null,
            "right": null,
            "top": null,
            "visibility": null,
            "width": null
          }
        },
        "fc611ed3eaa64c0b90f07fec93181e25": {
          "model_module": "@jupyter-widgets/controls",
          "model_name": "DescriptionStyleModel",
          "model_module_version": "1.5.0",
          "state": {
            "_model_module": "@jupyter-widgets/controls",
            "_model_module_version": "1.5.0",
            "_model_name": "DescriptionStyleModel",
            "_view_count": null,
            "_view_module": "@jupyter-widgets/base",
            "_view_module_version": "1.2.0",
            "_view_name": "StyleView",
            "description_width": ""
          }
        },
        "66d0257e504c4f98ae744339e888879d": {
          "model_module": "@jupyter-widgets/controls",
          "model_name": "HBoxModel",
          "model_module_version": "1.5.0",
          "state": {
            "_dom_classes": [],
            "_model_module": "@jupyter-widgets/controls",
            "_model_module_version": "1.5.0",
            "_model_name": "HBoxModel",
            "_view_count": null,
            "_view_module": "@jupyter-widgets/controls",
            "_view_module_version": "1.5.0",
            "_view_name": "HBoxView",
            "box_style": "",
            "children": [
              "IPY_MODEL_ff8f3153cb564376ad8e5b667fb442a3",
              "IPY_MODEL_094926f08ec7494c8c1e2ba480c1919a",
              "IPY_MODEL_e01af9a9fe1e4ab7bf218ce51e191fbe"
            ],
            "layout": "IPY_MODEL_5190b7f87b8b4a1b899825bb4dce0d92"
          }
        },
        "ff8f3153cb564376ad8e5b667fb442a3": {
          "model_module": "@jupyter-widgets/controls",
          "model_name": "HTMLModel",
          "model_module_version": "1.5.0",
          "state": {
            "_dom_classes": [],
            "_model_module": "@jupyter-widgets/controls",
            "_model_module_version": "1.5.0",
            "_model_name": "HTMLModel",
            "_view_count": null,
            "_view_module": "@jupyter-widgets/controls",
            "_view_module_version": "1.5.0",
            "_view_name": "HTMLView",
            "description": "",
            "description_tooltip": null,
            "layout": "IPY_MODEL_3a5a7b9a23a24b48bf488ed21387db15",
            "placeholder": "​",
            "style": "IPY_MODEL_ac7111021ccf49988b0a07d095e425f4",
            "value": "Map: 100%"
          }
        },
        "094926f08ec7494c8c1e2ba480c1919a": {
          "model_module": "@jupyter-widgets/controls",
          "model_name": "FloatProgressModel",
          "model_module_version": "1.5.0",
          "state": {
            "_dom_classes": [],
            "_model_module": "@jupyter-widgets/controls",
            "_model_module_version": "1.5.0",
            "_model_name": "FloatProgressModel",
            "_view_count": null,
            "_view_module": "@jupyter-widgets/controls",
            "_view_module_version": "1.5.0",
            "_view_name": "ProgressView",
            "bar_style": "success",
            "description": "",
            "description_tooltip": null,
            "layout": "IPY_MODEL_5d8d0ec403aa4db79a46540000c7515c",
            "max": 47144,
            "min": 0,
            "orientation": "horizontal",
            "style": "IPY_MODEL_b3f5999001f54756b6ca294072814507",
            "value": 47144
          }
        },
        "e01af9a9fe1e4ab7bf218ce51e191fbe": {
          "model_module": "@jupyter-widgets/controls",
          "model_name": "HTMLModel",
          "model_module_version": "1.5.0",
          "state": {
            "_dom_classes": [],
            "_model_module": "@jupyter-widgets/controls",
            "_model_module_version": "1.5.0",
            "_model_name": "HTMLModel",
            "_view_count": null,
            "_view_module": "@jupyter-widgets/controls",
            "_view_module_version": "1.5.0",
            "_view_name": "HTMLView",
            "description": "",
            "description_tooltip": null,
            "layout": "IPY_MODEL_cade2f0fb2a1485fb855720a36662bc8",
            "placeholder": "​",
            "style": "IPY_MODEL_f47669f3a8e1455f83ef3b8de5501abe",
            "value": " 47144/47144 [00:05&lt;00:00, 8211.13 examples/s]"
          }
        },
        "5190b7f87b8b4a1b899825bb4dce0d92": {
          "model_module": "@jupyter-widgets/base",
          "model_name": "LayoutModel",
          "model_module_version": "1.2.0",
          "state": {
            "_model_module": "@jupyter-widgets/base",
            "_model_module_version": "1.2.0",
            "_model_name": "LayoutModel",
            "_view_count": null,
            "_view_module": "@jupyter-widgets/base",
            "_view_module_version": "1.2.0",
            "_view_name": "LayoutView",
            "align_content": null,
            "align_items": null,
            "align_self": null,
            "border": null,
            "bottom": null,
            "display": null,
            "flex": null,
            "flex_flow": null,
            "grid_area": null,
            "grid_auto_columns": null,
            "grid_auto_flow": null,
            "grid_auto_rows": null,
            "grid_column": null,
            "grid_gap": null,
            "grid_row": null,
            "grid_template_areas": null,
            "grid_template_columns": null,
            "grid_template_rows": null,
            "height": null,
            "justify_content": null,
            "justify_items": null,
            "left": null,
            "margin": null,
            "max_height": null,
            "max_width": null,
            "min_height": null,
            "min_width": null,
            "object_fit": null,
            "object_position": null,
            "order": null,
            "overflow": null,
            "overflow_x": null,
            "overflow_y": null,
            "padding": null,
            "right": null,
            "top": null,
            "visibility": null,
            "width": null
          }
        },
        "3a5a7b9a23a24b48bf488ed21387db15": {
          "model_module": "@jupyter-widgets/base",
          "model_name": "LayoutModel",
          "model_module_version": "1.2.0",
          "state": {
            "_model_module": "@jupyter-widgets/base",
            "_model_module_version": "1.2.0",
            "_model_name": "LayoutModel",
            "_view_count": null,
            "_view_module": "@jupyter-widgets/base",
            "_view_module_version": "1.2.0",
            "_view_name": "LayoutView",
            "align_content": null,
            "align_items": null,
            "align_self": null,
            "border": null,
            "bottom": null,
            "display": null,
            "flex": null,
            "flex_flow": null,
            "grid_area": null,
            "grid_auto_columns": null,
            "grid_auto_flow": null,
            "grid_auto_rows": null,
            "grid_column": null,
            "grid_gap": null,
            "grid_row": null,
            "grid_template_areas": null,
            "grid_template_columns": null,
            "grid_template_rows": null,
            "height": null,
            "justify_content": null,
            "justify_items": null,
            "left": null,
            "margin": null,
            "max_height": null,
            "max_width": null,
            "min_height": null,
            "min_width": null,
            "object_fit": null,
            "object_position": null,
            "order": null,
            "overflow": null,
            "overflow_x": null,
            "overflow_y": null,
            "padding": null,
            "right": null,
            "top": null,
            "visibility": null,
            "width": null
          }
        },
        "ac7111021ccf49988b0a07d095e425f4": {
          "model_module": "@jupyter-widgets/controls",
          "model_name": "DescriptionStyleModel",
          "model_module_version": "1.5.0",
          "state": {
            "_model_module": "@jupyter-widgets/controls",
            "_model_module_version": "1.5.0",
            "_model_name": "DescriptionStyleModel",
            "_view_count": null,
            "_view_module": "@jupyter-widgets/base",
            "_view_module_version": "1.2.0",
            "_view_name": "StyleView",
            "description_width": ""
          }
        },
        "5d8d0ec403aa4db79a46540000c7515c": {
          "model_module": "@jupyter-widgets/base",
          "model_name": "LayoutModel",
          "model_module_version": "1.2.0",
          "state": {
            "_model_module": "@jupyter-widgets/base",
            "_model_module_version": "1.2.0",
            "_model_name": "LayoutModel",
            "_view_count": null,
            "_view_module": "@jupyter-widgets/base",
            "_view_module_version": "1.2.0",
            "_view_name": "LayoutView",
            "align_content": null,
            "align_items": null,
            "align_self": null,
            "border": null,
            "bottom": null,
            "display": null,
            "flex": null,
            "flex_flow": null,
            "grid_area": null,
            "grid_auto_columns": null,
            "grid_auto_flow": null,
            "grid_auto_rows": null,
            "grid_column": null,
            "grid_gap": null,
            "grid_row": null,
            "grid_template_areas": null,
            "grid_template_columns": null,
            "grid_template_rows": null,
            "height": null,
            "justify_content": null,
            "justify_items": null,
            "left": null,
            "margin": null,
            "max_height": null,
            "max_width": null,
            "min_height": null,
            "min_width": null,
            "object_fit": null,
            "object_position": null,
            "order": null,
            "overflow": null,
            "overflow_x": null,
            "overflow_y": null,
            "padding": null,
            "right": null,
            "top": null,
            "visibility": null,
            "width": null
          }
        },
        "b3f5999001f54756b6ca294072814507": {
          "model_module": "@jupyter-widgets/controls",
          "model_name": "ProgressStyleModel",
          "model_module_version": "1.5.0",
          "state": {
            "_model_module": "@jupyter-widgets/controls",
            "_model_module_version": "1.5.0",
            "_model_name": "ProgressStyleModel",
            "_view_count": null,
            "_view_module": "@jupyter-widgets/base",
            "_view_module_version": "1.2.0",
            "_view_name": "StyleView",
            "bar_color": null,
            "description_width": ""
          }
        },
        "cade2f0fb2a1485fb855720a36662bc8": {
          "model_module": "@jupyter-widgets/base",
          "model_name": "LayoutModel",
          "model_module_version": "1.2.0",
          "state": {
            "_model_module": "@jupyter-widgets/base",
            "_model_module_version": "1.2.0",
            "_model_name": "LayoutModel",
            "_view_count": null,
            "_view_module": "@jupyter-widgets/base",
            "_view_module_version": "1.2.0",
            "_view_name": "LayoutView",
            "align_content": null,
            "align_items": null,
            "align_self": null,
            "border": null,
            "bottom": null,
            "display": null,
            "flex": null,
            "flex_flow": null,
            "grid_area": null,
            "grid_auto_columns": null,
            "grid_auto_flow": null,
            "grid_auto_rows": null,
            "grid_column": null,
            "grid_gap": null,
            "grid_row": null,
            "grid_template_areas": null,
            "grid_template_columns": null,
            "grid_template_rows": null,
            "height": null,
            "justify_content": null,
            "justify_items": null,
            "left": null,
            "margin": null,
            "max_height": null,
            "max_width": null,
            "min_height": null,
            "min_width": null,
            "object_fit": null,
            "object_position": null,
            "order": null,
            "overflow": null,
            "overflow_x": null,
            "overflow_y": null,
            "padding": null,
            "right": null,
            "top": null,
            "visibility": null,
            "width": null
          }
        },
        "f47669f3a8e1455f83ef3b8de5501abe": {
          "model_module": "@jupyter-widgets/controls",
          "model_name": "DescriptionStyleModel",
          "model_module_version": "1.5.0",
          "state": {
            "_model_module": "@jupyter-widgets/controls",
            "_model_module_version": "1.5.0",
            "_model_name": "DescriptionStyleModel",
            "_view_count": null,
            "_view_module": "@jupyter-widgets/base",
            "_view_module_version": "1.2.0",
            "_view_name": "StyleView",
            "description_width": ""
          }
        },
        "979059b2d79c40a281466b888abe02e5": {
          "model_module": "@jupyter-widgets/controls",
          "model_name": "HBoxModel",
          "model_module_version": "1.5.0",
          "state": {
            "_dom_classes": [],
            "_model_module": "@jupyter-widgets/controls",
            "_model_module_version": "1.5.0",
            "_model_name": "HBoxModel",
            "_view_count": null,
            "_view_module": "@jupyter-widgets/controls",
            "_view_module_version": "1.5.0",
            "_view_name": "HBoxView",
            "box_style": "",
            "children": [
              "IPY_MODEL_5a5f49a323844c3abcdf2ef2ca45346a",
              "IPY_MODEL_eb22bd9176be48b6ba2d9acde6a41e94",
              "IPY_MODEL_127898b85fba43d0bc9260cc45963001"
            ],
            "layout": "IPY_MODEL_23c43019ecfa46ea9b735aab90d4d0f6"
          }
        },
        "5a5f49a323844c3abcdf2ef2ca45346a": {
          "model_module": "@jupyter-widgets/controls",
          "model_name": "HTMLModel",
          "model_module_version": "1.5.0",
          "state": {
            "_dom_classes": [],
            "_model_module": "@jupyter-widgets/controls",
            "_model_module_version": "1.5.0",
            "_model_name": "HTMLModel",
            "_view_count": null,
            "_view_module": "@jupyter-widgets/controls",
            "_view_module_version": "1.5.0",
            "_view_name": "HTMLView",
            "description": "",
            "description_tooltip": null,
            "layout": "IPY_MODEL_6fd3661c87e048fdbc4e7e8ce873a7aa",
            "placeholder": "​",
            "style": "IPY_MODEL_0b6df1aefe404725b102e2df1c726d92",
            "value": "Map: 100%"
          }
        },
        "eb22bd9176be48b6ba2d9acde6a41e94": {
          "model_module": "@jupyter-widgets/controls",
          "model_name": "FloatProgressModel",
          "model_module_version": "1.5.0",
          "state": {
            "_dom_classes": [],
            "_model_module": "@jupyter-widgets/controls",
            "_model_module_version": "1.5.0",
            "_model_name": "FloatProgressModel",
            "_view_count": null,
            "_view_module": "@jupyter-widgets/controls",
            "_view_module_version": "1.5.0",
            "_view_name": "ProgressView",
            "bar_style": "success",
            "description": "",
            "description_tooltip": null,
            "layout": "IPY_MODEL_fba1701b51b2413993f475c937b05b54",
            "max": 13470,
            "min": 0,
            "orientation": "horizontal",
            "style": "IPY_MODEL_5528417ce3df41d99dff0949f5769004",
            "value": 13470
          }
        },
        "127898b85fba43d0bc9260cc45963001": {
          "model_module": "@jupyter-widgets/controls",
          "model_name": "HTMLModel",
          "model_module_version": "1.5.0",
          "state": {
            "_dom_classes": [],
            "_model_module": "@jupyter-widgets/controls",
            "_model_module_version": "1.5.0",
            "_model_name": "HTMLModel",
            "_view_count": null,
            "_view_module": "@jupyter-widgets/controls",
            "_view_module_version": "1.5.0",
            "_view_name": "HTMLView",
            "description": "",
            "description_tooltip": null,
            "layout": "IPY_MODEL_4c9c224243b84401b88bfe631f1a9248",
            "placeholder": "​",
            "style": "IPY_MODEL_7d00e3b8ccf844ffa58ff4a00fb8d606",
            "value": " 13470/13470 [00:01&lt;00:00, 7810.40 examples/s]"
          }
        },
        "23c43019ecfa46ea9b735aab90d4d0f6": {
          "model_module": "@jupyter-widgets/base",
          "model_name": "LayoutModel",
          "model_module_version": "1.2.0",
          "state": {
            "_model_module": "@jupyter-widgets/base",
            "_model_module_version": "1.2.0",
            "_model_name": "LayoutModel",
            "_view_count": null,
            "_view_module": "@jupyter-widgets/base",
            "_view_module_version": "1.2.0",
            "_view_name": "LayoutView",
            "align_content": null,
            "align_items": null,
            "align_self": null,
            "border": null,
            "bottom": null,
            "display": null,
            "flex": null,
            "flex_flow": null,
            "grid_area": null,
            "grid_auto_columns": null,
            "grid_auto_flow": null,
            "grid_auto_rows": null,
            "grid_column": null,
            "grid_gap": null,
            "grid_row": null,
            "grid_template_areas": null,
            "grid_template_columns": null,
            "grid_template_rows": null,
            "height": null,
            "justify_content": null,
            "justify_items": null,
            "left": null,
            "margin": null,
            "max_height": null,
            "max_width": null,
            "min_height": null,
            "min_width": null,
            "object_fit": null,
            "object_position": null,
            "order": null,
            "overflow": null,
            "overflow_x": null,
            "overflow_y": null,
            "padding": null,
            "right": null,
            "top": null,
            "visibility": null,
            "width": null
          }
        },
        "6fd3661c87e048fdbc4e7e8ce873a7aa": {
          "model_module": "@jupyter-widgets/base",
          "model_name": "LayoutModel",
          "model_module_version": "1.2.0",
          "state": {
            "_model_module": "@jupyter-widgets/base",
            "_model_module_version": "1.2.0",
            "_model_name": "LayoutModel",
            "_view_count": null,
            "_view_module": "@jupyter-widgets/base",
            "_view_module_version": "1.2.0",
            "_view_name": "LayoutView",
            "align_content": null,
            "align_items": null,
            "align_self": null,
            "border": null,
            "bottom": null,
            "display": null,
            "flex": null,
            "flex_flow": null,
            "grid_area": null,
            "grid_auto_columns": null,
            "grid_auto_flow": null,
            "grid_auto_rows": null,
            "grid_column": null,
            "grid_gap": null,
            "grid_row": null,
            "grid_template_areas": null,
            "grid_template_columns": null,
            "grid_template_rows": null,
            "height": null,
            "justify_content": null,
            "justify_items": null,
            "left": null,
            "margin": null,
            "max_height": null,
            "max_width": null,
            "min_height": null,
            "min_width": null,
            "object_fit": null,
            "object_position": null,
            "order": null,
            "overflow": null,
            "overflow_x": null,
            "overflow_y": null,
            "padding": null,
            "right": null,
            "top": null,
            "visibility": null,
            "width": null
          }
        },
        "0b6df1aefe404725b102e2df1c726d92": {
          "model_module": "@jupyter-widgets/controls",
          "model_name": "DescriptionStyleModel",
          "model_module_version": "1.5.0",
          "state": {
            "_model_module": "@jupyter-widgets/controls",
            "_model_module_version": "1.5.0",
            "_model_name": "DescriptionStyleModel",
            "_view_count": null,
            "_view_module": "@jupyter-widgets/base",
            "_view_module_version": "1.2.0",
            "_view_name": "StyleView",
            "description_width": ""
          }
        },
        "fba1701b51b2413993f475c937b05b54": {
          "model_module": "@jupyter-widgets/base",
          "model_name": "LayoutModel",
          "model_module_version": "1.2.0",
          "state": {
            "_model_module": "@jupyter-widgets/base",
            "_model_module_version": "1.2.0",
            "_model_name": "LayoutModel",
            "_view_count": null,
            "_view_module": "@jupyter-widgets/base",
            "_view_module_version": "1.2.0",
            "_view_name": "LayoutView",
            "align_content": null,
            "align_items": null,
            "align_self": null,
            "border": null,
            "bottom": null,
            "display": null,
            "flex": null,
            "flex_flow": null,
            "grid_area": null,
            "grid_auto_columns": null,
            "grid_auto_flow": null,
            "grid_auto_rows": null,
            "grid_column": null,
            "grid_gap": null,
            "grid_row": null,
            "grid_template_areas": null,
            "grid_template_columns": null,
            "grid_template_rows": null,
            "height": null,
            "justify_content": null,
            "justify_items": null,
            "left": null,
            "margin": null,
            "max_height": null,
            "max_width": null,
            "min_height": null,
            "min_width": null,
            "object_fit": null,
            "object_position": null,
            "order": null,
            "overflow": null,
            "overflow_x": null,
            "overflow_y": null,
            "padding": null,
            "right": null,
            "top": null,
            "visibility": null,
            "width": null
          }
        },
        "5528417ce3df41d99dff0949f5769004": {
          "model_module": "@jupyter-widgets/controls",
          "model_name": "ProgressStyleModel",
          "model_module_version": "1.5.0",
          "state": {
            "_model_module": "@jupyter-widgets/controls",
            "_model_module_version": "1.5.0",
            "_model_name": "ProgressStyleModel",
            "_view_count": null,
            "_view_module": "@jupyter-widgets/base",
            "_view_module_version": "1.2.0",
            "_view_name": "StyleView",
            "bar_color": null,
            "description_width": ""
          }
        },
        "4c9c224243b84401b88bfe631f1a9248": {
          "model_module": "@jupyter-widgets/base",
          "model_name": "LayoutModel",
          "model_module_version": "1.2.0",
          "state": {
            "_model_module": "@jupyter-widgets/base",
            "_model_module_version": "1.2.0",
            "_model_name": "LayoutModel",
            "_view_count": null,
            "_view_module": "@jupyter-widgets/base",
            "_view_module_version": "1.2.0",
            "_view_name": "LayoutView",
            "align_content": null,
            "align_items": null,
            "align_self": null,
            "border": null,
            "bottom": null,
            "display": null,
            "flex": null,
            "flex_flow": null,
            "grid_area": null,
            "grid_auto_columns": null,
            "grid_auto_flow": null,
            "grid_auto_rows": null,
            "grid_column": null,
            "grid_gap": null,
            "grid_row": null,
            "grid_template_areas": null,
            "grid_template_columns": null,
            "grid_template_rows": null,
            "height": null,
            "justify_content": null,
            "justify_items": null,
            "left": null,
            "margin": null,
            "max_height": null,
            "max_width": null,
            "min_height": null,
            "min_width": null,
            "object_fit": null,
            "object_position": null,
            "order": null,
            "overflow": null,
            "overflow_x": null,
            "overflow_y": null,
            "padding": null,
            "right": null,
            "top": null,
            "visibility": null,
            "width": null
          }
        },
        "7d00e3b8ccf844ffa58ff4a00fb8d606": {
          "model_module": "@jupyter-widgets/controls",
          "model_name": "DescriptionStyleModel",
          "model_module_version": "1.5.0",
          "state": {
            "_model_module": "@jupyter-widgets/controls",
            "_model_module_version": "1.5.0",
            "_model_name": "DescriptionStyleModel",
            "_view_count": null,
            "_view_module": "@jupyter-widgets/base",
            "_view_module_version": "1.2.0",
            "_view_name": "StyleView",
            "description_width": ""
          }
        },
        "8a9ab4ba18a94e45b8fb9d9f477b3511": {
          "model_module": "@jupyter-widgets/controls",
          "model_name": "HBoxModel",
          "model_module_version": "1.5.0",
          "state": {
            "_dom_classes": [],
            "_model_module": "@jupyter-widgets/controls",
            "_model_module_version": "1.5.0",
            "_model_name": "HBoxModel",
            "_view_count": null,
            "_view_module": "@jupyter-widgets/controls",
            "_view_module_version": "1.5.0",
            "_view_name": "HBoxView",
            "box_style": "",
            "children": [
              "IPY_MODEL_3fb71554c7d24f5fbfe7afc884a68f18",
              "IPY_MODEL_45974f0815114eb0b40a68c8fd1f1c44",
              "IPY_MODEL_8ff54df97ae7493d8342a0796a2aabe7"
            ],
            "layout": "IPY_MODEL_03a8be4e56a743a19f97eca7814932e7"
          }
        },
        "3fb71554c7d24f5fbfe7afc884a68f18": {
          "model_module": "@jupyter-widgets/controls",
          "model_name": "HTMLModel",
          "model_module_version": "1.5.0",
          "state": {
            "_dom_classes": [],
            "_model_module": "@jupyter-widgets/controls",
            "_model_module_version": "1.5.0",
            "_model_name": "HTMLModel",
            "_view_count": null,
            "_view_module": "@jupyter-widgets/controls",
            "_view_module_version": "1.5.0",
            "_view_name": "HTMLView",
            "description": "",
            "description_tooltip": null,
            "layout": "IPY_MODEL_75b8f400bf7e4330808f27255258ea50",
            "placeholder": "​",
            "style": "IPY_MODEL_e4bd937df7a4447d945fdb6d4bf62723",
            "value": "Map: 100%"
          }
        },
        "45974f0815114eb0b40a68c8fd1f1c44": {
          "model_module": "@jupyter-widgets/controls",
          "model_name": "FloatProgressModel",
          "model_module_version": "1.5.0",
          "state": {
            "_dom_classes": [],
            "_model_module": "@jupyter-widgets/controls",
            "_model_module_version": "1.5.0",
            "_model_name": "FloatProgressModel",
            "_view_count": null,
            "_view_module": "@jupyter-widgets/controls",
            "_view_module_version": "1.5.0",
            "_view_name": "ProgressView",
            "bar_style": "success",
            "description": "",
            "description_tooltip": null,
            "layout": "IPY_MODEL_3bac8c5e344440c7823a46ba7831c9e9",
            "max": 6735,
            "min": 0,
            "orientation": "horizontal",
            "style": "IPY_MODEL_4f4e48c5c35c4f209ce42deabd112b2b",
            "value": 6735
          }
        },
        "8ff54df97ae7493d8342a0796a2aabe7": {
          "model_module": "@jupyter-widgets/controls",
          "model_name": "HTMLModel",
          "model_module_version": "1.5.0",
          "state": {
            "_dom_classes": [],
            "_model_module": "@jupyter-widgets/controls",
            "_model_module_version": "1.5.0",
            "_model_name": "HTMLModel",
            "_view_count": null,
            "_view_module": "@jupyter-widgets/controls",
            "_view_module_version": "1.5.0",
            "_view_name": "HTMLView",
            "description": "",
            "description_tooltip": null,
            "layout": "IPY_MODEL_1abfd8b7dc854227ab888ec6b644d1b8",
            "placeholder": "​",
            "style": "IPY_MODEL_dc24e4c97da847ba80a7fe3160207e9d",
            "value": " 6735/6735 [00:00&lt;00:00, 12720.01 examples/s]"
          }
        },
        "03a8be4e56a743a19f97eca7814932e7": {
          "model_module": "@jupyter-widgets/base",
          "model_name": "LayoutModel",
          "model_module_version": "1.2.0",
          "state": {
            "_model_module": "@jupyter-widgets/base",
            "_model_module_version": "1.2.0",
            "_model_name": "LayoutModel",
            "_view_count": null,
            "_view_module": "@jupyter-widgets/base",
            "_view_module_version": "1.2.0",
            "_view_name": "LayoutView",
            "align_content": null,
            "align_items": null,
            "align_self": null,
            "border": null,
            "bottom": null,
            "display": null,
            "flex": null,
            "flex_flow": null,
            "grid_area": null,
            "grid_auto_columns": null,
            "grid_auto_flow": null,
            "grid_auto_rows": null,
            "grid_column": null,
            "grid_gap": null,
            "grid_row": null,
            "grid_template_areas": null,
            "grid_template_columns": null,
            "grid_template_rows": null,
            "height": null,
            "justify_content": null,
            "justify_items": null,
            "left": null,
            "margin": null,
            "max_height": null,
            "max_width": null,
            "min_height": null,
            "min_width": null,
            "object_fit": null,
            "object_position": null,
            "order": null,
            "overflow": null,
            "overflow_x": null,
            "overflow_y": null,
            "padding": null,
            "right": null,
            "top": null,
            "visibility": null,
            "width": null
          }
        },
        "75b8f400bf7e4330808f27255258ea50": {
          "model_module": "@jupyter-widgets/base",
          "model_name": "LayoutModel",
          "model_module_version": "1.2.0",
          "state": {
            "_model_module": "@jupyter-widgets/base",
            "_model_module_version": "1.2.0",
            "_model_name": "LayoutModel",
            "_view_count": null,
            "_view_module": "@jupyter-widgets/base",
            "_view_module_version": "1.2.0",
            "_view_name": "LayoutView",
            "align_content": null,
            "align_items": null,
            "align_self": null,
            "border": null,
            "bottom": null,
            "display": null,
            "flex": null,
            "flex_flow": null,
            "grid_area": null,
            "grid_auto_columns": null,
            "grid_auto_flow": null,
            "grid_auto_rows": null,
            "grid_column": null,
            "grid_gap": null,
            "grid_row": null,
            "grid_template_areas": null,
            "grid_template_columns": null,
            "grid_template_rows": null,
            "height": null,
            "justify_content": null,
            "justify_items": null,
            "left": null,
            "margin": null,
            "max_height": null,
            "max_width": null,
            "min_height": null,
            "min_width": null,
            "object_fit": null,
            "object_position": null,
            "order": null,
            "overflow": null,
            "overflow_x": null,
            "overflow_y": null,
            "padding": null,
            "right": null,
            "top": null,
            "visibility": null,
            "width": null
          }
        },
        "e4bd937df7a4447d945fdb6d4bf62723": {
          "model_module": "@jupyter-widgets/controls",
          "model_name": "DescriptionStyleModel",
          "model_module_version": "1.5.0",
          "state": {
            "_model_module": "@jupyter-widgets/controls",
            "_model_module_version": "1.5.0",
            "_model_name": "DescriptionStyleModel",
            "_view_count": null,
            "_view_module": "@jupyter-widgets/base",
            "_view_module_version": "1.2.0",
            "_view_name": "StyleView",
            "description_width": ""
          }
        },
        "3bac8c5e344440c7823a46ba7831c9e9": {
          "model_module": "@jupyter-widgets/base",
          "model_name": "LayoutModel",
          "model_module_version": "1.2.0",
          "state": {
            "_model_module": "@jupyter-widgets/base",
            "_model_module_version": "1.2.0",
            "_model_name": "LayoutModel",
            "_view_count": null,
            "_view_module": "@jupyter-widgets/base",
            "_view_module_version": "1.2.0",
            "_view_name": "LayoutView",
            "align_content": null,
            "align_items": null,
            "align_self": null,
            "border": null,
            "bottom": null,
            "display": null,
            "flex": null,
            "flex_flow": null,
            "grid_area": null,
            "grid_auto_columns": null,
            "grid_auto_flow": null,
            "grid_auto_rows": null,
            "grid_column": null,
            "grid_gap": null,
            "grid_row": null,
            "grid_template_areas": null,
            "grid_template_columns": null,
            "grid_template_rows": null,
            "height": null,
            "justify_content": null,
            "justify_items": null,
            "left": null,
            "margin": null,
            "max_height": null,
            "max_width": null,
            "min_height": null,
            "min_width": null,
            "object_fit": null,
            "object_position": null,
            "order": null,
            "overflow": null,
            "overflow_x": null,
            "overflow_y": null,
            "padding": null,
            "right": null,
            "top": null,
            "visibility": null,
            "width": null
          }
        },
        "4f4e48c5c35c4f209ce42deabd112b2b": {
          "model_module": "@jupyter-widgets/controls",
          "model_name": "ProgressStyleModel",
          "model_module_version": "1.5.0",
          "state": {
            "_model_module": "@jupyter-widgets/controls",
            "_model_module_version": "1.5.0",
            "_model_name": "ProgressStyleModel",
            "_view_count": null,
            "_view_module": "@jupyter-widgets/base",
            "_view_module_version": "1.2.0",
            "_view_name": "StyleView",
            "bar_color": null,
            "description_width": ""
          }
        },
        "1abfd8b7dc854227ab888ec6b644d1b8": {
          "model_module": "@jupyter-widgets/base",
          "model_name": "LayoutModel",
          "model_module_version": "1.2.0",
          "state": {
            "_model_module": "@jupyter-widgets/base",
            "_model_module_version": "1.2.0",
            "_model_name": "LayoutModel",
            "_view_count": null,
            "_view_module": "@jupyter-widgets/base",
            "_view_module_version": "1.2.0",
            "_view_name": "LayoutView",
            "align_content": null,
            "align_items": null,
            "align_self": null,
            "border": null,
            "bottom": null,
            "display": null,
            "flex": null,
            "flex_flow": null,
            "grid_area": null,
            "grid_auto_columns": null,
            "grid_auto_flow": null,
            "grid_auto_rows": null,
            "grid_column": null,
            "grid_gap": null,
            "grid_row": null,
            "grid_template_areas": null,
            "grid_template_columns": null,
            "grid_template_rows": null,
            "height": null,
            "justify_content": null,
            "justify_items": null,
            "left": null,
            "margin": null,
            "max_height": null,
            "max_width": null,
            "min_height": null,
            "min_width": null,
            "object_fit": null,
            "object_position": null,
            "order": null,
            "overflow": null,
            "overflow_x": null,
            "overflow_y": null,
            "padding": null,
            "right": null,
            "top": null,
            "visibility": null,
            "width": null
          }
        },
        "dc24e4c97da847ba80a7fe3160207e9d": {
          "model_module": "@jupyter-widgets/controls",
          "model_name": "DescriptionStyleModel",
          "model_module_version": "1.5.0",
          "state": {
            "_model_module": "@jupyter-widgets/controls",
            "_model_module_version": "1.5.0",
            "_model_name": "DescriptionStyleModel",
            "_view_count": null,
            "_view_module": "@jupyter-widgets/base",
            "_view_module_version": "1.2.0",
            "_view_name": "StyleView",
            "description_width": ""
          }
        },
        "86836868fdba4a3cb5a8f91ffbe6737f": {
          "model_module": "@jupyter-widgets/controls",
          "model_name": "HBoxModel",
          "model_module_version": "1.5.0",
          "state": {
            "_dom_classes": [],
            "_model_module": "@jupyter-widgets/controls",
            "_model_module_version": "1.5.0",
            "_model_name": "HBoxModel",
            "_view_count": null,
            "_view_module": "@jupyter-widgets/controls",
            "_view_module_version": "1.5.0",
            "_view_name": "HBoxView",
            "box_style": "",
            "children": [
              "IPY_MODEL_041947c5aca442edaf67e0fe5b514337",
              "IPY_MODEL_7fc2b0f2fca8420ea8220cf945d83b52",
              "IPY_MODEL_cfec6b9db9cf4250a3026cd7dab74f52"
            ],
            "layout": "IPY_MODEL_9acaaa10a93741f6b5e7caf5e2722fad"
          }
        },
        "041947c5aca442edaf67e0fe5b514337": {
          "model_module": "@jupyter-widgets/controls",
          "model_name": "HTMLModel",
          "model_module_version": "1.5.0",
          "state": {
            "_dom_classes": [],
            "_model_module": "@jupyter-widgets/controls",
            "_model_module_version": "1.5.0",
            "_model_name": "HTMLModel",
            "_view_count": null,
            "_view_module": "@jupyter-widgets/controls",
            "_view_module_version": "1.5.0",
            "_view_name": "HTMLView",
            "description": "",
            "description_tooltip": null,
            "layout": "IPY_MODEL_3b793e2363d243aa8270fea68c578164",
            "placeholder": "​",
            "style": "IPY_MODEL_9392e940f0dd43b8ba7d7fb6b9b06ecc",
            "value": "model.safetensors: 100%"
          }
        },
        "7fc2b0f2fca8420ea8220cf945d83b52": {
          "model_module": "@jupyter-widgets/controls",
          "model_name": "FloatProgressModel",
          "model_module_version": "1.5.0",
          "state": {
            "_dom_classes": [],
            "_model_module": "@jupyter-widgets/controls",
            "_model_module_version": "1.5.0",
            "_model_name": "FloatProgressModel",
            "_view_count": null,
            "_view_module": "@jupyter-widgets/controls",
            "_view_module_version": "1.5.0",
            "_view_name": "ProgressView",
            "bar_style": "success",
            "description": "",
            "description_tooltip": null,
            "layout": "IPY_MODEL_329477b1f27542d3b53da36741b78442",
            "max": 440449768,
            "min": 0,
            "orientation": "horizontal",
            "style": "IPY_MODEL_0614b2832f534b579fba721de5ba351e",
            "value": 440449768
          }
        },
        "cfec6b9db9cf4250a3026cd7dab74f52": {
          "model_module": "@jupyter-widgets/controls",
          "model_name": "HTMLModel",
          "model_module_version": "1.5.0",
          "state": {
            "_dom_classes": [],
            "_model_module": "@jupyter-widgets/controls",
            "_model_module_version": "1.5.0",
            "_model_name": "HTMLModel",
            "_view_count": null,
            "_view_module": "@jupyter-widgets/controls",
            "_view_module_version": "1.5.0",
            "_view_name": "HTMLView",
            "description": "",
            "description_tooltip": null,
            "layout": "IPY_MODEL_df24727b9e934ad081116cd5c1e6622a",
            "placeholder": "​",
            "style": "IPY_MODEL_488deaebffe94267b839f32e4ef241ea",
            "value": " 440M/440M [00:05&lt;00:00, 87.9MB/s]"
          }
        },
        "9acaaa10a93741f6b5e7caf5e2722fad": {
          "model_module": "@jupyter-widgets/base",
          "model_name": "LayoutModel",
          "model_module_version": "1.2.0",
          "state": {
            "_model_module": "@jupyter-widgets/base",
            "_model_module_version": "1.2.0",
            "_model_name": "LayoutModel",
            "_view_count": null,
            "_view_module": "@jupyter-widgets/base",
            "_view_module_version": "1.2.0",
            "_view_name": "LayoutView",
            "align_content": null,
            "align_items": null,
            "align_self": null,
            "border": null,
            "bottom": null,
            "display": null,
            "flex": null,
            "flex_flow": null,
            "grid_area": null,
            "grid_auto_columns": null,
            "grid_auto_flow": null,
            "grid_auto_rows": null,
            "grid_column": null,
            "grid_gap": null,
            "grid_row": null,
            "grid_template_areas": null,
            "grid_template_columns": null,
            "grid_template_rows": null,
            "height": null,
            "justify_content": null,
            "justify_items": null,
            "left": null,
            "margin": null,
            "max_height": null,
            "max_width": null,
            "min_height": null,
            "min_width": null,
            "object_fit": null,
            "object_position": null,
            "order": null,
            "overflow": null,
            "overflow_x": null,
            "overflow_y": null,
            "padding": null,
            "right": null,
            "top": null,
            "visibility": null,
            "width": null
          }
        },
        "3b793e2363d243aa8270fea68c578164": {
          "model_module": "@jupyter-widgets/base",
          "model_name": "LayoutModel",
          "model_module_version": "1.2.0",
          "state": {
            "_model_module": "@jupyter-widgets/base",
            "_model_module_version": "1.2.0",
            "_model_name": "LayoutModel",
            "_view_count": null,
            "_view_module": "@jupyter-widgets/base",
            "_view_module_version": "1.2.0",
            "_view_name": "LayoutView",
            "align_content": null,
            "align_items": null,
            "align_self": null,
            "border": null,
            "bottom": null,
            "display": null,
            "flex": null,
            "flex_flow": null,
            "grid_area": null,
            "grid_auto_columns": null,
            "grid_auto_flow": null,
            "grid_auto_rows": null,
            "grid_column": null,
            "grid_gap": null,
            "grid_row": null,
            "grid_template_areas": null,
            "grid_template_columns": null,
            "grid_template_rows": null,
            "height": null,
            "justify_content": null,
            "justify_items": null,
            "left": null,
            "margin": null,
            "max_height": null,
            "max_width": null,
            "min_height": null,
            "min_width": null,
            "object_fit": null,
            "object_position": null,
            "order": null,
            "overflow": null,
            "overflow_x": null,
            "overflow_y": null,
            "padding": null,
            "right": null,
            "top": null,
            "visibility": null,
            "width": null
          }
        },
        "9392e940f0dd43b8ba7d7fb6b9b06ecc": {
          "model_module": "@jupyter-widgets/controls",
          "model_name": "DescriptionStyleModel",
          "model_module_version": "1.5.0",
          "state": {
            "_model_module": "@jupyter-widgets/controls",
            "_model_module_version": "1.5.0",
            "_model_name": "DescriptionStyleModel",
            "_view_count": null,
            "_view_module": "@jupyter-widgets/base",
            "_view_module_version": "1.2.0",
            "_view_name": "StyleView",
            "description_width": ""
          }
        },
        "329477b1f27542d3b53da36741b78442": {
          "model_module": "@jupyter-widgets/base",
          "model_name": "LayoutModel",
          "model_module_version": "1.2.0",
          "state": {
            "_model_module": "@jupyter-widgets/base",
            "_model_module_version": "1.2.0",
            "_model_name": "LayoutModel",
            "_view_count": null,
            "_view_module": "@jupyter-widgets/base",
            "_view_module_version": "1.2.0",
            "_view_name": "LayoutView",
            "align_content": null,
            "align_items": null,
            "align_self": null,
            "border": null,
            "bottom": null,
            "display": null,
            "flex": null,
            "flex_flow": null,
            "grid_area": null,
            "grid_auto_columns": null,
            "grid_auto_flow": null,
            "grid_auto_rows": null,
            "grid_column": null,
            "grid_gap": null,
            "grid_row": null,
            "grid_template_areas": null,
            "grid_template_columns": null,
            "grid_template_rows": null,
            "height": null,
            "justify_content": null,
            "justify_items": null,
            "left": null,
            "margin": null,
            "max_height": null,
            "max_width": null,
            "min_height": null,
            "min_width": null,
            "object_fit": null,
            "object_position": null,
            "order": null,
            "overflow": null,
            "overflow_x": null,
            "overflow_y": null,
            "padding": null,
            "right": null,
            "top": null,
            "visibility": null,
            "width": null
          }
        },
        "0614b2832f534b579fba721de5ba351e": {
          "model_module": "@jupyter-widgets/controls",
          "model_name": "ProgressStyleModel",
          "model_module_version": "1.5.0",
          "state": {
            "_model_module": "@jupyter-widgets/controls",
            "_model_module_version": "1.5.0",
            "_model_name": "ProgressStyleModel",
            "_view_count": null,
            "_view_module": "@jupyter-widgets/base",
            "_view_module_version": "1.2.0",
            "_view_name": "StyleView",
            "bar_color": null,
            "description_width": ""
          }
        },
        "df24727b9e934ad081116cd5c1e6622a": {
          "model_module": "@jupyter-widgets/base",
          "model_name": "LayoutModel",
          "model_module_version": "1.2.0",
          "state": {
            "_model_module": "@jupyter-widgets/base",
            "_model_module_version": "1.2.0",
            "_model_name": "LayoutModel",
            "_view_count": null,
            "_view_module": "@jupyter-widgets/base",
            "_view_module_version": "1.2.0",
            "_view_name": "LayoutView",
            "align_content": null,
            "align_items": null,
            "align_self": null,
            "border": null,
            "bottom": null,
            "display": null,
            "flex": null,
            "flex_flow": null,
            "grid_area": null,
            "grid_auto_columns": null,
            "grid_auto_flow": null,
            "grid_auto_rows": null,
            "grid_column": null,
            "grid_gap": null,
            "grid_row": null,
            "grid_template_areas": null,
            "grid_template_columns": null,
            "grid_template_rows": null,
            "height": null,
            "justify_content": null,
            "justify_items": null,
            "left": null,
            "margin": null,
            "max_height": null,
            "max_width": null,
            "min_height": null,
            "min_width": null,
            "object_fit": null,
            "object_position": null,
            "order": null,
            "overflow": null,
            "overflow_x": null,
            "overflow_y": null,
            "padding": null,
            "right": null,
            "top": null,
            "visibility": null,
            "width": null
          }
        },
        "488deaebffe94267b839f32e4ef241ea": {
          "model_module": "@jupyter-widgets/controls",
          "model_name": "DescriptionStyleModel",
          "model_module_version": "1.5.0",
          "state": {
            "_model_module": "@jupyter-widgets/controls",
            "_model_module_version": "1.5.0",
            "_model_name": "DescriptionStyleModel",
            "_view_count": null,
            "_view_module": "@jupyter-widgets/base",
            "_view_module_version": "1.2.0",
            "_view_name": "StyleView",
            "description_width": ""
          }
        }
      }
    }
  },
  "cells": [
    {
      "cell_type": "markdown",
      "source": [
        "#**Problem Statement**\n",
        "\n",
        "Homonyms are words that share the same spelling or form (characters) but possess distinct meanings. For instance, the term **\"bank\"** can assume two disparate contexts, denoting both a *\"financial institution\"* and the *\"edge of a river.\"*\n",
        "\n",
        "### Relevance in Sentiment Analysis\n",
        "Homonyms hold significant relevance in sentiment analysis, given their capacity to alter the meaning or emotional tone of a sentence entirely. Consider the following examples that highlight this challenge:\n",
        "\n",
        "#### Examples:\n",
        "1. **Sentence 1**: \"I hate the selfishness in you\"  \n",
        "   **Label**: *NEGATIVE*  \n",
        "\n",
        "2. **Sentence 2**: \"I hate anyone who hurts you\"  \n",
        "   **Label**: *POSITIVE*  \n",
        "\n",
        "### Analysis of Contextual Impact\n",
        "- In the first sentence, the word **\"hate\"** renders the sentiment as *NEGATIVE*.\n",
        "- Conversely, in the second sentence, the same word, **\"hate,\"** appears but shapes the sentiment as *POSITIVE*.\n",
        "\n",
        "### Challenges for Fixed Word Embeddings\n",
        "This poses a considerable challenge to models relying on fixed word embeddings, as these embeddings treat words as having static meanings, neglecting contextual nuances.\n",
        "\n",
        "### Solution: Contextualized Embeddings\n",
        "To address this issue, employing **contextualized embeddings** leveraging **attention mechanisms** from **transformers** becomes crucial. Models like **BERT** and **GPT** are capable of grasping the comprehensive context within a sentence, allowing them to differentiate meanings based on surrounding words and sentence structures.\n",
        "\n",
        "### Key Takeaway\n",
        "Context-aware models enhance sentiment analysis by dynamically interpreting word meanings, thus overcoming the limitations of static embeddings when dealing with homonyms and ambiguous language structures.\n",
        "\n"
      ],
      "metadata": {
        "id": "QSZeTKfWkcvn"
      }
    },
    {
      "cell_type": "markdown",
      "source": [
        "#**Install required packages**"
      ],
      "metadata": {
        "id": "RZ69M9iMknEW"
      }
    },
    {
      "cell_type": "code",
      "execution_count": 1,
      "metadata": {
        "colab": {
          "base_uri": "https://localhost:8080/"
        },
        "id": "BsQE0GCGkZo7",
        "outputId": "6a19799c-f64a-4305-8698-1e9bd7b38c02"
      },
      "outputs": [
        {
          "output_type": "stream",
          "name": "stdout",
          "text": [
            "Requirement already satisfied: transformers in /usr/local/lib/python3.10/dist-packages (4.47.1)\n",
            "Requirement already satisfied: filelock in /usr/local/lib/python3.10/dist-packages (from transformers) (3.16.1)\n",
            "Requirement already satisfied: huggingface-hub<1.0,>=0.24.0 in /usr/local/lib/python3.10/dist-packages (from transformers) (0.27.0)\n",
            "Requirement already satisfied: numpy>=1.17 in /usr/local/lib/python3.10/dist-packages (from transformers) (1.26.4)\n",
            "Requirement already satisfied: packaging>=20.0 in /usr/local/lib/python3.10/dist-packages (from transformers) (24.2)\n",
            "Requirement already satisfied: pyyaml>=5.1 in /usr/local/lib/python3.10/dist-packages (from transformers) (6.0.2)\n",
            "Requirement already satisfied: regex!=2019.12.17 in /usr/local/lib/python3.10/dist-packages (from transformers) (2024.11.6)\n",
            "Requirement already satisfied: requests in /usr/local/lib/python3.10/dist-packages (from transformers) (2.32.3)\n",
            "Requirement already satisfied: tokenizers<0.22,>=0.21 in /usr/local/lib/python3.10/dist-packages (from transformers) (0.21.0)\n",
            "Requirement already satisfied: safetensors>=0.4.1 in /usr/local/lib/python3.10/dist-packages (from transformers) (0.4.5)\n",
            "Requirement already satisfied: tqdm>=4.27 in /usr/local/lib/python3.10/dist-packages (from transformers) (4.67.1)\n",
            "Requirement already satisfied: fsspec>=2023.5.0 in /usr/local/lib/python3.10/dist-packages (from huggingface-hub<1.0,>=0.24.0->transformers) (2024.10.0)\n",
            "Requirement already satisfied: typing-extensions>=3.7.4.3 in /usr/local/lib/python3.10/dist-packages (from huggingface-hub<1.0,>=0.24.0->transformers) (4.12.2)\n",
            "Requirement already satisfied: charset-normalizer<4,>=2 in /usr/local/lib/python3.10/dist-packages (from requests->transformers) (3.4.0)\n",
            "Requirement already satisfied: idna<4,>=2.5 in /usr/local/lib/python3.10/dist-packages (from requests->transformers) (3.10)\n",
            "Requirement already satisfied: urllib3<3,>=1.21.1 in /usr/local/lib/python3.10/dist-packages (from requests->transformers) (2.2.3)\n",
            "Requirement already satisfied: certifi>=2017.4.17 in /usr/local/lib/python3.10/dist-packages (from requests->transformers) (2024.12.14)\n",
            "Requirement already satisfied: accelerate in /usr/local/lib/python3.10/dist-packages (1.2.1)\n",
            "Requirement already satisfied: numpy<3.0.0,>=1.17 in /usr/local/lib/python3.10/dist-packages (from accelerate) (1.26.4)\n",
            "Requirement already satisfied: packaging>=20.0 in /usr/local/lib/python3.10/dist-packages (from accelerate) (24.2)\n",
            "Requirement already satisfied: psutil in /usr/local/lib/python3.10/dist-packages (from accelerate) (5.9.5)\n",
            "Requirement already satisfied: pyyaml in /usr/local/lib/python3.10/dist-packages (from accelerate) (6.0.2)\n",
            "Requirement already satisfied: torch>=1.10.0 in /usr/local/lib/python3.10/dist-packages (from accelerate) (2.5.1+cu121)\n",
            "Requirement already satisfied: huggingface-hub>=0.21.0 in /usr/local/lib/python3.10/dist-packages (from accelerate) (0.27.0)\n",
            "Requirement already satisfied: safetensors>=0.4.3 in /usr/local/lib/python3.10/dist-packages (from accelerate) (0.4.5)\n",
            "Requirement already satisfied: filelock in /usr/local/lib/python3.10/dist-packages (from huggingface-hub>=0.21.0->accelerate) (3.16.1)\n",
            "Requirement already satisfied: fsspec>=2023.5.0 in /usr/local/lib/python3.10/dist-packages (from huggingface-hub>=0.21.0->accelerate) (2024.10.0)\n",
            "Requirement already satisfied: requests in /usr/local/lib/python3.10/dist-packages (from huggingface-hub>=0.21.0->accelerate) (2.32.3)\n",
            "Requirement already satisfied: tqdm>=4.42.1 in /usr/local/lib/python3.10/dist-packages (from huggingface-hub>=0.21.0->accelerate) (4.67.1)\n",
            "Requirement already satisfied: typing-extensions>=3.7.4.3 in /usr/local/lib/python3.10/dist-packages (from huggingface-hub>=0.21.0->accelerate) (4.12.2)\n",
            "Requirement already satisfied: networkx in /usr/local/lib/python3.10/dist-packages (from torch>=1.10.0->accelerate) (3.4.2)\n",
            "Requirement already satisfied: jinja2 in /usr/local/lib/python3.10/dist-packages (from torch>=1.10.0->accelerate) (3.1.4)\n",
            "Requirement already satisfied: sympy==1.13.1 in /usr/local/lib/python3.10/dist-packages (from torch>=1.10.0->accelerate) (1.13.1)\n",
            "Requirement already satisfied: mpmath<1.4,>=1.1.0 in /usr/local/lib/python3.10/dist-packages (from sympy==1.13.1->torch>=1.10.0->accelerate) (1.3.0)\n",
            "Requirement already satisfied: MarkupSafe>=2.0 in /usr/local/lib/python3.10/dist-packages (from jinja2->torch>=1.10.0->accelerate) (3.0.2)\n",
            "Requirement already satisfied: charset-normalizer<4,>=2 in /usr/local/lib/python3.10/dist-packages (from requests->huggingface-hub>=0.21.0->accelerate) (3.4.0)\n",
            "Requirement already satisfied: idna<4,>=2.5 in /usr/local/lib/python3.10/dist-packages (from requests->huggingface-hub>=0.21.0->accelerate) (3.10)\n",
            "Requirement already satisfied: urllib3<3,>=1.21.1 in /usr/local/lib/python3.10/dist-packages (from requests->huggingface-hub>=0.21.0->accelerate) (2.2.3)\n",
            "Requirement already satisfied: certifi>=2017.4.17 in /usr/local/lib/python3.10/dist-packages (from requests->huggingface-hub>=0.21.0->accelerate) (2024.12.14)\n",
            "Collecting datasets\n",
            "  Downloading datasets-3.2.0-py3-none-any.whl.metadata (20 kB)\n",
            "Requirement already satisfied: filelock in /usr/local/lib/python3.10/dist-packages (from datasets) (3.16.1)\n",
            "Requirement already satisfied: numpy>=1.17 in /usr/local/lib/python3.10/dist-packages (from datasets) (1.26.4)\n",
            "Requirement already satisfied: pyarrow>=15.0.0 in /usr/local/lib/python3.10/dist-packages (from datasets) (17.0.0)\n",
            "Collecting dill<0.3.9,>=0.3.0 (from datasets)\n",
            "  Downloading dill-0.3.8-py3-none-any.whl.metadata (10 kB)\n",
            "Requirement already satisfied: pandas in /usr/local/lib/python3.10/dist-packages (from datasets) (2.2.2)\n",
            "Requirement already satisfied: requests>=2.32.2 in /usr/local/lib/python3.10/dist-packages (from datasets) (2.32.3)\n",
            "Requirement already satisfied: tqdm>=4.66.3 in /usr/local/lib/python3.10/dist-packages (from datasets) (4.67.1)\n",
            "Collecting xxhash (from datasets)\n",
            "  Downloading xxhash-3.5.0-cp310-cp310-manylinux_2_17_x86_64.manylinux2014_x86_64.whl.metadata (12 kB)\n",
            "Collecting multiprocess<0.70.17 (from datasets)\n",
            "  Downloading multiprocess-0.70.16-py310-none-any.whl.metadata (7.2 kB)\n",
            "Collecting fsspec<=2024.9.0,>=2023.1.0 (from fsspec[http]<=2024.9.0,>=2023.1.0->datasets)\n",
            "  Downloading fsspec-2024.9.0-py3-none-any.whl.metadata (11 kB)\n",
            "Requirement already satisfied: aiohttp in /usr/local/lib/python3.10/dist-packages (from datasets) (3.11.10)\n",
            "Requirement already satisfied: huggingface-hub>=0.23.0 in /usr/local/lib/python3.10/dist-packages (from datasets) (0.27.0)\n",
            "Requirement already satisfied: packaging in /usr/local/lib/python3.10/dist-packages (from datasets) (24.2)\n",
            "Requirement already satisfied: pyyaml>=5.1 in /usr/local/lib/python3.10/dist-packages (from datasets) (6.0.2)\n",
            "Requirement already satisfied: aiohappyeyeballs>=2.3.0 in /usr/local/lib/python3.10/dist-packages (from aiohttp->datasets) (2.4.4)\n",
            "Requirement already satisfied: aiosignal>=1.1.2 in /usr/local/lib/python3.10/dist-packages (from aiohttp->datasets) (1.3.2)\n",
            "Requirement already satisfied: async-timeout<6.0,>=4.0 in /usr/local/lib/python3.10/dist-packages (from aiohttp->datasets) (4.0.3)\n",
            "Requirement already satisfied: attrs>=17.3.0 in /usr/local/lib/python3.10/dist-packages (from aiohttp->datasets) (24.3.0)\n",
            "Requirement already satisfied: frozenlist>=1.1.1 in /usr/local/lib/python3.10/dist-packages (from aiohttp->datasets) (1.5.0)\n",
            "Requirement already satisfied: multidict<7.0,>=4.5 in /usr/local/lib/python3.10/dist-packages (from aiohttp->datasets) (6.1.0)\n",
            "Requirement already satisfied: propcache>=0.2.0 in /usr/local/lib/python3.10/dist-packages (from aiohttp->datasets) (0.2.1)\n",
            "Requirement already satisfied: yarl<2.0,>=1.17.0 in /usr/local/lib/python3.10/dist-packages (from aiohttp->datasets) (1.18.3)\n",
            "Requirement already satisfied: typing-extensions>=3.7.4.3 in /usr/local/lib/python3.10/dist-packages (from huggingface-hub>=0.23.0->datasets) (4.12.2)\n",
            "Requirement already satisfied: charset-normalizer<4,>=2 in /usr/local/lib/python3.10/dist-packages (from requests>=2.32.2->datasets) (3.4.0)\n",
            "Requirement already satisfied: idna<4,>=2.5 in /usr/local/lib/python3.10/dist-packages (from requests>=2.32.2->datasets) (3.10)\n",
            "Requirement already satisfied: urllib3<3,>=1.21.1 in /usr/local/lib/python3.10/dist-packages (from requests>=2.32.2->datasets) (2.2.3)\n",
            "Requirement already satisfied: certifi>=2017.4.17 in /usr/local/lib/python3.10/dist-packages (from requests>=2.32.2->datasets) (2024.12.14)\n",
            "Requirement already satisfied: python-dateutil>=2.8.2 in /usr/local/lib/python3.10/dist-packages (from pandas->datasets) (2.8.2)\n",
            "Requirement already satisfied: pytz>=2020.1 in /usr/local/lib/python3.10/dist-packages (from pandas->datasets) (2024.2)\n",
            "Requirement already satisfied: tzdata>=2022.7 in /usr/local/lib/python3.10/dist-packages (from pandas->datasets) (2024.2)\n",
            "Requirement already satisfied: six>=1.5 in /usr/local/lib/python3.10/dist-packages (from python-dateutil>=2.8.2->pandas->datasets) (1.17.0)\n",
            "Downloading datasets-3.2.0-py3-none-any.whl (480 kB)\n",
            "\u001b[2K   \u001b[90m━━━━━━━━━━━━━━━━━━━━━━━━━━━━━━━━━━━━━━━━\u001b[0m \u001b[32m480.6/480.6 kB\u001b[0m \u001b[31m15.9 MB/s\u001b[0m eta \u001b[36m0:00:00\u001b[0m\n",
            "\u001b[?25hDownloading dill-0.3.8-py3-none-any.whl (116 kB)\n",
            "\u001b[2K   \u001b[90m━━━━━━━━━━━━━━━━━━━━━━━━━━━━━━━━━━━━━━━━\u001b[0m \u001b[32m116.3/116.3 kB\u001b[0m \u001b[31m8.1 MB/s\u001b[0m eta \u001b[36m0:00:00\u001b[0m\n",
            "\u001b[?25hDownloading fsspec-2024.9.0-py3-none-any.whl (179 kB)\n",
            "\u001b[2K   \u001b[90m━━━━━━━━━━━━━━━━━━━━━━━━━━━━━━━━━━━━━━━━\u001b[0m \u001b[32m179.3/179.3 kB\u001b[0m \u001b[31m8.9 MB/s\u001b[0m eta \u001b[36m0:00:00\u001b[0m\n",
            "\u001b[?25hDownloading multiprocess-0.70.16-py310-none-any.whl (134 kB)\n",
            "\u001b[2K   \u001b[90m━━━━━━━━━━━━━━━━━━━━━━━━━━━━━━━━━━━━━━━━\u001b[0m \u001b[32m134.8/134.8 kB\u001b[0m \u001b[31m12.9 MB/s\u001b[0m eta \u001b[36m0:00:00\u001b[0m\n",
            "\u001b[?25hDownloading xxhash-3.5.0-cp310-cp310-manylinux_2_17_x86_64.manylinux2014_x86_64.whl (194 kB)\n",
            "\u001b[2K   \u001b[90m━━━━━━━━━━━━━━━━━━━━━━━━━━━━━━━━━━━━━━━━\u001b[0m \u001b[32m194.1/194.1 kB\u001b[0m \u001b[31m10.6 MB/s\u001b[0m eta \u001b[36m0:00:00\u001b[0m\n",
            "\u001b[?25hInstalling collected packages: xxhash, fsspec, dill, multiprocess, datasets\n",
            "  Attempting uninstall: fsspec\n",
            "    Found existing installation: fsspec 2024.10.0\n",
            "    Uninstalling fsspec-2024.10.0:\n",
            "      Successfully uninstalled fsspec-2024.10.0\n",
            "\u001b[31mERROR: pip's dependency resolver does not currently take into account all the packages that are installed. This behaviour is the source of the following dependency conflicts.\n",
            "gcsfs 2024.10.0 requires fsspec==2024.10.0, but you have fsspec 2024.9.0 which is incompatible.\u001b[0m\u001b[31m\n",
            "\u001b[0mSuccessfully installed datasets-3.2.0 dill-0.3.8 fsspec-2024.9.0 multiprocess-0.70.16 xxhash-3.5.0\n",
            "Collecting bertviz\n",
            "  Downloading bertviz-1.4.0-py3-none-any.whl.metadata (19 kB)\n",
            "Requirement already satisfied: transformers>=2.0 in /usr/local/lib/python3.10/dist-packages (from bertviz) (4.47.1)\n",
            "Requirement already satisfied: torch>=1.0 in /usr/local/lib/python3.10/dist-packages (from bertviz) (2.5.1+cu121)\n",
            "Requirement already satisfied: tqdm in /usr/local/lib/python3.10/dist-packages (from bertviz) (4.67.1)\n",
            "Collecting boto3 (from bertviz)\n",
            "  Downloading boto3-1.35.94-py3-none-any.whl.metadata (6.7 kB)\n",
            "Requirement already satisfied: requests in /usr/local/lib/python3.10/dist-packages (from bertviz) (2.32.3)\n",
            "Requirement already satisfied: regex in /usr/local/lib/python3.10/dist-packages (from bertviz) (2024.11.6)\n",
            "Requirement already satisfied: sentencepiece in /usr/local/lib/python3.10/dist-packages (from bertviz) (0.2.0)\n",
            "Requirement already satisfied: filelock in /usr/local/lib/python3.10/dist-packages (from torch>=1.0->bertviz) (3.16.1)\n",
            "Requirement already satisfied: typing-extensions>=4.8.0 in /usr/local/lib/python3.10/dist-packages (from torch>=1.0->bertviz) (4.12.2)\n",
            "Requirement already satisfied: networkx in /usr/local/lib/python3.10/dist-packages (from torch>=1.0->bertviz) (3.4.2)\n",
            "Requirement already satisfied: jinja2 in /usr/local/lib/python3.10/dist-packages (from torch>=1.0->bertviz) (3.1.4)\n",
            "Requirement already satisfied: fsspec in /usr/local/lib/python3.10/dist-packages (from torch>=1.0->bertviz) (2024.9.0)\n",
            "Requirement already satisfied: sympy==1.13.1 in /usr/local/lib/python3.10/dist-packages (from torch>=1.0->bertviz) (1.13.1)\n",
            "Requirement already satisfied: mpmath<1.4,>=1.1.0 in /usr/local/lib/python3.10/dist-packages (from sympy==1.13.1->torch>=1.0->bertviz) (1.3.0)\n",
            "Requirement already satisfied: huggingface-hub<1.0,>=0.24.0 in /usr/local/lib/python3.10/dist-packages (from transformers>=2.0->bertviz) (0.27.0)\n",
            "Requirement already satisfied: numpy>=1.17 in /usr/local/lib/python3.10/dist-packages (from transformers>=2.0->bertviz) (1.26.4)\n",
            "Requirement already satisfied: packaging>=20.0 in /usr/local/lib/python3.10/dist-packages (from transformers>=2.0->bertviz) (24.2)\n",
            "Requirement already satisfied: pyyaml>=5.1 in /usr/local/lib/python3.10/dist-packages (from transformers>=2.0->bertviz) (6.0.2)\n",
            "Requirement already satisfied: tokenizers<0.22,>=0.21 in /usr/local/lib/python3.10/dist-packages (from transformers>=2.0->bertviz) (0.21.0)\n",
            "Requirement already satisfied: safetensors>=0.4.1 in /usr/local/lib/python3.10/dist-packages (from transformers>=2.0->bertviz) (0.4.5)\n",
            "Collecting botocore<1.36.0,>=1.35.94 (from boto3->bertviz)\n",
            "  Downloading botocore-1.35.94-py3-none-any.whl.metadata (5.7 kB)\n",
            "Collecting jmespath<2.0.0,>=0.7.1 (from boto3->bertviz)\n",
            "  Downloading jmespath-1.0.1-py3-none-any.whl.metadata (7.6 kB)\n",
            "Collecting s3transfer<0.11.0,>=0.10.0 (from boto3->bertviz)\n",
            "  Downloading s3transfer-0.10.4-py3-none-any.whl.metadata (1.7 kB)\n",
            "Requirement already satisfied: charset-normalizer<4,>=2 in /usr/local/lib/python3.10/dist-packages (from requests->bertviz) (3.4.0)\n",
            "Requirement already satisfied: idna<4,>=2.5 in /usr/local/lib/python3.10/dist-packages (from requests->bertviz) (3.10)\n",
            "Requirement already satisfied: urllib3<3,>=1.21.1 in /usr/local/lib/python3.10/dist-packages (from requests->bertviz) (2.2.3)\n",
            "Requirement already satisfied: certifi>=2017.4.17 in /usr/local/lib/python3.10/dist-packages (from requests->bertviz) (2024.12.14)\n",
            "Requirement already satisfied: python-dateutil<3.0.0,>=2.1 in /usr/local/lib/python3.10/dist-packages (from botocore<1.36.0,>=1.35.94->boto3->bertviz) (2.8.2)\n",
            "Requirement already satisfied: MarkupSafe>=2.0 in /usr/local/lib/python3.10/dist-packages (from jinja2->torch>=1.0->bertviz) (3.0.2)\n",
            "Requirement already satisfied: six>=1.5 in /usr/local/lib/python3.10/dist-packages (from python-dateutil<3.0.0,>=2.1->botocore<1.36.0,>=1.35.94->boto3->bertviz) (1.17.0)\n",
            "Downloading bertviz-1.4.0-py3-none-any.whl (157 kB)\n",
            "\u001b[2K   \u001b[90m━━━━━━━━━━━━━━━━━━━━━━━━━━━━━━━━━━━━━━━━\u001b[0m \u001b[32m157.6/157.6 kB\u001b[0m \u001b[31m9.0 MB/s\u001b[0m eta \u001b[36m0:00:00\u001b[0m\n",
            "\u001b[?25hDownloading boto3-1.35.94-py3-none-any.whl (139 kB)\n",
            "\u001b[2K   \u001b[90m━━━━━━━━━━━━━━━━━━━━━━━━━━━━━━━━━━━━━━━━\u001b[0m \u001b[32m139.2/139.2 kB\u001b[0m \u001b[31m5.7 MB/s\u001b[0m eta \u001b[36m0:00:00\u001b[0m\n",
            "\u001b[?25hDownloading botocore-1.35.94-py3-none-any.whl (13.3 MB)\n",
            "\u001b[2K   \u001b[90m━━━━━━━━━━━━━━━━━━━━━━━━━━━━━━━━━━━━━━━━\u001b[0m \u001b[32m13.3/13.3 MB\u001b[0m \u001b[31m11.1 MB/s\u001b[0m eta \u001b[36m0:00:00\u001b[0m\n",
            "\u001b[?25hDownloading jmespath-1.0.1-py3-none-any.whl (20 kB)\n",
            "Downloading s3transfer-0.10.4-py3-none-any.whl (83 kB)\n",
            "\u001b[2K   \u001b[90m━━━━━━━━━━━━━━━━━━━━━━━━━━━━━━━━━━━━━━━━\u001b[0m \u001b[32m83.2/83.2 kB\u001b[0m \u001b[31m6.4 MB/s\u001b[0m eta \u001b[36m0:00:00\u001b[0m\n",
            "\u001b[?25hInstalling collected packages: jmespath, botocore, s3transfer, boto3, bertviz\n",
            "Successfully installed bertviz-1.4.0 boto3-1.35.94 botocore-1.35.94 jmespath-1.0.1 s3transfer-0.10.4\n",
            "Collecting umap-learn\n",
            "  Downloading umap_learn-0.5.7-py3-none-any.whl.metadata (21 kB)\n",
            "Requirement already satisfied: numpy>=1.17 in /usr/local/lib/python3.10/dist-packages (from umap-learn) (1.26.4)\n",
            "Requirement already satisfied: scipy>=1.3.1 in /usr/local/lib/python3.10/dist-packages (from umap-learn) (1.13.1)\n",
            "Requirement already satisfied: scikit-learn>=0.22 in /usr/local/lib/python3.10/dist-packages (from umap-learn) (1.6.0)\n",
            "Requirement already satisfied: numba>=0.51.2 in /usr/local/lib/python3.10/dist-packages (from umap-learn) (0.60.0)\n",
            "Collecting pynndescent>=0.5 (from umap-learn)\n",
            "  Downloading pynndescent-0.5.13-py3-none-any.whl.metadata (6.8 kB)\n",
            "Requirement already satisfied: tqdm in /usr/local/lib/python3.10/dist-packages (from umap-learn) (4.67.1)\n",
            "Requirement already satisfied: llvmlite<0.44,>=0.43.0dev0 in /usr/local/lib/python3.10/dist-packages (from numba>=0.51.2->umap-learn) (0.43.0)\n",
            "Requirement already satisfied: joblib>=0.11 in /usr/local/lib/python3.10/dist-packages (from pynndescent>=0.5->umap-learn) (1.4.2)\n",
            "Requirement already satisfied: threadpoolctl>=3.1.0 in /usr/local/lib/python3.10/dist-packages (from scikit-learn>=0.22->umap-learn) (3.5.0)\n",
            "Downloading umap_learn-0.5.7-py3-none-any.whl (88 kB)\n",
            "\u001b[2K   \u001b[90m━━━━━━━━━━━━━━━━━━━━━━━━━━━━━━━━━━━━━━━━\u001b[0m \u001b[32m88.8/88.8 kB\u001b[0m \u001b[31m8.1 MB/s\u001b[0m eta \u001b[36m0:00:00\u001b[0m\n",
            "\u001b[?25hDownloading pynndescent-0.5.13-py3-none-any.whl (56 kB)\n",
            "\u001b[2K   \u001b[90m━━━━━━━━━━━━━━━━━━━━━━━━━━━━━━━━━━━━━━━━\u001b[0m \u001b[32m56.9/56.9 kB\u001b[0m \u001b[31m4.1 MB/s\u001b[0m eta \u001b[36m0:00:00\u001b[0m\n",
            "\u001b[?25hInstalling collected packages: pynndescent, umap-learn\n",
            "Successfully installed pynndescent-0.5.13 umap-learn-0.5.7\n",
            "Requirement already satisfied: seaborn in /usr/local/lib/python3.10/dist-packages (0.13.2)\n",
            "Requirement already satisfied: numpy!=1.24.0,>=1.20 in /usr/local/lib/python3.10/dist-packages (from seaborn) (1.26.4)\n",
            "Requirement already satisfied: pandas>=1.2 in /usr/local/lib/python3.10/dist-packages (from seaborn) (2.2.2)\n",
            "Requirement already satisfied: matplotlib!=3.6.1,>=3.4 in /usr/local/lib/python3.10/dist-packages (from seaborn) (3.8.0)\n",
            "Requirement already satisfied: contourpy>=1.0.1 in /usr/local/lib/python3.10/dist-packages (from matplotlib!=3.6.1,>=3.4->seaborn) (1.3.1)\n",
            "Requirement already satisfied: cycler>=0.10 in /usr/local/lib/python3.10/dist-packages (from matplotlib!=3.6.1,>=3.4->seaborn) (0.12.1)\n",
            "Requirement already satisfied: fonttools>=4.22.0 in /usr/local/lib/python3.10/dist-packages (from matplotlib!=3.6.1,>=3.4->seaborn) (4.55.3)\n",
            "Requirement already satisfied: kiwisolver>=1.0.1 in /usr/local/lib/python3.10/dist-packages (from matplotlib!=3.6.1,>=3.4->seaborn) (1.4.7)\n",
            "Requirement already satisfied: packaging>=20.0 in /usr/local/lib/python3.10/dist-packages (from matplotlib!=3.6.1,>=3.4->seaborn) (24.2)\n",
            "Requirement already satisfied: pillow>=6.2.0 in /usr/local/lib/python3.10/dist-packages (from matplotlib!=3.6.1,>=3.4->seaborn) (11.0.0)\n",
            "Requirement already satisfied: pyparsing>=2.3.1 in /usr/local/lib/python3.10/dist-packages (from matplotlib!=3.6.1,>=3.4->seaborn) (3.2.0)\n",
            "Requirement already satisfied: python-dateutil>=2.7 in /usr/local/lib/python3.10/dist-packages (from matplotlib!=3.6.1,>=3.4->seaborn) (2.8.2)\n",
            "Requirement already satisfied: pytz>=2020.1 in /usr/local/lib/python3.10/dist-packages (from pandas>=1.2->seaborn) (2024.2)\n",
            "Requirement already satisfied: tzdata>=2022.7 in /usr/local/lib/python3.10/dist-packages (from pandas>=1.2->seaborn) (2024.2)\n",
            "Requirement already satisfied: six>=1.5 in /usr/local/lib/python3.10/dist-packages (from python-dateutil>=2.7->matplotlib!=3.6.1,>=3.4->seaborn) (1.17.0)\n"
          ]
        }
      ],
      "source": [
        "!pip install -U transformers\n",
        "!pip install -U accelerate\n",
        "!pip install -U datasets\n",
        "!pip install -U bertviz\n",
        "!pip install -U umap-learn\n",
        "!pip install seaborn --upgrade"
      ]
    },
    {
      "cell_type": "markdown",
      "source": [
        "#**Dataset investigation**"
      ],
      "metadata": {
        "id": "mm4ek2siku-_"
      }
    },
    {
      "cell_type": "markdown",
      "source": [
        "[The Stanford Sentiment Treebank](https://https://huggingface.co/datasets/stanfordnlp/sst2) is a corpus with fully labeled parse trees that allows for a complete analysis of the compositional effects of sentiment in language. The corpus is based on the dataset introduced by Pang and Lee (2005) and consists of 11,855 single sentences extracted from movie reviews. It was parsed with the Stanford parser and includes a total of 215,154 unique phrases from those parse trees, each annotated by 3 human judges.\n",
        "\n",
        "Binary classification experiments on full sentences (negative or somewhat negative vs somewhat positive or positive with neutral sentences discarded) refer to the dataset as SST-2 or SST binary."
      ],
      "metadata": {
        "id": "653sfKMvk992"
      }
    },
    {
      "cell_type": "code",
      "source": [
        "import pandas as pd\n",
        "\n",
        "splits = {'train': 'data/train-00000-of-00001.parquet', 'validation': 'data/validation-00000-of-00001.parquet', 'test': 'data/test-00000-of-00001.parquet'}\n",
        "df = pd.read_parquet(\"hf://datasets/stanfordnlp/sst2/\" + splits[\"train\"])"
      ],
      "metadata": {
        "id": "jdNLeonJkpZD",
        "colab": {
          "base_uri": "https://localhost:8080/"
        },
        "outputId": "8d2d408e-ae66-42d4-ffd8-f0af1bc5ec8a"
      },
      "execution_count": 2,
      "outputs": [
        {
          "output_type": "stream",
          "name": "stderr",
          "text": [
            "/usr/local/lib/python3.10/dist-packages/huggingface_hub/utils/_auth.py:94: UserWarning: \n",
            "The secret `HF_TOKEN` does not exist in your Colab secrets.\n",
            "To authenticate with the Hugging Face Hub, create a token in your settings tab (https://huggingface.co/settings/tokens), set it as secret in your Google Colab and restart your session.\n",
            "You will be able to reuse this secret in all of your notebooks.\n",
            "Please note that authentication is recommended but still optional to access public models or datasets.\n",
            "  warnings.warn(\n"
          ]
        }
      ]
    },
    {
      "cell_type": "code",
      "source": [
        "df.head()"
      ],
      "metadata": {
        "colab": {
          "base_uri": "https://localhost:8080/",
          "height": 206
        },
        "id": "9ZNGSgNWk3by",
        "outputId": "629d23f8-e381-4870-d826-25dae1daa30a"
      },
      "execution_count": 3,
      "outputs": [
        {
          "output_type": "execute_result",
          "data": {
            "text/plain": [
              "   idx                                           sentence  label\n",
              "0    0       hide new secretions from the parental units       0\n",
              "1    1               contains no wit , only labored gags       0\n",
              "2    2  that loves its characters and communicates som...      1\n",
              "3    3  remains utterly satisfied to remain the same t...      0\n",
              "4    4  on the worst revenge-of-the-nerds clichés the ...      0"
            ],
            "text/html": [
              "\n",
              "  <div id=\"df-85748195-cf64-4025-aa09-596689d137f8\" class=\"colab-df-container\">\n",
              "    <div>\n",
              "<style scoped>\n",
              "    .dataframe tbody tr th:only-of-type {\n",
              "        vertical-align: middle;\n",
              "    }\n",
              "\n",
              "    .dataframe tbody tr th {\n",
              "        vertical-align: top;\n",
              "    }\n",
              "\n",
              "    .dataframe thead th {\n",
              "        text-align: right;\n",
              "    }\n",
              "</style>\n",
              "<table border=\"1\" class=\"dataframe\">\n",
              "  <thead>\n",
              "    <tr style=\"text-align: right;\">\n",
              "      <th></th>\n",
              "      <th>idx</th>\n",
              "      <th>sentence</th>\n",
              "      <th>label</th>\n",
              "    </tr>\n",
              "  </thead>\n",
              "  <tbody>\n",
              "    <tr>\n",
              "      <th>0</th>\n",
              "      <td>0</td>\n",
              "      <td>hide new secretions from the parental units</td>\n",
              "      <td>0</td>\n",
              "    </tr>\n",
              "    <tr>\n",
              "      <th>1</th>\n",
              "      <td>1</td>\n",
              "      <td>contains no wit , only labored gags</td>\n",
              "      <td>0</td>\n",
              "    </tr>\n",
              "    <tr>\n",
              "      <th>2</th>\n",
              "      <td>2</td>\n",
              "      <td>that loves its characters and communicates som...</td>\n",
              "      <td>1</td>\n",
              "    </tr>\n",
              "    <tr>\n",
              "      <th>3</th>\n",
              "      <td>3</td>\n",
              "      <td>remains utterly satisfied to remain the same t...</td>\n",
              "      <td>0</td>\n",
              "    </tr>\n",
              "    <tr>\n",
              "      <th>4</th>\n",
              "      <td>4</td>\n",
              "      <td>on the worst revenge-of-the-nerds clichés the ...</td>\n",
              "      <td>0</td>\n",
              "    </tr>\n",
              "  </tbody>\n",
              "</table>\n",
              "</div>\n",
              "    <div class=\"colab-df-buttons\">\n",
              "\n",
              "  <div class=\"colab-df-container\">\n",
              "    <button class=\"colab-df-convert\" onclick=\"convertToInteractive('df-85748195-cf64-4025-aa09-596689d137f8')\"\n",
              "            title=\"Convert this dataframe to an interactive table.\"\n",
              "            style=\"display:none;\">\n",
              "\n",
              "  <svg xmlns=\"http://www.w3.org/2000/svg\" height=\"24px\" viewBox=\"0 -960 960 960\">\n",
              "    <path d=\"M120-120v-720h720v720H120Zm60-500h600v-160H180v160Zm220 220h160v-160H400v160Zm0 220h160v-160H400v160ZM180-400h160v-160H180v160Zm440 0h160v-160H620v160ZM180-180h160v-160H180v160Zm440 0h160v-160H620v160Z\"/>\n",
              "  </svg>\n",
              "    </button>\n",
              "\n",
              "  <style>\n",
              "    .colab-df-container {\n",
              "      display:flex;\n",
              "      gap: 12px;\n",
              "    }\n",
              "\n",
              "    .colab-df-convert {\n",
              "      background-color: #E8F0FE;\n",
              "      border: none;\n",
              "      border-radius: 50%;\n",
              "      cursor: pointer;\n",
              "      display: none;\n",
              "      fill: #1967D2;\n",
              "      height: 32px;\n",
              "      padding: 0 0 0 0;\n",
              "      width: 32px;\n",
              "    }\n",
              "\n",
              "    .colab-df-convert:hover {\n",
              "      background-color: #E2EBFA;\n",
              "      box-shadow: 0px 1px 2px rgba(60, 64, 67, 0.3), 0px 1px 3px 1px rgba(60, 64, 67, 0.15);\n",
              "      fill: #174EA6;\n",
              "    }\n",
              "\n",
              "    .colab-df-buttons div {\n",
              "      margin-bottom: 4px;\n",
              "    }\n",
              "\n",
              "    [theme=dark] .colab-df-convert {\n",
              "      background-color: #3B4455;\n",
              "      fill: #D2E3FC;\n",
              "    }\n",
              "\n",
              "    [theme=dark] .colab-df-convert:hover {\n",
              "      background-color: #434B5C;\n",
              "      box-shadow: 0px 1px 3px 1px rgba(0, 0, 0, 0.15);\n",
              "      filter: drop-shadow(0px 1px 2px rgba(0, 0, 0, 0.3));\n",
              "      fill: #FFFFFF;\n",
              "    }\n",
              "  </style>\n",
              "\n",
              "    <script>\n",
              "      const buttonEl =\n",
              "        document.querySelector('#df-85748195-cf64-4025-aa09-596689d137f8 button.colab-df-convert');\n",
              "      buttonEl.style.display =\n",
              "        google.colab.kernel.accessAllowed ? 'block' : 'none';\n",
              "\n",
              "      async function convertToInteractive(key) {\n",
              "        const element = document.querySelector('#df-85748195-cf64-4025-aa09-596689d137f8');\n",
              "        const dataTable =\n",
              "          await google.colab.kernel.invokeFunction('convertToInteractive',\n",
              "                                                    [key], {});\n",
              "        if (!dataTable) return;\n",
              "\n",
              "        const docLinkHtml = 'Like what you see? Visit the ' +\n",
              "          '<a target=\"_blank\" href=https://colab.research.google.com/notebooks/data_table.ipynb>data table notebook</a>'\n",
              "          + ' to learn more about interactive tables.';\n",
              "        element.innerHTML = '';\n",
              "        dataTable['output_type'] = 'display_data';\n",
              "        await google.colab.output.renderOutput(dataTable, element);\n",
              "        const docLink = document.createElement('div');\n",
              "        docLink.innerHTML = docLinkHtml;\n",
              "        element.appendChild(docLink);\n",
              "      }\n",
              "    </script>\n",
              "  </div>\n",
              "\n",
              "\n",
              "<div id=\"df-40c0542c-2c1c-4a1e-91bd-0e936fc55edd\">\n",
              "  <button class=\"colab-df-quickchart\" onclick=\"quickchart('df-40c0542c-2c1c-4a1e-91bd-0e936fc55edd')\"\n",
              "            title=\"Suggest charts\"\n",
              "            style=\"display:none;\">\n",
              "\n",
              "<svg xmlns=\"http://www.w3.org/2000/svg\" height=\"24px\"viewBox=\"0 0 24 24\"\n",
              "     width=\"24px\">\n",
              "    <g>\n",
              "        <path d=\"M19 3H5c-1.1 0-2 .9-2 2v14c0 1.1.9 2 2 2h14c1.1 0 2-.9 2-2V5c0-1.1-.9-2-2-2zM9 17H7v-7h2v7zm4 0h-2V7h2v10zm4 0h-2v-4h2v4z\"/>\n",
              "    </g>\n",
              "</svg>\n",
              "  </button>\n",
              "\n",
              "<style>\n",
              "  .colab-df-quickchart {\n",
              "      --bg-color: #E8F0FE;\n",
              "      --fill-color: #1967D2;\n",
              "      --hover-bg-color: #E2EBFA;\n",
              "      --hover-fill-color: #174EA6;\n",
              "      --disabled-fill-color: #AAA;\n",
              "      --disabled-bg-color: #DDD;\n",
              "  }\n",
              "\n",
              "  [theme=dark] .colab-df-quickchart {\n",
              "      --bg-color: #3B4455;\n",
              "      --fill-color: #D2E3FC;\n",
              "      --hover-bg-color: #434B5C;\n",
              "      --hover-fill-color: #FFFFFF;\n",
              "      --disabled-bg-color: #3B4455;\n",
              "      --disabled-fill-color: #666;\n",
              "  }\n",
              "\n",
              "  .colab-df-quickchart {\n",
              "    background-color: var(--bg-color);\n",
              "    border: none;\n",
              "    border-radius: 50%;\n",
              "    cursor: pointer;\n",
              "    display: none;\n",
              "    fill: var(--fill-color);\n",
              "    height: 32px;\n",
              "    padding: 0;\n",
              "    width: 32px;\n",
              "  }\n",
              "\n",
              "  .colab-df-quickchart:hover {\n",
              "    background-color: var(--hover-bg-color);\n",
              "    box-shadow: 0 1px 2px rgba(60, 64, 67, 0.3), 0 1px 3px 1px rgba(60, 64, 67, 0.15);\n",
              "    fill: var(--button-hover-fill-color);\n",
              "  }\n",
              "\n",
              "  .colab-df-quickchart-complete:disabled,\n",
              "  .colab-df-quickchart-complete:disabled:hover {\n",
              "    background-color: var(--disabled-bg-color);\n",
              "    fill: var(--disabled-fill-color);\n",
              "    box-shadow: none;\n",
              "  }\n",
              "\n",
              "  .colab-df-spinner {\n",
              "    border: 2px solid var(--fill-color);\n",
              "    border-color: transparent;\n",
              "    border-bottom-color: var(--fill-color);\n",
              "    animation:\n",
              "      spin 1s steps(1) infinite;\n",
              "  }\n",
              "\n",
              "  @keyframes spin {\n",
              "    0% {\n",
              "      border-color: transparent;\n",
              "      border-bottom-color: var(--fill-color);\n",
              "      border-left-color: var(--fill-color);\n",
              "    }\n",
              "    20% {\n",
              "      border-color: transparent;\n",
              "      border-left-color: var(--fill-color);\n",
              "      border-top-color: var(--fill-color);\n",
              "    }\n",
              "    30% {\n",
              "      border-color: transparent;\n",
              "      border-left-color: var(--fill-color);\n",
              "      border-top-color: var(--fill-color);\n",
              "      border-right-color: var(--fill-color);\n",
              "    }\n",
              "    40% {\n",
              "      border-color: transparent;\n",
              "      border-right-color: var(--fill-color);\n",
              "      border-top-color: var(--fill-color);\n",
              "    }\n",
              "    60% {\n",
              "      border-color: transparent;\n",
              "      border-right-color: var(--fill-color);\n",
              "    }\n",
              "    80% {\n",
              "      border-color: transparent;\n",
              "      border-right-color: var(--fill-color);\n",
              "      border-bottom-color: var(--fill-color);\n",
              "    }\n",
              "    90% {\n",
              "      border-color: transparent;\n",
              "      border-bottom-color: var(--fill-color);\n",
              "    }\n",
              "  }\n",
              "</style>\n",
              "\n",
              "  <script>\n",
              "    async function quickchart(key) {\n",
              "      const quickchartButtonEl =\n",
              "        document.querySelector('#' + key + ' button');\n",
              "      quickchartButtonEl.disabled = true;  // To prevent multiple clicks.\n",
              "      quickchartButtonEl.classList.add('colab-df-spinner');\n",
              "      try {\n",
              "        const charts = await google.colab.kernel.invokeFunction(\n",
              "            'suggestCharts', [key], {});\n",
              "      } catch (error) {\n",
              "        console.error('Error during call to suggestCharts:', error);\n",
              "      }\n",
              "      quickchartButtonEl.classList.remove('colab-df-spinner');\n",
              "      quickchartButtonEl.classList.add('colab-df-quickchart-complete');\n",
              "    }\n",
              "    (() => {\n",
              "      let quickchartButtonEl =\n",
              "        document.querySelector('#df-40c0542c-2c1c-4a1e-91bd-0e936fc55edd button');\n",
              "      quickchartButtonEl.style.display =\n",
              "        google.colab.kernel.accessAllowed ? 'block' : 'none';\n",
              "    })();\n",
              "  </script>\n",
              "</div>\n",
              "\n",
              "    </div>\n",
              "  </div>\n"
            ],
            "application/vnd.google.colaboratory.intrinsic+json": {
              "type": "dataframe",
              "variable_name": "df",
              "summary": "{\n  \"name\": \"df\",\n  \"rows\": 67349,\n  \"fields\": [\n    {\n      \"column\": \"idx\",\n      \"properties\": {\n        \"dtype\": \"int32\",\n        \"num_unique_values\": 67349,\n        \"samples\": [\n          66730,\n          29890,\n          45801\n        ],\n        \"semantic_type\": \"\",\n        \"description\": \"\"\n      }\n    },\n    {\n      \"column\": \"sentence\",\n      \"properties\": {\n        \"dtype\": \"string\",\n        \"num_unique_values\": 66978,\n        \"samples\": [\n          \"mr. day-lewis roars with leonine power \",\n          \"a fairly slow paced , almost humdrum approach to character development \",\n          \"it 's not very interesting . \"\n        ],\n        \"semantic_type\": \"\",\n        \"description\": \"\"\n      }\n    },\n    {\n      \"column\": \"label\",\n      \"properties\": {\n        \"dtype\": \"number\",\n        \"std\": 0,\n        \"min\": 0,\n        \"max\": 1,\n        \"num_unique_values\": 2,\n        \"samples\": [\n          1,\n          0\n        ],\n        \"semantic_type\": \"\",\n        \"description\": \"\"\n      }\n    }\n  ]\n}"
            }
          },
          "metadata": {},
          "execution_count": 3
        }
      ]
    },
    {
      "cell_type": "code",
      "source": [
        "df['label_str'] = df['label'].map({0: 'negative', 1: 'positive'})"
      ],
      "metadata": {
        "id": "ZXmK9WEqlfQY"
      },
      "execution_count": 4,
      "outputs": []
    },
    {
      "cell_type": "code",
      "source": [
        "df.head(2)"
      ],
      "metadata": {
        "colab": {
          "base_uri": "https://localhost:8080/",
          "height": 112
        },
        "id": "40eOy_YjlsrK",
        "outputId": "bcc52b63-4f66-43cb-cce8-fd358d66daa0"
      },
      "execution_count": null,
      "outputs": [
        {
          "output_type": "execute_result",
          "data": {
            "text/plain": [
              "   idx                                      sentence  label label_str\n",
              "0    0  hide new secretions from the parental units       0  negative\n",
              "1    1          contains no wit , only labored gags       0  negative"
            ],
            "text/html": [
              "\n",
              "  <div id=\"df-f10a4551-b8c9-4441-9adb-212ace7551ba\" class=\"colab-df-container\">\n",
              "    <div>\n",
              "<style scoped>\n",
              "    .dataframe tbody tr th:only-of-type {\n",
              "        vertical-align: middle;\n",
              "    }\n",
              "\n",
              "    .dataframe tbody tr th {\n",
              "        vertical-align: top;\n",
              "    }\n",
              "\n",
              "    .dataframe thead th {\n",
              "        text-align: right;\n",
              "    }\n",
              "</style>\n",
              "<table border=\"1\" class=\"dataframe\">\n",
              "  <thead>\n",
              "    <tr style=\"text-align: right;\">\n",
              "      <th></th>\n",
              "      <th>idx</th>\n",
              "      <th>sentence</th>\n",
              "      <th>label</th>\n",
              "      <th>label_str</th>\n",
              "    </tr>\n",
              "  </thead>\n",
              "  <tbody>\n",
              "    <tr>\n",
              "      <th>0</th>\n",
              "      <td>0</td>\n",
              "      <td>hide new secretions from the parental units</td>\n",
              "      <td>0</td>\n",
              "      <td>negative</td>\n",
              "    </tr>\n",
              "    <tr>\n",
              "      <th>1</th>\n",
              "      <td>1</td>\n",
              "      <td>contains no wit , only labored gags</td>\n",
              "      <td>0</td>\n",
              "      <td>negative</td>\n",
              "    </tr>\n",
              "  </tbody>\n",
              "</table>\n",
              "</div>\n",
              "    <div class=\"colab-df-buttons\">\n",
              "\n",
              "  <div class=\"colab-df-container\">\n",
              "    <button class=\"colab-df-convert\" onclick=\"convertToInteractive('df-f10a4551-b8c9-4441-9adb-212ace7551ba')\"\n",
              "            title=\"Convert this dataframe to an interactive table.\"\n",
              "            style=\"display:none;\">\n",
              "\n",
              "  <svg xmlns=\"http://www.w3.org/2000/svg\" height=\"24px\" viewBox=\"0 -960 960 960\">\n",
              "    <path d=\"M120-120v-720h720v720H120Zm60-500h600v-160H180v160Zm220 220h160v-160H400v160Zm0 220h160v-160H400v160ZM180-400h160v-160H180v160Zm440 0h160v-160H620v160ZM180-180h160v-160H180v160Zm440 0h160v-160H620v160Z\"/>\n",
              "  </svg>\n",
              "    </button>\n",
              "\n",
              "  <style>\n",
              "    .colab-df-container {\n",
              "      display:flex;\n",
              "      gap: 12px;\n",
              "    }\n",
              "\n",
              "    .colab-df-convert {\n",
              "      background-color: #E8F0FE;\n",
              "      border: none;\n",
              "      border-radius: 50%;\n",
              "      cursor: pointer;\n",
              "      display: none;\n",
              "      fill: #1967D2;\n",
              "      height: 32px;\n",
              "      padding: 0 0 0 0;\n",
              "      width: 32px;\n",
              "    }\n",
              "\n",
              "    .colab-df-convert:hover {\n",
              "      background-color: #E2EBFA;\n",
              "      box-shadow: 0px 1px 2px rgba(60, 64, 67, 0.3), 0px 1px 3px 1px rgba(60, 64, 67, 0.15);\n",
              "      fill: #174EA6;\n",
              "    }\n",
              "\n",
              "    .colab-df-buttons div {\n",
              "      margin-bottom: 4px;\n",
              "    }\n",
              "\n",
              "    [theme=dark] .colab-df-convert {\n",
              "      background-color: #3B4455;\n",
              "      fill: #D2E3FC;\n",
              "    }\n",
              "\n",
              "    [theme=dark] .colab-df-convert:hover {\n",
              "      background-color: #434B5C;\n",
              "      box-shadow: 0px 1px 3px 1px rgba(0, 0, 0, 0.15);\n",
              "      filter: drop-shadow(0px 1px 2px rgba(0, 0, 0, 0.3));\n",
              "      fill: #FFFFFF;\n",
              "    }\n",
              "  </style>\n",
              "\n",
              "    <script>\n",
              "      const buttonEl =\n",
              "        document.querySelector('#df-f10a4551-b8c9-4441-9adb-212ace7551ba button.colab-df-convert');\n",
              "      buttonEl.style.display =\n",
              "        google.colab.kernel.accessAllowed ? 'block' : 'none';\n",
              "\n",
              "      async function convertToInteractive(key) {\n",
              "        const element = document.querySelector('#df-f10a4551-b8c9-4441-9adb-212ace7551ba');\n",
              "        const dataTable =\n",
              "          await google.colab.kernel.invokeFunction('convertToInteractive',\n",
              "                                                    [key], {});\n",
              "        if (!dataTable) return;\n",
              "\n",
              "        const docLinkHtml = 'Like what you see? Visit the ' +\n",
              "          '<a target=\"_blank\" href=https://colab.research.google.com/notebooks/data_table.ipynb>data table notebook</a>'\n",
              "          + ' to learn more about interactive tables.';\n",
              "        element.innerHTML = '';\n",
              "        dataTable['output_type'] = 'display_data';\n",
              "        await google.colab.output.renderOutput(dataTable, element);\n",
              "        const docLink = document.createElement('div');\n",
              "        docLink.innerHTML = docLinkHtml;\n",
              "        element.appendChild(docLink);\n",
              "      }\n",
              "    </script>\n",
              "  </div>\n",
              "\n",
              "\n",
              "<div id=\"df-ba34fffc-88fa-44be-8bc7-c018adc34a63\">\n",
              "  <button class=\"colab-df-quickchart\" onclick=\"quickchart('df-ba34fffc-88fa-44be-8bc7-c018adc34a63')\"\n",
              "            title=\"Suggest charts\"\n",
              "            style=\"display:none;\">\n",
              "\n",
              "<svg xmlns=\"http://www.w3.org/2000/svg\" height=\"24px\"viewBox=\"0 0 24 24\"\n",
              "     width=\"24px\">\n",
              "    <g>\n",
              "        <path d=\"M19 3H5c-1.1 0-2 .9-2 2v14c0 1.1.9 2 2 2h14c1.1 0 2-.9 2-2V5c0-1.1-.9-2-2-2zM9 17H7v-7h2v7zm4 0h-2V7h2v10zm4 0h-2v-4h2v4z\"/>\n",
              "    </g>\n",
              "</svg>\n",
              "  </button>\n",
              "\n",
              "<style>\n",
              "  .colab-df-quickchart {\n",
              "      --bg-color: #E8F0FE;\n",
              "      --fill-color: #1967D2;\n",
              "      --hover-bg-color: #E2EBFA;\n",
              "      --hover-fill-color: #174EA6;\n",
              "      --disabled-fill-color: #AAA;\n",
              "      --disabled-bg-color: #DDD;\n",
              "  }\n",
              "\n",
              "  [theme=dark] .colab-df-quickchart {\n",
              "      --bg-color: #3B4455;\n",
              "      --fill-color: #D2E3FC;\n",
              "      --hover-bg-color: #434B5C;\n",
              "      --hover-fill-color: #FFFFFF;\n",
              "      --disabled-bg-color: #3B4455;\n",
              "      --disabled-fill-color: #666;\n",
              "  }\n",
              "\n",
              "  .colab-df-quickchart {\n",
              "    background-color: var(--bg-color);\n",
              "    border: none;\n",
              "    border-radius: 50%;\n",
              "    cursor: pointer;\n",
              "    display: none;\n",
              "    fill: var(--fill-color);\n",
              "    height: 32px;\n",
              "    padding: 0;\n",
              "    width: 32px;\n",
              "  }\n",
              "\n",
              "  .colab-df-quickchart:hover {\n",
              "    background-color: var(--hover-bg-color);\n",
              "    box-shadow: 0 1px 2px rgba(60, 64, 67, 0.3), 0 1px 3px 1px rgba(60, 64, 67, 0.15);\n",
              "    fill: var(--button-hover-fill-color);\n",
              "  }\n",
              "\n",
              "  .colab-df-quickchart-complete:disabled,\n",
              "  .colab-df-quickchart-complete:disabled:hover {\n",
              "    background-color: var(--disabled-bg-color);\n",
              "    fill: var(--disabled-fill-color);\n",
              "    box-shadow: none;\n",
              "  }\n",
              "\n",
              "  .colab-df-spinner {\n",
              "    border: 2px solid var(--fill-color);\n",
              "    border-color: transparent;\n",
              "    border-bottom-color: var(--fill-color);\n",
              "    animation:\n",
              "      spin 1s steps(1) infinite;\n",
              "  }\n",
              "\n",
              "  @keyframes spin {\n",
              "    0% {\n",
              "      border-color: transparent;\n",
              "      border-bottom-color: var(--fill-color);\n",
              "      border-left-color: var(--fill-color);\n",
              "    }\n",
              "    20% {\n",
              "      border-color: transparent;\n",
              "      border-left-color: var(--fill-color);\n",
              "      border-top-color: var(--fill-color);\n",
              "    }\n",
              "    30% {\n",
              "      border-color: transparent;\n",
              "      border-left-color: var(--fill-color);\n",
              "      border-top-color: var(--fill-color);\n",
              "      border-right-color: var(--fill-color);\n",
              "    }\n",
              "    40% {\n",
              "      border-color: transparent;\n",
              "      border-right-color: var(--fill-color);\n",
              "      border-top-color: var(--fill-color);\n",
              "    }\n",
              "    60% {\n",
              "      border-color: transparent;\n",
              "      border-right-color: var(--fill-color);\n",
              "    }\n",
              "    80% {\n",
              "      border-color: transparent;\n",
              "      border-right-color: var(--fill-color);\n",
              "      border-bottom-color: var(--fill-color);\n",
              "    }\n",
              "    90% {\n",
              "      border-color: transparent;\n",
              "      border-bottom-color: var(--fill-color);\n",
              "    }\n",
              "  }\n",
              "</style>\n",
              "\n",
              "  <script>\n",
              "    async function quickchart(key) {\n",
              "      const quickchartButtonEl =\n",
              "        document.querySelector('#' + key + ' button');\n",
              "      quickchartButtonEl.disabled = true;  // To prevent multiple clicks.\n",
              "      quickchartButtonEl.classList.add('colab-df-spinner');\n",
              "      try {\n",
              "        const charts = await google.colab.kernel.invokeFunction(\n",
              "            'suggestCharts', [key], {});\n",
              "      } catch (error) {\n",
              "        console.error('Error during call to suggestCharts:', error);\n",
              "      }\n",
              "      quickchartButtonEl.classList.remove('colab-df-spinner');\n",
              "      quickchartButtonEl.classList.add('colab-df-quickchart-complete');\n",
              "    }\n",
              "    (() => {\n",
              "      let quickchartButtonEl =\n",
              "        document.querySelector('#df-ba34fffc-88fa-44be-8bc7-c018adc34a63 button');\n",
              "      quickchartButtonEl.style.display =\n",
              "        google.colab.kernel.accessAllowed ? 'block' : 'none';\n",
              "    })();\n",
              "  </script>\n",
              "</div>\n",
              "\n",
              "    </div>\n",
              "  </div>\n"
            ],
            "application/vnd.google.colaboratory.intrinsic+json": {
              "type": "dataframe",
              "variable_name": "df",
              "summary": "{\n  \"name\": \"df\",\n  \"rows\": 67349,\n  \"fields\": [\n    {\n      \"column\": \"idx\",\n      \"properties\": {\n        \"dtype\": \"int32\",\n        \"num_unique_values\": 67349,\n        \"samples\": [\n          66730,\n          29890,\n          45801\n        ],\n        \"semantic_type\": \"\",\n        \"description\": \"\"\n      }\n    },\n    {\n      \"column\": \"sentence\",\n      \"properties\": {\n        \"dtype\": \"string\",\n        \"num_unique_values\": 66978,\n        \"samples\": [\n          \"mr. day-lewis roars with leonine power \",\n          \"a fairly slow paced , almost humdrum approach to character development \",\n          \"it 's not very interesting . \"\n        ],\n        \"semantic_type\": \"\",\n        \"description\": \"\"\n      }\n    },\n    {\n      \"column\": \"label\",\n      \"properties\": {\n        \"dtype\": \"number\",\n        \"std\": 0,\n        \"min\": 0,\n        \"max\": 1,\n        \"num_unique_values\": 2,\n        \"samples\": [\n          1,\n          0\n        ],\n        \"semantic_type\": \"\",\n        \"description\": \"\"\n      }\n    },\n    {\n      \"column\": \"label_str\",\n      \"properties\": {\n        \"dtype\": \"category\",\n        \"num_unique_values\": 2,\n        \"samples\": [\n          \"positive\",\n          \"negative\"\n        ],\n        \"semantic_type\": \"\",\n        \"description\": \"\"\n      }\n    }\n  ]\n}"
            }
          },
          "metadata": {},
          "execution_count": 21
        }
      ]
    },
    {
      "cell_type": "code",
      "source": [
        "df.info()"
      ],
      "metadata": {
        "colab": {
          "base_uri": "https://localhost:8080/"
        },
        "id": "OqZcktOkk3Ya",
        "outputId": "bee120f5-15e9-4e4b-cd9a-d252194986cf"
      },
      "execution_count": 5,
      "outputs": [
        {
          "output_type": "stream",
          "name": "stdout",
          "text": [
            "<class 'pandas.core.frame.DataFrame'>\n",
            "RangeIndex: 67349 entries, 0 to 67348\n",
            "Data columns (total 4 columns):\n",
            " #   Column     Non-Null Count  Dtype \n",
            "---  ------     --------------  ----- \n",
            " 0   idx        67349 non-null  int32 \n",
            " 1   sentence   67349 non-null  object\n",
            " 2   label      67349 non-null  int64 \n",
            " 3   label_str  67349 non-null  object\n",
            "dtypes: int32(1), int64(1), object(2)\n",
            "memory usage: 1.8+ MB\n"
          ]
        }
      ]
    },
    {
      "cell_type": "code",
      "source": [
        "df['label_str'].value_counts()\n"
      ],
      "metadata": {
        "colab": {
          "base_uri": "https://localhost:8080/",
          "height": 178
        },
        "id": "QtS_M8CcltuA",
        "outputId": "ecc0a19b-4ac8-42c1-91e5-49cb2c1b13a5"
      },
      "execution_count": 6,
      "outputs": [
        {
          "output_type": "execute_result",
          "data": {
            "text/plain": [
              "label_str\n",
              "positive    37569\n",
              "negative    29780\n",
              "Name: count, dtype: int64"
            ],
            "text/html": [
              "<div>\n",
              "<style scoped>\n",
              "    .dataframe tbody tr th:only-of-type {\n",
              "        vertical-align: middle;\n",
              "    }\n",
              "\n",
              "    .dataframe tbody tr th {\n",
              "        vertical-align: top;\n",
              "    }\n",
              "\n",
              "    .dataframe thead th {\n",
              "        text-align: right;\n",
              "    }\n",
              "</style>\n",
              "<table border=\"1\" class=\"dataframe\">\n",
              "  <thead>\n",
              "    <tr style=\"text-align: right;\">\n",
              "      <th></th>\n",
              "      <th>count</th>\n",
              "    </tr>\n",
              "    <tr>\n",
              "      <th>label_str</th>\n",
              "      <th></th>\n",
              "    </tr>\n",
              "  </thead>\n",
              "  <tbody>\n",
              "    <tr>\n",
              "      <th>positive</th>\n",
              "      <td>37569</td>\n",
              "    </tr>\n",
              "    <tr>\n",
              "      <th>negative</th>\n",
              "      <td>29780</td>\n",
              "    </tr>\n",
              "  </tbody>\n",
              "</table>\n",
              "</div><br><label><b>dtype:</b> int64</label>"
            ]
          },
          "metadata": {},
          "execution_count": 6
        }
      ]
    },
    {
      "cell_type": "code",
      "source": [
        "import matplotlib.pyplot as plt\n",
        "label_counts = df['label_str'].value_counts(ascending=True)\n",
        "label_counts.plot.barh()\n",
        "plt.title(\"Frequency of Classes\")\n",
        "plt.show()"
      ],
      "metadata": {
        "colab": {
          "base_uri": "https://localhost:8080/",
          "height": 452
        },
        "id": "IsuEzVy4lxjK",
        "outputId": "524089d7-38ed-45f9-c48c-f20eb1e7701d"
      },
      "execution_count": 7,
      "outputs": [
        {
          "output_type": "display_data",
          "data": {
            "text/plain": [
              "<Figure size 640x480 with 1 Axes>"
            ],
            "image/png": "[encoded data removed]"
          },
          "metadata": {}
        }
      ]
    },
    {
      "cell_type": "markdown",
      "source": [
        "**Observing a slight class imbalance**"
      ],
      "metadata": {
        "id": "Od8gxZdlmDin"
      }
    },
    {
      "cell_type": "code",
      "source": [
        "df['Words_per_review'] = df['sentence'].str.split().apply(len)\n",
        "df.boxplot(\"Words_per_review\", by=\"label_str\")"
      ],
      "metadata": {
        "colab": {
          "base_uri": "https://localhost:8080/",
          "height": 495
        },
        "id": "8eDykNGUmCN4",
        "outputId": "7478e0f2-4460-4494-839b-c842719dd5f0"
      },
      "execution_count": 8,
      "outputs": [
        {
          "output_type": "execute_result",
          "data": {
            "text/plain": [
              "<Axes: title={'center': 'Words_per_review'}, xlabel='label_str'>"
            ]
          },
          "metadata": {},
          "execution_count": 8
        },
        {
          "output_type": "display_data",
          "data": {
            "text/plain": [
              "<Figure size 640x480 with 1 Axes>"
            ],
            "image/png": "[encoded data removed]"
          },
          "metadata": {}
        }
      ]
    },
    {
      "cell_type": "code",
      "source": [
        "df.head()"
      ],
      "metadata": {
        "colab": {
          "base_uri": "https://localhost:8080/",
          "height": 206
        },
        "id": "t6ZQJDHHmX1U",
        "outputId": "6e25d4b7-6d24-4b4d-ef9d-fcd3c8b77800"
      },
      "execution_count": 9,
      "outputs": [
        {
          "output_type": "execute_result",
          "data": {
            "text/plain": [
              "   idx                                           sentence  label label_str  \\\n",
              "0    0       hide new secretions from the parental units       0  negative   \n",
              "1    1               contains no wit , only labored gags       0  negative   \n",
              "2    2  that loves its characters and communicates som...      1  positive   \n",
              "3    3  remains utterly satisfied to remain the same t...      0  negative   \n",
              "4    4  on the worst revenge-of-the-nerds clichés the ...      0  negative   \n",
              "\n",
              "   Words_per_review  \n",
              "0                 7  \n",
              "1                 7  \n",
              "2                12  \n",
              "3                 8  \n",
              "4                10  "
            ],
            "text/html": [
              "\n",
              "  <div id=\"df-10f964e7-2a85-4086-aca4-a8e21d41ccc6\" class=\"colab-df-container\">\n",
              "    <div>\n",
              "<style scoped>\n",
              "    .dataframe tbody tr th:only-of-type {\n",
              "        vertical-align: middle;\n",
              "    }\n",
              "\n",
              "    .dataframe tbody tr th {\n",
              "        vertical-align: top;\n",
              "    }\n",
              "\n",
              "    .dataframe thead th {\n",
              "        text-align: right;\n",
              "    }\n",
              "</style>\n",
              "<table border=\"1\" class=\"dataframe\">\n",
              "  <thead>\n",
              "    <tr style=\"text-align: right;\">\n",
              "      <th></th>\n",
              "      <th>idx</th>\n",
              "      <th>sentence</th>\n",
              "      <th>label</th>\n",
              "      <th>label_str</th>\n",
              "      <th>Words_per_review</th>\n",
              "    </tr>\n",
              "  </thead>\n",
              "  <tbody>\n",
              "    <tr>\n",
              "      <th>0</th>\n",
              "      <td>0</td>\n",
              "      <td>hide new secretions from the parental units</td>\n",
              "      <td>0</td>\n",
              "      <td>negative</td>\n",
              "      <td>7</td>\n",
              "    </tr>\n",
              "    <tr>\n",
              "      <th>1</th>\n",
              "      <td>1</td>\n",
              "      <td>contains no wit , only labored gags</td>\n",
              "      <td>0</td>\n",
              "      <td>negative</td>\n",
              "      <td>7</td>\n",
              "    </tr>\n",
              "    <tr>\n",
              "      <th>2</th>\n",
              "      <td>2</td>\n",
              "      <td>that loves its characters and communicates som...</td>\n",
              "      <td>1</td>\n",
              "      <td>positive</td>\n",
              "      <td>12</td>\n",
              "    </tr>\n",
              "    <tr>\n",
              "      <th>3</th>\n",
              "      <td>3</td>\n",
              "      <td>remains utterly satisfied to remain the same t...</td>\n",
              "      <td>0</td>\n",
              "      <td>negative</td>\n",
              "      <td>8</td>\n",
              "    </tr>\n",
              "    <tr>\n",
              "      <th>4</th>\n",
              "      <td>4</td>\n",
              "      <td>on the worst revenge-of-the-nerds clichés the ...</td>\n",
              "      <td>0</td>\n",
              "      <td>negative</td>\n",
              "      <td>10</td>\n",
              "    </tr>\n",
              "  </tbody>\n",
              "</table>\n",
              "</div>\n",
              "    <div class=\"colab-df-buttons\">\n",
              "\n",
              "  <div class=\"colab-df-container\">\n",
              "    <button class=\"colab-df-convert\" onclick=\"convertToInteractive('df-10f964e7-2a85-4086-aca4-a8e21d41ccc6')\"\n",
              "            title=\"Convert this dataframe to an interactive table.\"\n",
              "            style=\"display:none;\">\n",
              "\n",
              "  <svg xmlns=\"http://www.w3.org/2000/svg\" height=\"24px\" viewBox=\"0 -960 960 960\">\n",
              "    <path d=\"M120-120v-720h720v720H120Zm60-500h600v-160H180v160Zm220 220h160v-160H400v160Zm0 220h160v-160H400v160ZM180-400h160v-160H180v160Zm440 0h160v-160H620v160ZM180-180h160v-160H180v160Zm440 0h160v-160H620v160Z\"/>\n",
              "  </svg>\n",
              "    </button>\n",
              "\n",
              "  <style>\n",
              "    .colab-df-container {\n",
              "      display:flex;\n",
              "      gap: 12px;\n",
              "    }\n",
              "\n",
              "    .colab-df-convert {\n",
              "      background-color: #E8F0FE;\n",
              "      border: none;\n",
              "      border-radius: 50%;\n",
              "      cursor: pointer;\n",
              "      display: none;\n",
              "      fill: #1967D2;\n",
              "      height: 32px;\n",
              "      padding: 0 0 0 0;\n",
              "      width: 32px;\n",
              "    }\n",
              "\n",
              "    .colab-df-convert:hover {\n",
              "      background-color: #E2EBFA;\n",
              "      box-shadow: 0px 1px 2px rgba(60, 64, 67, 0.3), 0px 1px 3px 1px rgba(60, 64, 67, 0.15);\n",
              "      fill: #174EA6;\n",
              "    }\n",
              "\n",
              "    .colab-df-buttons div {\n",
              "      margin-bottom: 4px;\n",
              "    }\n",
              "\n",
              "    [theme=dark] .colab-df-convert {\n",
              "      background-color: #3B4455;\n",
              "      fill: #D2E3FC;\n",
              "    }\n",
              "\n",
              "    [theme=dark] .colab-df-convert:hover {\n",
              "      background-color: #434B5C;\n",
              "      box-shadow: 0px 1px 3px 1px rgba(0, 0, 0, 0.15);\n",
              "      filter: drop-shadow(0px 1px 2px rgba(0, 0, 0, 0.3));\n",
              "      fill: #FFFFFF;\n",
              "    }\n",
              "  </style>\n",
              "\n",
              "    <script>\n",
              "      const buttonEl =\n",
              "        document.querySelector('#df-10f964e7-2a85-4086-aca4-a8e21d41ccc6 button.colab-df-convert');\n",
              "      buttonEl.style.display =\n",
              "        google.colab.kernel.accessAllowed ? 'block' : 'none';\n",
              "\n",
              "      async function convertToInteractive(key) {\n",
              "        const element = document.querySelector('#df-10f964e7-2a85-4086-aca4-a8e21d41ccc6');\n",
              "        const dataTable =\n",
              "          await google.colab.kernel.invokeFunction('convertToInteractive',\n",
              "                                                    [key], {});\n",
              "        if (!dataTable) return;\n",
              "\n",
              "        const docLinkHtml = 'Like what you see? Visit the ' +\n",
              "          '<a target=\"_blank\" href=https://colab.research.google.com/notebooks/data_table.ipynb>data table notebook</a>'\n",
              "          + ' to learn more about interactive tables.';\n",
              "        element.innerHTML = '';\n",
              "        dataTable['output_type'] = 'display_data';\n",
              "        await google.colab.output.renderOutput(dataTable, element);\n",
              "        const docLink = document.createElement('div');\n",
              "        docLink.innerHTML = docLinkHtml;\n",
              "        element.appendChild(docLink);\n",
              "      }\n",
              "    </script>\n",
              "  </div>\n",
              "\n",
              "\n",
              "<div id=\"df-31aec183-855d-478e-809e-443a3e0aeba4\">\n",
              "  <button class=\"colab-df-quickchart\" onclick=\"quickchart('df-31aec183-855d-478e-809e-443a3e0aeba4')\"\n",
              "            title=\"Suggest charts\"\n",
              "            style=\"display:none;\">\n",
              "\n",
              "<svg xmlns=\"http://www.w3.org/2000/svg\" height=\"24px\"viewBox=\"0 0 24 24\"\n",
              "     width=\"24px\">\n",
              "    <g>\n",
              "        <path d=\"M19 3H5c-1.1 0-2 .9-2 2v14c0 1.1.9 2 2 2h14c1.1 0 2-.9 2-2V5c0-1.1-.9-2-2-2zM9 17H7v-7h2v7zm4 0h-2V7h2v10zm4 0h-2v-4h2v4z\"/>\n",
              "    </g>\n",
              "</svg>\n",
              "  </button>\n",
              "\n",
              "<style>\n",
              "  .colab-df-quickchart {\n",
              "      --bg-color: #E8F0FE;\n",
              "      --fill-color: #1967D2;\n",
              "      --hover-bg-color: #E2EBFA;\n",
              "      --hover-fill-color: #174EA6;\n",
              "      --disabled-fill-color: #AAA;\n",
              "      --disabled-bg-color: #DDD;\n",
              "  }\n",
              "\n",
              "  [theme=dark] .colab-df-quickchart {\n",
              "      --bg-color: #3B4455;\n",
              "      --fill-color: #D2E3FC;\n",
              "      --hover-bg-color: #434B5C;\n",
              "      --hover-fill-color: #FFFFFF;\n",
              "      --disabled-bg-color: #3B4455;\n",
              "      --disabled-fill-color: #666;\n",
              "  }\n",
              "\n",
              "  .colab-df-quickchart {\n",
              "    background-color: var(--bg-color);\n",
              "    border: none;\n",
              "    border-radius: 50%;\n",
              "    cursor: pointer;\n",
              "    display: none;\n",
              "    fill: var(--fill-color);\n",
              "    height: 32px;\n",
              "    padding: 0;\n",
              "    width: 32px;\n",
              "  }\n",
              "\n",
              "  .colab-df-quickchart:hover {\n",
              "    background-color: var(--hover-bg-color);\n",
              "    box-shadow: 0 1px 2px rgba(60, 64, 67, 0.3), 0 1px 3px 1px rgba(60, 64, 67, 0.15);\n",
              "    fill: var(--button-hover-fill-color);\n",
              "  }\n",
              "\n",
              "  .colab-df-quickchart-complete:disabled,\n",
              "  .colab-df-quickchart-complete:disabled:hover {\n",
              "    background-color: var(--disabled-bg-color);\n",
              "    fill: var(--disabled-fill-color);\n",
              "    box-shadow: none;\n",
              "  }\n",
              "\n",
              "  .colab-df-spinner {\n",
              "    border: 2px solid var(--fill-color);\n",
              "    border-color: transparent;\n",
              "    border-bottom-color: var(--fill-color);\n",
              "    animation:\n",
              "      spin 1s steps(1) infinite;\n",
              "  }\n",
              "\n",
              "  @keyframes spin {\n",
              "    0% {\n",
              "      border-color: transparent;\n",
              "      border-bottom-color: var(--fill-color);\n",
              "      border-left-color: var(--fill-color);\n",
              "    }\n",
              "    20% {\n",
              "      border-color: transparent;\n",
              "      border-left-color: var(--fill-color);\n",
              "      border-top-color: var(--fill-color);\n",
              "    }\n",
              "    30% {\n",
              "      border-color: transparent;\n",
              "      border-left-color: var(--fill-color);\n",
              "      border-top-color: var(--fill-color);\n",
              "      border-right-color: var(--fill-color);\n",
              "    }\n",
              "    40% {\n",
              "      border-color: transparent;\n",
              "      border-right-color: var(--fill-color);\n",
              "      border-top-color: var(--fill-color);\n",
              "    }\n",
              "    60% {\n",
              "      border-color: transparent;\n",
              "      border-right-color: var(--fill-color);\n",
              "    }\n",
              "    80% {\n",
              "      border-color: transparent;\n",
              "      border-right-color: var(--fill-color);\n",
              "      border-bottom-color: var(--fill-color);\n",
              "    }\n",
              "    90% {\n",
              "      border-color: transparent;\n",
              "      border-bottom-color: var(--fill-color);\n",
              "    }\n",
              "  }\n",
              "</style>\n",
              "\n",
              "  <script>\n",
              "    async function quickchart(key) {\n",
              "      const quickchartButtonEl =\n",
              "        document.querySelector('#' + key + ' button');\n",
              "      quickchartButtonEl.disabled = true;  // To prevent multiple clicks.\n",
              "      quickchartButtonEl.classList.add('colab-df-spinner');\n",
              "      try {\n",
              "        const charts = await google.colab.kernel.invokeFunction(\n",
              "            'suggestCharts', [key], {});\n",
              "      } catch (error) {\n",
              "        console.error('Error during call to suggestCharts:', error);\n",
              "      }\n",
              "      quickchartButtonEl.classList.remove('colab-df-spinner');\n",
              "      quickchartButtonEl.classList.add('colab-df-quickchart-complete');\n",
              "    }\n",
              "    (() => {\n",
              "      let quickchartButtonEl =\n",
              "        document.querySelector('#df-31aec183-855d-478e-809e-443a3e0aeba4 button');\n",
              "      quickchartButtonEl.style.display =\n",
              "        google.colab.kernel.accessAllowed ? 'block' : 'none';\n",
              "    })();\n",
              "  </script>\n",
              "</div>\n",
              "\n",
              "    </div>\n",
              "  </div>\n"
            ],
            "application/vnd.google.colaboratory.intrinsic+json": {
              "type": "dataframe",
              "variable_name": "df",
              "summary": "{\n  \"name\": \"df\",\n  \"rows\": 67349,\n  \"fields\": [\n    {\n      \"column\": \"idx\",\n      \"properties\": {\n        \"dtype\": \"int32\",\n        \"num_unique_values\": 67349,\n        \"samples\": [\n          66730,\n          29890,\n          45801\n        ],\n        \"semantic_type\": \"\",\n        \"description\": \"\"\n      }\n    },\n    {\n      \"column\": \"sentence\",\n      \"properties\": {\n        \"dtype\": \"string\",\n        \"num_unique_values\": 66978,\n        \"samples\": [\n          \"mr. day-lewis roars with leonine power \",\n          \"a fairly slow paced , almost humdrum approach to character development \",\n          \"it 's not very interesting . \"\n        ],\n        \"semantic_type\": \"\",\n        \"description\": \"\"\n      }\n    },\n    {\n      \"column\": \"label\",\n      \"properties\": {\n        \"dtype\": \"number\",\n        \"std\": 0,\n        \"min\": 0,\n        \"max\": 1,\n        \"num_unique_values\": 2,\n        \"samples\": [\n          1,\n          0\n        ],\n        \"semantic_type\": \"\",\n        \"description\": \"\"\n      }\n    },\n    {\n      \"column\": \"label_str\",\n      \"properties\": {\n        \"dtype\": \"category\",\n        \"num_unique_values\": 2,\n        \"samples\": [\n          \"positive\",\n          \"negative\"\n        ],\n        \"semantic_type\": \"\",\n        \"description\": \"\"\n      }\n    },\n    {\n      \"column\": \"Words_per_review\",\n      \"properties\": {\n        \"dtype\": \"number\",\n        \"std\": 8,\n        \"min\": 1,\n        \"max\": 52,\n        \"num_unique_values\": 52,\n        \"samples\": [\n          14,\n          40\n        ],\n        \"semantic_type\": \"\",\n        \"description\": \"\"\n      }\n    }\n  ]\n}"
            }
          },
          "metadata": {},
          "execution_count": 9
        }
      ]
    },
    {
      "cell_type": "markdown",
      "source": [
        "#**Balancing dataset**"
      ],
      "metadata": {
        "id": "iZnEkYVowqIO"
      }
    },
    {
      "cell_type": "code",
      "source": [
        "from imblearn.under_sampling import RandomUnderSampler\n",
        "\n",
        "X = train_padded_sequences\n",
        "y = df_train[\"label\"]\n",
        "print(f\"Original label counts:\\n{Counter(y)}\\n\")\n",
        "\n",
        "rus = RandomUnderSampler(random_state=42)\n",
        "X_res, y_res = rus.fit_resample(X, y)\n",
        "\n",
        "print(f\"Oversampled label counts:\\n{Counter(y_res)}\\n\")"
      ],
      "metadata": {
        "id": "Pcu6w8o9wp2K"
      },
      "execution_count": null,
      "outputs": []
    },
    {
      "cell_type": "markdown",
      "source": [
        "#**Text to Tokens Conversion**\n",
        "- Transformer models like BERT cannot receive raw strings as input; instead, they assume the text has been tokenized and encoded as numerical vectors.\n",
        "- Tokenization is the step of breaking down a string into the atomic units used in the model"
      ],
      "metadata": {
        "id": "Fm3WaRQMnj9K"
      }
    },
    {
      "cell_type": "markdown",
      "source": [
        "##**Test example**"
      ],
      "metadata": {
        "id": "yl4RBUPWntWf"
      }
    },
    {
      "cell_type": "code",
      "source": [
        "from transformers import AutoTokenizer\n",
        "\n",
        "model_ckpt = \"bert-base-uncased\"\n",
        "tokenizer = AutoTokenizer.from_pretrained(model_ckpt)\n",
        "\n",
        "\n",
        "text = \"I love machine learning! Tokenization is awesome!!\"\n",
        "encoded_text = tokenizer(text)\n",
        "print(encoded_text)"
      ],
      "metadata": {
        "colab": {
          "base_uri": "https://localhost:8080/",
          "height": 182,
          "referenced_widgets": [
            "9d5fc9a7b2124226872996524fa72ed3",
            "35710283b7db4855ba9412eedd3e0cec",
            "0d16f97fa45c407ca1ad81d76493c906",
            "f792c778c6e5424ab10dfef5968f74bb",
            "2085c7c3c19645dd9c2b8d78658cbc95",
            "57f0874354ef42369d01155c67352254",
            "74c5c3b5083e48e9bd6173f263fa7dd8",
            "62f521acc4fb40a79cd0eb99512dbe01",
            "b634facb80ad477782e1702512392914",
            "79d103090d7a4ba891883ae08fcabcb0",
            "66f652ccf57f4081b93f66417cb8f801",
            "6cf46ab6f5594fdf95e31cac2253ac52",
            "b8dc51ec2b8d45e9907c55f561c7c8e6",
            "e1889654ae4b4c7992512fa0b693003d",
            "cfde8325d81b4ade805822d2d4f84513",
            "f751501ab2644ed8bec8ebd34cca2145",
            "515ab92f34574a9380446982da9267dc",
            "8676f11513a344ed9d6b4a64f5b18690",
            "04f19ba8f6f649de80a3ca57f9ceace0",
            "f385a7763c374ea1b2db74c5b5c6dcfb",
            "7a8bf62e1cad447a910a87305429994b",
            "753bbeb3d13b4b01aeed9ca5b093bcdb",
            "8aadd5d9cd694b97bf9a743ac4556003",
            "de5583c0eb6d4ee9ae9eb28b77b5bb78",
            "d66d1cbac1f94963833c956b413c9e1f",
            "99a959bb7ce04d718fe962cbc87833d0",
            "ef7f61fb6a6e455f9e11e45f209a73b6",
            "bed40920d1ec44f0b5fc2ee0ed14e9cd",
            "a850db66254a443abef403e3b0e02a09",
            "21d989af5cef46be8377f6cb6ad14ad9",
            "f3f6f48166cc4fee9dc9593c45f1b15f",
            "2da8f0b51ca044c4a98156912cabf534",
            "78b51309fc2e400dbc343fe64a1c567a",
            "006458cb14ee455399bd9ac3c33d2634",
            "42af38566908416ebef0ee67c5298fe6",
            "bcec523f8b2c4f5984221bd4e2b0c410",
            "062626d4d19a4a01b32e5ea9ee2c4871",
            "74b79ba5c02c45778314edcf89df5bb2",
            "fc6a1a88fb5749699b151510bf6bba22",
            "d1ba270e862b499dac4feb0fde1f3f1c",
            "e1594ca97de44a88853b50001ff4174f",
            "5ac23ad141f54b33a844ff882d3f91f3",
            "82d5b2ed422a44d7963a7528edb7c48b",
            "fc611ed3eaa64c0b90f07fec93181e25"
          ]
        },
        "id": "qbn76QrHnTuG",
        "outputId": "1495ea23-c083-460d-ecb3-0f75a8939323"
      },
      "execution_count": 10,
      "outputs": [
        {
          "output_type": "display_data",
          "data": {
            "text/plain": [
              "tokenizer_config.json:   0%|          | 0.00/48.0 [00:00<?, ?B/s]"
            ],
            "application/vnd.jupyter.widget-view+json": {
              "version_major": 2,
              "version_minor": 0,
              "model_id": "9d5fc9a7b2124226872996524fa72ed3"
            }
          },
          "metadata": {}
        },
        {
          "output_type": "display_data",
          "data": {
            "text/plain": [
              "config.json:   0%|          | 0.00/570 [00:00<?, ?B/s]"
            ],
            "application/vnd.jupyter.widget-view+json": {
              "version_major": 2,
              "version_minor": 0,
              "model_id": "6cf46ab6f5594fdf95e31cac2253ac52"
            }
          },
          "metadata": {}
        },
        {
          "output_type": "display_data",
          "data": {
            "text/plain": [
              "vocab.txt:   0%|          | 0.00/232k [00:00<?, ?B/s]"
            ],
            "application/vnd.jupyter.widget-view+json": {
              "version_major": 2,
              "version_minor": 0,
              "model_id": "8aadd5d9cd694b97bf9a743ac4556003"
            }
          },
          "metadata": {}
        },
        {
          "output_type": "display_data",
          "data": {
            "text/plain": [
              "tokenizer.json:   0%|          | 0.00/466k [00:00<?, ?B/s]"
            ],
            "application/vnd.jupyter.widget-view+json": {
              "version_major": 2,
              "version_minor": 0,
              "model_id": "006458cb14ee455399bd9ac3c33d2634"
            }
          },
          "metadata": {}
        },
        {
          "output_type": "stream",
          "name": "stdout",
          "text": [
            "{'input_ids': [101, 1045, 2293, 3698, 4083, 999, 19204, 3989, 2003, 12476, 999, 999, 102], 'token_type_ids': [0, 0, 0, 0, 0, 0, 0, 0, 0, 0, 0, 0, 0], 'attention_mask': [1, 1, 1, 1, 1, 1, 1, 1, 1, 1, 1, 1, 1]}\n"
          ]
        }
      ]
    },
    {
      "cell_type": "code",
      "source": [
        "len(tokenizer.vocab), tokenizer.vocab_size, tokenizer.model_max_length\n"
      ],
      "metadata": {
        "colab": {
          "base_uri": "https://localhost:8080/"
        },
        "id": "A4F-yHtynx_C",
        "outputId": "24dd169a-803e-49ca-cf99-a33965699a45"
      },
      "execution_count": 11,
      "outputs": [
        {
          "output_type": "execute_result",
          "data": {
            "text/plain": [
              "(30522, 30522, 512)"
            ]
          },
          "metadata": {},
          "execution_count": 11
        }
      ]
    },
    {
      "cell_type": "markdown",
      "source": [
        "#**Data loader and train_test_split**"
      ],
      "metadata": {
        "id": "QHmJ68Ybn40m"
      }
    },
    {
      "cell_type": "code",
      "source": [
        "from sklearn.model_selection import train_test_split\n",
        "\n",
        "train, test = train_test_split(df, test_size=0.3, stratify=df['label_str'])\n",
        "test, validation = train_test_split(test, test_size=1/3, stratify=test['label_str'])\n",
        "\n",
        "train.shape, test.shape, validation.shape"
      ],
      "metadata": {
        "colab": {
          "base_uri": "https://localhost:8080/"
        },
        "id": "06fhBsFPn_1T",
        "outputId": "ad67f707-9f2a-4c0e-b369-3938f0312710"
      },
      "execution_count": 12,
      "outputs": [
        {
          "output_type": "execute_result",
          "data": {
            "text/plain": [
              "((47144, 5), (13470, 5), (6735, 5))"
            ]
          },
          "metadata": {},
          "execution_count": 12
        }
      ]
    },
    {
      "cell_type": "code",
      "source": [
        "from datasets import Dataset, DatasetDict\n",
        "\n",
        "dataset = DatasetDict(\n",
        "    {'train':Dataset.from_pandas(train, preserve_index=False),\n",
        "     'test':Dataset.from_pandas(test, preserve_index=False),\n",
        "     'validation': Dataset.from_pandas(validation, preserve_index=False)\n",
        "     }\n",
        "\n",
        ")\n",
        "\n",
        "dataset"
      ],
      "metadata": {
        "colab": {
          "base_uri": "https://localhost:8080/"
        },
        "id": "FM4dJN1boARR",
        "outputId": "03f7f568-567c-47a1-c13b-534c3a1551e8"
      },
      "execution_count": 13,
      "outputs": [
        {
          "output_type": "execute_result",
          "data": {
            "text/plain": [
              "DatasetDict({\n",
              "    train: Dataset({\n",
              "        features: ['idx', 'sentence', 'label', 'label_str', 'Words_per_review'],\n",
              "        num_rows: 47144\n",
              "    })\n",
              "    test: Dataset({\n",
              "        features: ['idx', 'sentence', 'label', 'label_str', 'Words_per_review'],\n",
              "        num_rows: 13470\n",
              "    })\n",
              "    validation: Dataset({\n",
              "        features: ['idx', 'sentence', 'label', 'label_str', 'Words_per_review'],\n",
              "        num_rows: 6735\n",
              "    })\n",
              "})"
            ]
          },
          "metadata": {},
          "execution_count": 13
        }
      ]
    },
    {
      "cell_type": "code",
      "source": [
        "dataset['train'][0], dataset['train'][1]\n"
      ],
      "metadata": {
        "colab": {
          "base_uri": "https://localhost:8080/"
        },
        "id": "7PZ8n-5EoB6I",
        "outputId": "1f14ed56-8ed2-40a9-9246-d3dbdf390e4f"
      },
      "execution_count": 14,
      "outputs": [
        {
          "output_type": "execute_result",
          "data": {
            "text/plain": [
              "({'idx': 51492,\n",
              "  'sentence': 'flopped as surely ',\n",
              "  'label': 0,\n",
              "  'label_str': 'negative',\n",
              "  'Words_per_review': 3},\n",
              " {'idx': 40957,\n",
              "  'sentence': 'bolstered by exceptional performances and a clear-eyed take on the economics of dealing and the pathology of ghetto fabulousness . ',\n",
              "  'label': 1,\n",
              "  'label_str': 'positive',\n",
              "  'Words_per_review': 20})"
            ]
          },
          "metadata": {},
          "execution_count": 14
        }
      ]
    },
    {
      "cell_type": "code",
      "source": [
        "def tokenize(batch):\n",
        "    temp = tokenizer(batch['sentence'], padding=True, truncation=True)\n",
        "    return temp\n",
        "\n",
        "print(tokenize(dataset['train'][:2]))"
      ],
      "metadata": {
        "colab": {
          "base_uri": "https://localhost:8080/"
        },
        "id": "P8QS9zpboMSo",
        "outputId": "86e3934a-38b4-43bf-ef8d-13df84f45f7e"
      },
      "execution_count": 15,
      "outputs": [
        {
          "output_type": "stream",
          "name": "stdout",
          "text": [
            "{'input_ids': [[101, 24723, 2004, 7543, 102, 0, 0, 0, 0, 0, 0, 0, 0, 0, 0, 0, 0, 0, 0, 0, 0, 0, 0, 0, 0, 0, 0], [101, 8945, 29576, 2098, 2011, 11813, 4616, 1998, 1037, 3154, 1011, 7168, 2202, 2006, 1996, 5543, 1997, 7149, 1998, 1996, 19314, 1997, 17276, 18783, 2791, 1012, 102]], 'token_type_ids': [[0, 0, 0, 0, 0, 0, 0, 0, 0, 0, 0, 0, 0, 0, 0, 0, 0, 0, 0, 0, 0, 0, 0, 0, 0, 0, 0], [0, 0, 0, 0, 0, 0, 0, 0, 0, 0, 0, 0, 0, 0, 0, 0, 0, 0, 0, 0, 0, 0, 0, 0, 0, 0, 0]], 'attention_mask': [[1, 1, 1, 1, 1, 0, 0, 0, 0, 0, 0, 0, 0, 0, 0, 0, 0, 0, 0, 0, 0, 0, 0, 0, 0, 0, 0], [1, 1, 1, 1, 1, 1, 1, 1, 1, 1, 1, 1, 1, 1, 1, 1, 1, 1, 1, 1, 1, 1, 1, 1, 1, 1, 1]]}\n"
          ]
        }
      ]
    },
    {
      "cell_type": "markdown",
      "source": [
        "\n",
        "\n",
        " **1. Input IDs**\n",
        "- **Definition**: Input IDs are numerical representations of tokens (words or subwords) in the input text.\n",
        "- **Purpose**: They are passed into the model to identify which tokens are part of the input.\n",
        "- **How It Works**:\n",
        "  - Each token in the input is converted to an ID based on the tokenizer's vocabulary.\n",
        "  - Special tokens such as `[CLS]` (classification) and `[SEP]` (separator) are added to the sequence.\n",
        "- **Example**:\n",
        "  Text: *\"Hello, world!\"*\n",
        "  Tokenized: `[\"[CLS]\", \"hello\", \",\", \"world\", \"!\", \"[SEP]\"]`\n",
        "  Input IDs: `[101, 7592, 1010, 2088, 999, 102]`\n",
        "\n",
        "  Here, `101` and `102` are special token IDs for `[CLS]` and `[SEP]` respectively.\n",
        "\n",
        "---\n",
        "\n",
        " **2. Attention Masks**\n",
        "- **Definition**: Attention masks indicate which tokens in the input sequence should be attended to by the model.\n",
        "- **Purpose**: They help the model differentiate between real tokens and padding tokens.\n",
        "- **How It Works**:\n",
        "  - Tokens that should be attended to (actual words) are marked as `1`.\n",
        "  - Padding tokens (used to make all input sequences the same length) are marked as `0`.\n",
        "- **Example**:\n",
        "  Input IDs: `[101, 7592, 1010, 2088, 999, 102, 0, 0]`\n",
        "  Attention Mask: `[1, 1, 1, 1, 1, 1, 0, 0]`\n",
        "\n",
        "  Here, the zeros in the attention mask ensure the model ignores padding tokens.\n",
        "\n",
        "---\n",
        "\n",
        " **3. TokenType IDs**\n",
        "- **Definition**: TokenType IDs (also called segment IDs) distinguish between different segments of input text.\n",
        "- **Purpose**: Used in tasks involving sentence pairs (e.g., question-answering), TokenType IDs help the model differentiate between the two sentences.\n",
        "- **How It Works**:\n",
        "  - Tokens from the first sentence are assigned `0`.\n",
        "  - Tokens from the second sentence are assigned `1`.\n",
        "- **Example**:\n",
        "  Input: *\"What is your name? [SEP] My name is John.\"*\n",
        "  Input IDs: `[101, 2054, 2003, 2115, 2171, 102, 2026, 2171, 2003, 2198, 102]`\n",
        "  TokenType IDs: `[0, 0, 0, 0, 0, 0, 1, 1, 1, 1, 1]`\n",
        "\n",
        "  Here, TokenType IDs distinguish tokens in the first and second sentences.\n",
        "\n",
        "---\n",
        "\n",
        "\n",
        "| Feature              | Purpose                                                                                         | Example                                                                                                  |\n",
        "|----------------------|-------------------------------------------------------------------------------------------------|----------------------------------------------------------------------------------------------------------|\n",
        "| **Input IDs**         | Encodes text tokens as numerical IDs.                                                           | `[101, 7592, 1010, 2088, 999, 102]`                                                                      |\n",
        "| **Attention Masks**   | Marks real tokens (`1`) and padding tokens (`0`).                                               | `[1, 1, 1, 1, 1, 1, 0, 0]`                                                                              |\n",
        "| **TokenType IDs**     | Distinguishes segments (e.g., Sentence A: `0`, Sentence B: `1`).                                | `[0, 0, 0, 0, 0, 0, 1, 1, 1, 1, 1]`                                                                      |\n",
        "\n",
        "---\n",
        "\n"
      ],
      "metadata": {
        "id": "SF6LNlMlo7aN"
      }
    },
    {
      "cell_type": "code",
      "source": [
        "imdb_encoded = dataset.map(tokenize, batched=True, batch_size=None)\n"
      ],
      "metadata": {
        "colab": {
          "base_uri": "https://localhost:8080/",
          "height": 113,
          "referenced_widgets": [
            "66d0257e504c4f98ae744339e888879d",
            "ff8f3153cb564376ad8e5b667fb442a3",
            "094926f08ec7494c8c1e2ba480c1919a",
            "e01af9a9fe1e4ab7bf218ce51e191fbe",
            "5190b7f87b8b4a1b899825bb4dce0d92",
            "3a5a7b9a23a24b48bf488ed21387db15",
            "ac7111021ccf49988b0a07d095e425f4",
            "5d8d0ec403aa4db79a46540000c7515c",
            "b3f5999001f54756b6ca294072814507",
            "cade2f0fb2a1485fb855720a36662bc8",
            "f47669f3a8e1455f83ef3b8de5501abe",
            "979059b2d79c40a281466b888abe02e5",
            "5a5f49a323844c3abcdf2ef2ca45346a",
            "eb22bd9176be48b6ba2d9acde6a41e94",
            "127898b85fba43d0bc9260cc45963001",
            "23c43019ecfa46ea9b735aab90d4d0f6",
            "6fd3661c87e048fdbc4e7e8ce873a7aa",
            "0b6df1aefe404725b102e2df1c726d92",
            "fba1701b51b2413993f475c937b05b54",
            "5528417ce3df41d99dff0949f5769004",
            "4c9c224243b84401b88bfe631f1a9248",
            "7d00e3b8ccf844ffa58ff4a00fb8d606",
            "8a9ab4ba18a94e45b8fb9d9f477b3511",
            "3fb71554c7d24f5fbfe7afc884a68f18",
            "45974f0815114eb0b40a68c8fd1f1c44",
            "8ff54df97ae7493d8342a0796a2aabe7",
            "03a8be4e56a743a19f97eca7814932e7",
            "75b8f400bf7e4330808f27255258ea50",
            "e4bd937df7a4447d945fdb6d4bf62723",
            "3bac8c5e344440c7823a46ba7831c9e9",
            "4f4e48c5c35c4f209ce42deabd112b2b",
            "1abfd8b7dc854227ab888ec6b644d1b8",
            "dc24e4c97da847ba80a7fe3160207e9d"
          ]
        },
        "id": "kwN-VlRUof2U",
        "outputId": "36a1db99-0795-48dc-d7ec-8be7b044b8e7"
      },
      "execution_count": 16,
      "outputs": [
        {
          "output_type": "display_data",
          "data": {
            "text/plain": [
              "Map:   0%|          | 0/47144 [00:00<?, ? examples/s]"
            ],
            "application/vnd.jupyter.widget-view+json": {
              "version_major": 2,
              "version_minor": 0,
              "model_id": "66d0257e504c4f98ae744339e888879d"
            }
          },
          "metadata": {}
        },
        {
          "output_type": "display_data",
          "data": {
            "text/plain": [
              "Map:   0%|          | 0/13470 [00:00<?, ? examples/s]"
            ],
            "application/vnd.jupyter.widget-view+json": {
              "version_major": 2,
              "version_minor": 0,
              "model_id": "979059b2d79c40a281466b888abe02e5"
            }
          },
          "metadata": {}
        },
        {
          "output_type": "display_data",
          "data": {
            "text/plain": [
              "Map:   0%|          | 0/6735 [00:00<?, ? examples/s]"
            ],
            "application/vnd.jupyter.widget-view+json": {
              "version_major": 2,
              "version_minor": 0,
              "model_id": "8a9ab4ba18a94e45b8fb9d9f477b3511"
            }
          },
          "metadata": {}
        }
      ]
    },
    {
      "cell_type": "code",
      "source": [
        "imdb_encoded"
      ],
      "metadata": {
        "colab": {
          "base_uri": "https://localhost:8080/"
        },
        "id": "bMnDcgRqq2j0",
        "outputId": "42e9744b-ee9e-42ca-f3ee-bed091347ae1"
      },
      "execution_count": 17,
      "outputs": [
        {
          "output_type": "execute_result",
          "data": {
            "text/plain": [
              "DatasetDict({\n",
              "    train: Dataset({\n",
              "        features: ['idx', 'sentence', 'label', 'label_str', 'Words_per_review', 'input_ids', 'token_type_ids', 'attention_mask'],\n",
              "        num_rows: 47144\n",
              "    })\n",
              "    test: Dataset({\n",
              "        features: ['idx', 'sentence', 'label', 'label_str', 'Words_per_review', 'input_ids', 'token_type_ids', 'attention_mask'],\n",
              "        num_rows: 13470\n",
              "    })\n",
              "    validation: Dataset({\n",
              "        features: ['idx', 'sentence', 'label', 'label_str', 'Words_per_review', 'input_ids', 'token_type_ids', 'attention_mask'],\n",
              "        num_rows: 6735\n",
              "    })\n",
              "})"
            ]
          },
          "metadata": {},
          "execution_count": 17
        }
      ]
    },
    {
      "cell_type": "code",
      "source": [
        "label2id = {x['label_str']:x['label'] for x in dataset['train']}\n",
        "id2label = {v:k for k,v in label2id.items()}\n",
        "\n",
        "label2id, id2label"
      ],
      "metadata": {
        "colab": {
          "base_uri": "https://localhost:8080/"
        },
        "id": "qAIW6FQPqd9F",
        "outputId": "b37c0de4-3c33-4fd7-f180-56489e8902c0"
      },
      "execution_count": 18,
      "outputs": [
        {
          "output_type": "execute_result",
          "data": {
            "text/plain": [
              "({'negative': 0, 'positive': 1}, {0: 'negative', 1: 'positive'})"
            ]
          },
          "metadata": {},
          "execution_count": 18
        }
      ]
    },
    {
      "cell_type": "markdown",
      "source": [
        "#**Model Building**"
      ],
      "metadata": {
        "id": "1IzOM590rLXW"
      }
    },
    {
      "cell_type": "code",
      "source": [
        "from transformers import AutoModel\n",
        "import torch"
      ],
      "metadata": {
        "id": "Ih8z2-F-rK29"
      },
      "execution_count": 19,
      "outputs": []
    },
    {
      "cell_type": "code",
      "source": [
        "model = AutoModel.from_pretrained(model_ckpt)\n"
      ],
      "metadata": {
        "colab": {
          "base_uri": "https://localhost:8080/",
          "height": 49,
          "referenced_widgets": [
            "86836868fdba4a3cb5a8f91ffbe6737f",
            "041947c5aca442edaf67e0fe5b514337",
            "7fc2b0f2fca8420ea8220cf945d83b52",
            "cfec6b9db9cf4250a3026cd7dab74f52",
            "9acaaa10a93741f6b5e7caf5e2722fad",
            "3b793e2363d243aa8270fea68c578164",
            "9392e940f0dd43b8ba7d7fb6b9b06ecc",
            "329477b1f27542d3b53da36741b78442",
            "0614b2832f534b579fba721de5ba351e",
            "df24727b9e934ad081116cd5c1e6622a",
            "488deaebffe94267b839f32e4ef241ea"
          ]
        },
        "id": "o2bdVdzMrKzm",
        "outputId": "ec9c00df-3ee8-49a4-bc19-720468f8931e"
      },
      "execution_count": 20,
      "outputs": [
        {
          "output_type": "display_data",
          "data": {
            "text/plain": [
              "model.safetensors:   0%|          | 0.00/440M [00:00<?, ?B/s]"
            ],
            "application/vnd.jupyter.widget-view+json": {
              "version_major": 2,
              "version_minor": 0,
              "model_id": "86836868fdba4a3cb5a8f91ffbe6737f"
            }
          },
          "metadata": {}
        }
      ]
    },
    {
      "cell_type": "code",
      "source": [
        "model.config.id2label\n"
      ],
      "metadata": {
        "colab": {
          "base_uri": "https://localhost:8080/"
        },
        "id": "S_me8FPhrT1Z",
        "outputId": "9338b5d2-28da-4c33-9386-73cc6727cc89"
      },
      "execution_count": 21,
      "outputs": [
        {
          "output_type": "execute_result",
          "data": {
            "text/plain": [
              "{0: 'LABEL_0', 1: 'LABEL_1'}"
            ]
          },
          "metadata": {},
          "execution_count": 21
        }
      ]
    },
    {
      "cell_type": "code",
      "source": [
        "model.config"
      ],
      "metadata": {
        "colab": {
          "base_uri": "https://localhost:8080/"
        },
        "id": "8vTTnZ1HrWMi",
        "outputId": "dec39dc3-0031-4a1c-f778-7c47aa071e3d"
      },
      "execution_count": 22,
      "outputs": [
        {
          "output_type": "execute_result",
          "data": {
            "text/plain": [
              "BertConfig {\n",
              "  \"_attn_implementation_autoset\": true,\n",
              "  \"_name_or_path\": \"bert-base-uncased\",\n",
              "  \"architectures\": [\n",
              "    \"BertForMaskedLM\"\n",
              "  ],\n",
              "  \"attention_probs_dropout_prob\": 0.1,\n",
              "  \"classifier_dropout\": null,\n",
              "  \"gradient_checkpointing\": false,\n",
              "  \"hidden_act\": \"gelu\",\n",
              "  \"hidden_dropout_prob\": 0.1,\n",
              "  \"hidden_size\": 768,\n",
              "  \"initializer_range\": 0.02,\n",
              "  \"intermediate_size\": 3072,\n",
              "  \"layer_norm_eps\": 1e-12,\n",
              "  \"max_position_embeddings\": 512,\n",
              "  \"model_type\": \"bert\",\n",
              "  \"num_attention_heads\": 12,\n",
              "  \"num_hidden_layers\": 12,\n",
              "  \"pad_token_id\": 0,\n",
              "  \"position_embedding_type\": \"absolute\",\n",
              "  \"transformers_version\": \"4.47.1\",\n",
              "  \"type_vocab_size\": 2,\n",
              "  \"use_cache\": true,\n",
              "  \"vocab_size\": 30522\n",
              "}"
            ]
          },
          "metadata": {},
          "execution_count": 22
        }
      ]
    },
    {
      "cell_type": "markdown",
      "source": [
        "#**Model Finetuning**"
      ],
      "metadata": {
        "id": "11S3VdCXr1ph"
      }
    },
    {
      "cell_type": "markdown",
      "source": [
        "![image.png](data:image/png;base64,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)"
      ],
      "metadata": {
        "id": "vc5W1lU4sMnp"
      }
    },
    {
      "cell_type": "markdown",
      "source": [
        "- The first thing we need is a pretrained BERT model like the one we used in the feature-based approach.\n",
        "- The only slight modification is that we use the `AutoModelForSequenceClassification` model instead of AutoModel.\n",
        "- The difference is that the `AutoModelForSequenceClassification` model has a classification head on top of the pretrained model outputs, which can be easily trained with the base model."
      ],
      "metadata": {
        "id": "F3N2h_jSr5Lf"
      }
    },
    {
      "cell_type": "code",
      "source": [
        "num_labels = len(label2id)\n"
      ],
      "metadata": {
        "id": "9PpmxOoIsTal"
      },
      "execution_count": 23,
      "outputs": []
    },
    {
      "cell_type": "code",
      "source": [
        "num_labels"
      ],
      "metadata": {
        "colab": {
          "base_uri": "https://localhost:8080/"
        },
        "id": "kgOtdwPOsWX3",
        "outputId": "4335a304-8ce1-4695-a59b-0f22f8f018bc"
      },
      "execution_count": 24,
      "outputs": [
        {
          "output_type": "execute_result",
          "data": {
            "text/plain": [
              "2"
            ]
          },
          "metadata": {},
          "execution_count": 24
        }
      ]
    },
    {
      "cell_type": "code",
      "source": [
        "from transformers import AutoModelForSequenceClassification, AutoConfig\n",
        "\n",
        "num_labels = len(label2id)\n",
        "device = torch.device(\"cuda\" if torch.cuda.is_available() else \"cpu\")\n",
        "\n",
        "config = AutoConfig.from_pretrained(model_ckpt, label2id=label2id, id2label=id2label)\n",
        "model = AutoModelForSequenceClassification.from_pretrained(model_ckpt, config=config).to(device)"
      ],
      "metadata": {
        "colab": {
          "base_uri": "https://localhost:8080/"
        },
        "id": "ruGyOK0Ir3ev",
        "outputId": "dec61aea-4646-4ef9-e34b-2baf123738dc"
      },
      "execution_count": 25,
      "outputs": [
        {
          "output_type": "stream",
          "name": "stderr",
          "text": [
            "Some weights of BertForSequenceClassification were not initialized from the model checkpoint at bert-base-uncased and are newly initialized: ['classifier.bias', 'classifier.weight']\n",
            "You should probably TRAIN this model on a down-stream task to be able to use it for predictions and inference.\n"
          ]
        }
      ]
    },
    {
      "cell_type": "code",
      "source": [
        "model.config\n"
      ],
      "metadata": {
        "colab": {
          "base_uri": "https://localhost:8080/"
        },
        "id": "jVyLF-gMsfef",
        "outputId": "13574249-dd46-4d66-d5a6-b17392e6ca88"
      },
      "execution_count": 26,
      "outputs": [
        {
          "output_type": "execute_result",
          "data": {
            "text/plain": [
              "BertConfig {\n",
              "  \"_attn_implementation_autoset\": true,\n",
              "  \"_name_or_path\": \"bert-base-uncased\",\n",
              "  \"architectures\": [\n",
              "    \"BertForMaskedLM\"\n",
              "  ],\n",
              "  \"attention_probs_dropout_prob\": 0.1,\n",
              "  \"classifier_dropout\": null,\n",
              "  \"gradient_checkpointing\": false,\n",
              "  \"hidden_act\": \"gelu\",\n",
              "  \"hidden_dropout_prob\": 0.1,\n",
              "  \"hidden_size\": 768,\n",
              "  \"id2label\": {\n",
              "    \"0\": \"negative\",\n",
              "    \"1\": \"positive\"\n",
              "  },\n",
              "  \"initializer_range\": 0.02,\n",
              "  \"intermediate_size\": 3072,\n",
              "  \"label2id\": {\n",
              "    \"negative\": 0,\n",
              "    \"positive\": 1\n",
              "  },\n",
              "  \"layer_norm_eps\": 1e-12,\n",
              "  \"max_position_embeddings\": 512,\n",
              "  \"model_type\": \"bert\",\n",
              "  \"num_attention_heads\": 12,\n",
              "  \"num_hidden_layers\": 12,\n",
              "  \"pad_token_id\": 0,\n",
              "  \"position_embedding_type\": \"absolute\",\n",
              "  \"transformers_version\": \"4.47.1\",\n",
              "  \"type_vocab_size\": 2,\n",
              "  \"use_cache\": true,\n",
              "  \"vocab_size\": 30522\n",
              "}"
            ]
          },
          "metadata": {},
          "execution_count": 26
        }
      ]
    },
    {
      "cell_type": "markdown",
      "source": [
        "#**Trainer**"
      ],
      "metadata": {
        "id": "vRSW4beot6dr"
      }
    },
    {
      "cell_type": "markdown",
      "source": [
        "##**Training Args**"
      ],
      "metadata": {
        "id": "d7ogA3-yst7A"
      }
    },
    {
      "cell_type": "code",
      "source": [
        "from transformers import TrainingArguments\n",
        "\n",
        "batch_size = 64\n",
        "training_dir = \"bert_base_train_dir\"\n",
        "\n",
        "training_args = TrainingArguments( output_dir=training_dir,\n",
        "                                  overwrite_output_dir = True,\n",
        "                                  num_train_epochs = 2,\n",
        "                                  learning_rate = 2e-5,\n",
        "                                  per_device_train_batch_size = batch_size,\n",
        "                                  per_device_eval_batch_size = batch_size,\n",
        "                                  weight_decay = 0.01,\n",
        "                                  evaluation_strategy = 'epoch',\n",
        "                                  disable_tqdm = False,\n",
        "                                  report_to=\"none\"\n",
        ")"
      ],
      "metadata": {
        "colab": {
          "base_uri": "https://localhost:8080/"
        },
        "id": "kUZoiXrYsf_m",
        "outputId": "0732dfa7-bf22-46bf-e3bb-7ca5dfeed864"
      },
      "execution_count": 32,
      "outputs": [
        {
          "output_type": "stream",
          "name": "stderr",
          "text": [
            "/usr/local/lib/python3.10/dist-packages/transformers/training_args.py:1575: FutureWarning: `evaluation_strategy` is deprecated and will be removed in version 4.46 of 🤗 Transformers. Use `eval_strategy` instead\n",
            "  warnings.warn(\n"
          ]
        }
      ]
    },
    {
      "cell_type": "code",
      "source": [
        "!pip install evaluate"
      ],
      "metadata": {
        "colab": {
          "base_uri": "https://localhost:8080/"
        },
        "id": "Z_LUK96JtVTM",
        "outputId": "9a5f390d-f151-4242-a3ee-0520efa9ebe8"
      },
      "execution_count": 28,
      "outputs": [
        {
          "output_type": "stream",
          "name": "stdout",
          "text": [
            "Collecting evaluate\n",
            "  Downloading evaluate-0.4.3-py3-none-any.whl.metadata (9.2 kB)\n",
            "Requirement already satisfied: datasets>=2.0.0 in /usr/local/lib/python3.10/dist-packages (from evaluate) (3.2.0)\n",
            "Requirement already satisfied: numpy>=1.17 in /usr/local/lib/python3.10/dist-packages (from evaluate) (1.26.4)\n",
            "Requirement already satisfied: dill in /usr/local/lib/python3.10/dist-packages (from evaluate) (0.3.8)\n",
            "Requirement already satisfied: pandas in /usr/local/lib/python3.10/dist-packages (from evaluate) (2.2.2)\n",
            "Requirement already satisfied: requests>=2.19.0 in /usr/local/lib/python3.10/dist-packages (from evaluate) (2.32.3)\n",
            "Requirement already satisfied: tqdm>=4.62.1 in /usr/local/lib/python3.10/dist-packages (from evaluate) (4.67.1)\n",
            "Requirement already satisfied: xxhash in /usr/local/lib/python3.10/dist-packages (from evaluate) (3.5.0)\n",
            "Requirement already satisfied: multiprocess in /usr/local/lib/python3.10/dist-packages (from evaluate) (0.70.16)\n",
            "Requirement already satisfied: fsspec>=2021.05.0 in /usr/local/lib/python3.10/dist-packages (from fsspec[http]>=2021.05.0->evaluate) (2024.9.0)\n",
            "Requirement already satisfied: huggingface-hub>=0.7.0 in /usr/local/lib/python3.10/dist-packages (from evaluate) (0.27.0)\n",
            "Requirement already satisfied: packaging in /usr/local/lib/python3.10/dist-packages (from evaluate) (24.2)\n",
            "Requirement already satisfied: filelock in /usr/local/lib/python3.10/dist-packages (from datasets>=2.0.0->evaluate) (3.16.1)\n",
            "Requirement already satisfied: pyarrow>=15.0.0 in /usr/local/lib/python3.10/dist-packages (from datasets>=2.0.0->evaluate) (17.0.0)\n",
            "Requirement already satisfied: aiohttp in /usr/local/lib/python3.10/dist-packages (from datasets>=2.0.0->evaluate) (3.11.10)\n",
            "Requirement already satisfied: pyyaml>=5.1 in /usr/local/lib/python3.10/dist-packages (from datasets>=2.0.0->evaluate) (6.0.2)\n",
            "Requirement already satisfied: typing-extensions>=3.7.4.3 in /usr/local/lib/python3.10/dist-packages (from huggingface-hub>=0.7.0->evaluate) (4.12.2)\n",
            "Requirement already satisfied: charset-normalizer<4,>=2 in /usr/local/lib/python3.10/dist-packages (from requests>=2.19.0->evaluate) (3.4.0)\n",
            "Requirement already satisfied: idna<4,>=2.5 in /usr/local/lib/python3.10/dist-packages (from requests>=2.19.0->evaluate) (3.10)\n",
            "Requirement already satisfied: urllib3<3,>=1.21.1 in /usr/local/lib/python3.10/dist-packages (from requests>=2.19.0->evaluate) (2.2.3)\n",
            "Requirement already satisfied: certifi>=2017.4.17 in /usr/local/lib/python3.10/dist-packages (from requests>=2.19.0->evaluate) (2024.12.14)\n",
            "Requirement already satisfied: python-dateutil>=2.8.2 in /usr/local/lib/python3.10/dist-packages (from pandas->evaluate) (2.8.2)\n",
            "Requirement already satisfied: pytz>=2020.1 in /usr/local/lib/python3.10/dist-packages (from pandas->evaluate) (2024.2)\n",
            "Requirement already satisfied: tzdata>=2022.7 in /usr/local/lib/python3.10/dist-packages (from pandas->evaluate) (2024.2)\n",
            "Requirement already satisfied: aiohappyeyeballs>=2.3.0 in /usr/local/lib/python3.10/dist-packages (from aiohttp->datasets>=2.0.0->evaluate) (2.4.4)\n",
            "Requirement already satisfied: aiosignal>=1.1.2 in /usr/local/lib/python3.10/dist-packages (from aiohttp->datasets>=2.0.0->evaluate) (1.3.2)\n",
            "Requirement already satisfied: async-timeout<6.0,>=4.0 in /usr/local/lib/python3.10/dist-packages (from aiohttp->datasets>=2.0.0->evaluate) (4.0.3)\n",
            "Requirement already satisfied: attrs>=17.3.0 in /usr/local/lib/python3.10/dist-packages (from aiohttp->datasets>=2.0.0->evaluate) (24.3.0)\n",
            "Requirement already satisfied: frozenlist>=1.1.1 in /usr/local/lib/python3.10/dist-packages (from aiohttp->datasets>=2.0.0->evaluate) (1.5.0)\n",
            "Requirement already satisfied: multidict<7.0,>=4.5 in /usr/local/lib/python3.10/dist-packages (from aiohttp->datasets>=2.0.0->evaluate) (6.1.0)\n",
            "Requirement already satisfied: propcache>=0.2.0 in /usr/local/lib/python3.10/dist-packages (from aiohttp->datasets>=2.0.0->evaluate) (0.2.1)\n",
            "Requirement already satisfied: yarl<2.0,>=1.17.0 in /usr/local/lib/python3.10/dist-packages (from aiohttp->datasets>=2.0.0->evaluate) (1.18.3)\n",
            "Requirement already satisfied: six>=1.5 in /usr/local/lib/python3.10/dist-packages (from python-dateutil>=2.8.2->pandas->evaluate) (1.17.0)\n",
            "Downloading evaluate-0.4.3-py3-none-any.whl (84 kB)\n",
            "\u001b[2K   \u001b[90m━━━━━━━━━━━━━━━━━━━━━━━━━━━━━━━━━━━━━━━━\u001b[0m \u001b[32m84.0/84.0 kB\u001b[0m \u001b[31m7.9 MB/s\u001b[0m eta \u001b[36m0:00:00\u001b[0m\n",
            "\u001b[?25hInstalling collected packages: evaluate\n",
            "Successfully installed evaluate-0.4.3\n"
          ]
        }
      ]
    },
    {
      "cell_type": "markdown",
      "source": [
        "##**Eval Metrics**"
      ],
      "metadata": {
        "id": "HsFDiIGHuV0O"
      }
    },
    {
      "cell_type": "code",
      "source": [
        "from sklearn.metrics import accuracy_score, f1_score\n",
        "\n",
        "def compute_metrics(pred):\n",
        "    labels = pred.label_ids\n",
        "    preds = pred.predictions.argmax(-1)\n",
        "\n",
        "    f1 = f1_score(labels, preds, average=\"weighted\")\n",
        "    acc = accuracy_score(labels, preds)\n",
        "\n",
        "    return {\"accuracy\": acc, \"f1\": f1}"
      ],
      "metadata": {
        "id": "t7kkY7t5tt7Z"
      },
      "execution_count": 29,
      "outputs": []
    },
    {
      "cell_type": "code",
      "source": [
        "from transformers import Trainer\n",
        "\n",
        "trainer = Trainer(model=model,\n",
        "                  args=training_args,\n",
        "                  compute_metrics=compute_metrics,\n",
        "                  train_dataset = imdb_encoded['train'],\n",
        "                  eval_dataset = imdb_encoded['validation'],\n",
        "                  tokenizer = tokenizer)"
      ],
      "metadata": {
        "colab": {
          "base_uri": "https://localhost:8080/"
        },
        "id": "nsY_VY1PtvYB",
        "outputId": "2b626622-1d5b-4683-9ee5-560b69bf0733"
      },
      "execution_count": 33,
      "outputs": [
        {
          "output_type": "stream",
          "name": "stderr",
          "text": [
            "<ipython-input-33-23922c5a90b5>:3: FutureWarning: `tokenizer` is deprecated and will be removed in version 5.0.0 for `Trainer.__init__`. Use `processing_class` instead.\n",
            "  trainer = Trainer(model=model,\n"
          ]
        }
      ]
    },
    {
      "cell_type": "code",
      "source": [
        "trainer.train()\n"
      ],
      "metadata": {
        "id": "S8hFMx2guGoY",
        "colab": {
          "base_uri": "https://localhost:8080/",
          "height": 173
        },
        "outputId": "4c19278f-506f-42e5-aa65-1b9500a6b76b"
      },
      "execution_count": 34,
      "outputs": [
        {
          "output_type": "display_data",
          "data": {
            "text/plain": [
              "<IPython.core.display.HTML object>"
            ],
            "text/html": [
              "\n",
              "    <div>\n",
              "      \n",
              "      <progress value='1474' max='1474' style='width:300px; height:20px; vertical-align: middle;'></progress>\n",
              "      [1474/1474 18:11, Epoch 2/2]\n",
              "    </div>\n",
              "    <table border=\"1\" class=\"dataframe\">\n",
              "  <thead>\n",
              " <tr style=\"text-align: left;\">\n",
              "      <th>Epoch</th>\n",
              "      <th>Training Loss</th>\n",
              "      <th>Validation Loss</th>\n",
              "      <th>Accuracy</th>\n",
              "      <th>F1</th>\n",
              "    </tr>\n",
              "  </thead>\n",
              "  <tbody>\n",
              "    <tr>\n",
              "      <td>1</td>\n",
              "      <td>0.252000</td>\n",
              "      <td>0.151614</td>\n",
              "      <td>0.940609</td>\n",
              "      <td>0.940547</td>\n",
              "    </tr>\n",
              "    <tr>\n",
              "      <td>2</td>\n",
              "      <td>0.153700</td>\n",
              "      <td>0.152472</td>\n",
              "      <td>0.948181</td>\n",
              "      <td>0.948215</td>\n",
              "    </tr>\n",
              "  </tbody>\n",
              "</table><p>"
            ]
          },
          "metadata": {}
        },
        {
          "output_type": "execute_result",
          "data": {
            "text/plain": [
              "TrainOutput(global_step=1474, training_loss=0.17432902528925862, metrics={'train_runtime': 1094.6894, 'train_samples_per_second': 86.132, 'train_steps_per_second': 1.347, 'total_flos': 3197933989050240.0, 'train_loss': 0.17432902528925862, 'epoch': 2.0})"
            ]
          },
          "metadata": {},
          "execution_count": 34
        }
      ]
    },
    {
      "cell_type": "markdown",
      "source": [
        "#**Model Evaluation**"
      ],
      "metadata": {
        "id": "4M7e_rwxuOlt"
      }
    },
    {
      "cell_type": "code",
      "source": [
        "preds_output = trainer.predict(imdb_encoded['test'])\n",
        "preds_output.metrics"
      ],
      "metadata": {
        "id": "KCWG4V1MuQhN",
        "colab": {
          "base_uri": "https://localhost:8080/",
          "height": 121
        },
        "outputId": "d3eff453-10a5-42bb-903d-7cf62e1dbe88"
      },
      "execution_count": 35,
      "outputs": [
        {
          "output_type": "display_data",
          "data": {
            "text/plain": [
              "<IPython.core.display.HTML object>"
            ],
            "text/html": []
          },
          "metadata": {}
        },
        {
          "output_type": "execute_result",
          "data": {
            "text/plain": [
              "{'test_loss': 0.1621757447719574,\n",
              " 'test_accuracy': 0.9469933184855234,\n",
              " 'test_f1': 0.9470006219477297,\n",
              " 'test_runtime': 52.0099,\n",
              " 'test_samples_per_second': 258.989,\n",
              " 'test_steps_per_second': 4.057}"
            ]
          },
          "metadata": {},
          "execution_count": 35
        }
      ]
    },
    {
      "cell_type": "code",
      "source": [
        "import numpy as np\n",
        "y_pred = np.argmax(preds_output.predictions, axis=1)\n",
        "y_true = imdb_encoded['test'][:]['label']"
      ],
      "metadata": {
        "id": "RUaUM_mDuzKk"
      },
      "execution_count": 36,
      "outputs": []
    },
    {
      "cell_type": "code",
      "source": [
        "from sklearn.metrics import classification_report\n",
        "print(classification_report(y_true, y_pred))"
      ],
      "metadata": {
        "id": "Kqmp0qMTudhv",
        "colab": {
          "base_uri": "https://localhost:8080/"
        },
        "outputId": "1ce6b05e-cf20-4fcb-a667-2457f2e0357d"
      },
      "execution_count": 37,
      "outputs": [
        {
          "output_type": "stream",
          "name": "stdout",
          "text": [
            "              precision    recall  f1-score   support\n",
            "\n",
            "           0       0.94      0.94      0.94      5956\n",
            "           1       0.95      0.95      0.95      7514\n",
            "\n",
            "    accuracy                           0.95     13470\n",
            "   macro avg       0.95      0.95      0.95     13470\n",
            "weighted avg       0.95      0.95      0.95     13470\n",
            "\n"
          ]
        }
      ]
    },
    {
      "cell_type": "markdown",
      "source": [
        "##**Confusion matrix**"
      ],
      "metadata": {
        "id": "rjE3nByGulUv"
      }
    },
    {
      "cell_type": "code",
      "source": [
        "# plot confusion matrix\n",
        "import seaborn as sns\n",
        "from sklearn.metrics import confusion_matrix\n",
        "import matplotlib.pyplot as plt"
      ],
      "metadata": {
        "id": "e0qKJ2b3ulAa"
      },
      "execution_count": 38,
      "outputs": []
    },
    {
      "cell_type": "code",
      "source": [
        "cm = confusion_matrix(y_true, y_pred)\n",
        "\n",
        "plt.figure(figsize=(5,5))\n",
        "sns.heatmap(cm, annot=True, xticklabels=label2id.keys(), yticklabels=label2id.keys(), fmt='d', cbar=False, cmap='Reds')\n",
        "plt.ylabel(\"Actual\")\n",
        "plt.xlabel(\"Predicted\")\n",
        "plt.show()"
      ],
      "metadata": {
        "id": "Ts0fDQImuk9D",
        "colab": {
          "base_uri": "https://localhost:8080/",
          "height": 465
        },
        "outputId": "782f736e-06c9-41b5-914f-2d095e2adcc6"
      },
      "execution_count": 39,
      "outputs": [
        {
          "output_type": "display_data",
          "data": {
            "text/plain": [
              "<Figure size 500x500 with 1 Axes>"
            ],
            "image/png": "[encoded data removed]"
          },
          "metadata": {}
        }
      ]
    },
    {
      "cell_type": "code",
      "source": [
        "text = \"I hate the selfishness in you\"\n",
        "\n",
        "def get_prediction(text):\n",
        "    input_encoded = tokenizer(text, return_tensors='pt').to(device)\n",
        "\n",
        "    with torch.no_grad():\n",
        "        outputs = model(**input_encoded)\n",
        "\n",
        "    logits = outputs.logits\n",
        "\n",
        "    pred = torch.argmax(logits, dim=-1).item()\n",
        "    return id2label[pred]\n",
        "\n",
        "get_prediction(text)"
      ],
      "metadata": {
        "colab": {
          "base_uri": "https://localhost:8080/",
          "height": 36
        },
        "id": "BKCES5jv_L_P",
        "outputId": "f6035e32-0330-4b7e-bdaa-ba6ea01a200b"
      },
      "execution_count": 40,
      "outputs": [
        {
          "output_type": "execute_result",
          "data": {
            "text/plain": [
              "'negative'"
            ],
            "application/vnd.google.colaboratory.intrinsic+json": {
              "type": "string"
            }
          },
          "metadata": {},
          "execution_count": 40
        }
      ]
    },
    {
      "cell_type": "code",
      "source": [
        "get_prediction(\"I hate any one who can hurt you\")"
      ],
      "metadata": {
        "colab": {
          "base_uri": "https://localhost:8080/",
          "height": 36
        },
        "id": "e76AGsCn_dHS",
        "outputId": "71a3ed27-4ca5-4414-b093-e92d48b8621f"
      },
      "execution_count": 41,
      "outputs": [
        {
          "output_type": "execute_result",
          "data": {
            "text/plain": [
              "'negative'"
            ],
            "application/vnd.google.colaboratory.intrinsic+json": {
              "type": "string"
            }
          },
          "metadata": {},
          "execution_count": 41
        }
      ]
    },
    {
      "cell_type": "code",
      "source": [
        "get_prediction(\"I hate any one, who hurts you\")"
      ],
      "metadata": {
        "colab": {
          "base_uri": "https://localhost:8080/",
          "height": 36
        },
        "id": "KHBiI_Xa_ixs",
        "outputId": "3f39e8dc-a8ee-44fe-984c-752d974bb8ba"
      },
      "execution_count": 44,
      "outputs": [
        {
          "output_type": "execute_result",
          "data": {
            "text/plain": [
              "'negative'"
            ],
            "application/vnd.google.colaboratory.intrinsic+json": {
              "type": "string"
            }
          },
          "metadata": {},
          "execution_count": 44
        }
      ]
    },
    {
      "cell_type": "code",
      "source": [
        "get_prediction(\"I love any one who is hurting me \")"
      ],
      "metadata": {
        "colab": {
          "base_uri": "https://localhost:8080/",
          "height": 36
        },
        "id": "S1tRKcj2D5HQ",
        "outputId": "28eec4ae-db69-45e0-ec3e-83bbfd218dae"
      },
      "execution_count": 47,
      "outputs": [
        {
          "output_type": "execute_result",
          "data": {
            "text/plain": [
              "'positive'"
            ],
            "application/vnd.google.colaboratory.intrinsic+json": {
              "type": "string"
            }
          },
          "metadata": {},
          "execution_count": 47
        }
      ]
    },
    {
      "cell_type": "code",
      "source": [
        "trainer.save_model(\"bert-base-uncased-sentiment-model-homonyms\")\n"
      ],
      "metadata": {
        "id": "-g-nlaJFEAu4"
      },
      "execution_count": 48,
      "outputs": []
    },
    {
      "cell_type": "code",
      "source": [
        "from google.colab import drive\n",
        "drive.mount('/content/drive')\n"
      ],
      "metadata": {
        "colab": {
          "base_uri": "https://localhost:8080/"
        },
        "id": "UnnOtsfhI9eQ",
        "outputId": "48c57e8d-4fe3-41b2-fa4c-be4973e69888"
      },
      "execution_count": 55,
      "outputs": [
        {
          "output_type": "stream",
          "name": "stdout",
          "text": [
            "Mounted at /content/drive\n"
          ]
        }
      ]
    },
    {
      "cell_type": "code",
      "source": [
        "trainer.save_model(\"/content/drive/MyDrive/NLP-models\")"
      ],
      "metadata": {
        "id": "TpzhziQAJPSc"
      },
      "execution_count": 56,
      "outputs": []
    },
    {
      "cell_type": "code",
      "source": [
        "from transformers import pipeline\n",
        "\n",
        "classifier = pipeline('text-classification', model= 'bert-base-uncased-sentiment-model-homonyms')\n",
        "\n",
        "classifier(['hello, how are you?', \"love you\", \"i am feeling low\"])"
      ],
      "metadata": {
        "colab": {
          "base_uri": "https://localhost:8080/"
        },
        "id": "i841lb7HFAKX",
        "outputId": "d776279d-f46e-4721-cf8d-f45216600c6b"
      },
      "execution_count": 51,
      "outputs": [
        {
          "output_type": "stream",
          "name": "stderr",
          "text": [
            "Device set to use cuda:0\n"
          ]
        },
        {
          "output_type": "execute_result",
          "data": {
            "text/plain": [
              "[{'label': 'positive', 'score': 0.9788574576377869},\n",
              " {'label': 'positive', 'score': 0.997329592704773},\n",
              " {'label': 'negative', 'score': 0.9956319332122803}]"
            ]
          },
          "metadata": {},
          "execution_count": 51
        }
      ]
    },
    {
      "cell_type": "code",
      "source": [
        "classifier(\"I hate any one who is hurting you\")"
      ],
      "metadata": {
        "colab": {
          "base_uri": "https://localhost:8080/"
        },
        "id": "u-eLrGGpFq5g",
        "outputId": "68418167-32ca-48da-cd12-df16320f8786"
      },
      "execution_count": 54,
      "outputs": [
        {
          "output_type": "execute_result",
          "data": {
            "text/plain": [
              "[{'label': 'negative', 'score': 0.921567440032959}]"
            ]
          },
          "metadata": {},
          "execution_count": 54
        }
      ]
    },
    {
      "cell_type": "code",
      "source": [],
      "metadata": {
        "id": "1KtPZ1NkFyHm"
      },
      "execution_count": null,
      "outputs": []
    }
  ]
}